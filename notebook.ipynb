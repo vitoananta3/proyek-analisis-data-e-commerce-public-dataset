{
  "cells": [
    {
      "cell_type": "markdown",
      "metadata": {
        "id": "PMixoPttDVZe"
      },
      "source": [
        "# Kriteria\n",
        "1. (**DONE**) Menggunakan Salah Satu dari Dataset yang Telah Disediakan\n",
        "2. Melakukan Seluruh Proses Analisis Data [**Min 2 pertanyaan bisnis dan 2 visualisasi data**]\n",
        "3. (**DONE**) Proses Analisis Dibuat dalam Notebook yang Rapi\n",
        "4. Membuat Dashboard Sederhana Menggunakan Streamlit"
      ]
    },
    {
      "cell_type": "markdown",
      "metadata": {
        "id": "XbAcFjY2FDMR"
      },
      "source": [
        "# Saran\n",
        "1. Memberikan dokumentasi menggunakan markdown/text cell pada notebook (.ipynb) untuk menjelaskan setiap tahapan analisis data.\n",
        "2. Membuat visualisasi data yang baik dan efektif dengan menerapkan prinsip desain dan integritas.\n",
        "3. Deploy dashboard ke dalam streamlit cloud.\n",
        "4. Menerapkan teknik analisis lanjutan seperti RFM analysis, geoanalysis, clustering, dll. (Tanpa menggunakan algoritma machine learning)."
      ]
    },
    {
      "cell_type": "markdown",
      "metadata": {
        "id": "p9UCK2XMI8jn"
      },
      "source": [
        "# Ketentuan Pengiriman Submission\n",
        "* Berkas submission yang dikirim merupakan folder proyek analisis data dalam format ZIP. Ia mengandung beberapa berkas seperti berikut.\n",
        "  1. Dataset yang digunakan dalam proses analisis data.\n",
        "  2. Berkas Jupyter Notebook atau Colab Notebook (.ipynb). Pastikan berkas notebook tersebut sudah dijalankan.\n",
        "  3. Berkas Python (.py) yang digunakan untuk membuat dashboard dengan streamlit.\n",
        "  4. Berkas requirements.txt yang berisi berbagai library yang digunakan dalam proses analisis data. Berikut contoh berkas requirements yang digunakan pada proyek latihan: requirements.txt. Anda bisa menggunakan library pipreqs atau pipreqsnb (notebook) untuk menghasilkan berkas requirements secara otomatis berdasarkan import yang dilakukan.\n",
        "  5. Berkas Markdown (README.md) yang berisi cara menjalankan dashboard (contoh: dicoding collection dashboard).\n",
        "\n",
        "* Jika Anda menerapkan saran pertama, pastikan Anda memberikan penjelasan singkat mengenai tahapan analisis yang dilakukan dan insight dari output analisis tersebut.\n",
        "* Jika Anda menerapkan saran kedua, pastikan seluruh visualisasi yang dibuat telah menerapkan prinsip desain dan integritas.\n",
        "* Jika Anda menerapkan saran ketiga, tuliskan tautan untuk dashboard tersebut dalam berkas url.txt.\n",
        "* Jika Anda menerapkan saran keempat, pastikan untuk menulis penjelasan terkait metode analisis yang digunakan dalam markdown/text cell pada berkas Jupyter Notebook atau Colab Notebook."
      ]
    },
    {
      "cell_type": "markdown",
      "metadata": {
        "id": "N6oAkhb0Jj_C"
      },
      "source": [
        "# Format Berkas Submission\n",
        "Berkas submission yang dikirimkan merupakan sebuah folder yang disimpan dalam bentuk ZIP. Folder berisi beberapa berkas seperti berikut.\n",
        "\n",
        "* Dataset yang digunakan dalam proses analisis data.\n",
        "* Berkas Jupyter Notebook atau Colab Notebook (.ipynb).\n",
        "* Berkas Python (.py).\n",
        "* Berkas Markdown (README.md).\n",
        "* Berkas requirements.txt.\n",
        "* Berkas url.txt (jika menerapkan saran ketiga).\n",
        "\n",
        "```\n",
        "submission\n",
        "├───dashboard\n",
        "| ├───main_data.csv\n",
        "| └───dashboard.py\n",
        "├───data\n",
        "| ├───data_1.csv\n",
        "| └───data_2.csv\n",
        "├───notebook.ipynb\n",
        "├───README.md\n",
        "└───requirements.txt\n",
        "└───url.txt\n",
        "```"
      ]
    },
    {
      "cell_type": "markdown",
      "metadata": {
        "id": "H9wADwK78DCz"
      },
      "source": [
        "# Proyek Analisis Data: E-Commerce Public Dataset\n",
        "- **Nama:** Vito Febrian Ananta\n",
        "- **Email:** vitobriannt@gmail.com\n",
        "- **ID Dicoding:** vitoananta3"
      ]
    },
    {
      "cell_type": "markdown",
      "metadata": {
        "id": "eE0raob58DC0"
      },
      "source": [
        "## Menentukan Pertanyaan Bisnis"
      ]
    },
    {
      "cell_type": "markdown",
      "metadata": {
        "id": "GmQeQ5YF8DC0"
      },
      "source": [
        "1. Berapa total pendapatan per bulan? (Untuk mengetahui pendapatan dan prediksi perkembangan perusahaan) (Prediction)\n",
        "\n",
        "2. Bagaimana performa produk yang dijual berdasarkan kategorinya? (Untuk mengetahui kualitas produk yang dijual dan apa yang perlu dikembangkan)\n",
        "\n",
        "3. Bagaimana performa waktu pengiriman? (Untuk dapat mengoptimasi waktu pengiriman)\n",
        "\n",
        "4. Bagaimana demografi pelanggan? (Untuk mengetahui karakteristik pelanngan) (RFM)"
      ]
    },
    {
      "cell_type": "markdown",
      "metadata": {
        "id": "H-z4QGlO8DC1"
      },
      "source": [
        "## Import Semua Packages/Library yang Digunakan"
      ]
    },
    {
      "cell_type": "code",
      "execution_count": 1244,
      "metadata": {
        "id": "FVYwaObI8DC1"
      },
      "outputs": [],
      "source": [
        "import pandas as pd\n",
        "import numpy as np\n",
        "import matplotlib.pyplot as plt\n",
        "import matplotlib.ticker as ticker\n",
        "import seaborn as sns\n"
      ]
    },
    {
      "cell_type": "markdown",
      "metadata": {
        "id": "h_Sh51Xy8DC1"
      },
      "source": [
        "## Data Wrangling"
      ]
    },
    {
      "cell_type": "markdown",
      "metadata": {
        "id": "sXU2GBYu8DC1"
      },
      "source": [
        "### Gathering Data"
      ]
    },
    {
      "cell_type": "markdown",
      "metadata": {},
      "source": [
        "Import CSVs"
      ]
    },
    {
      "cell_type": "code",
      "execution_count": 1245,
      "metadata": {
        "id": "zjCBk1BI8DC1"
      },
      "outputs": [],
      "source": [
        "customers_df = pd.read_csv('data/customers_dataset.csv')\n",
        "geolocation_df = pd.read_csv('data/geolocation_dataset.csv')\n",
        "order_items_df = pd.read_csv('data/order_items_dataset.csv')\n",
        "order_payments_df = pd.read_csv('data/order_payments_dataset.csv')\n",
        "order_reviews_df = pd.read_csv('data/order_reviews_dataset.csv')\n",
        "orders_df = pd.read_csv('data/orders_dataset.csv')\n",
        "product_category_name_translation_df = pd.read_csv('data/product_category_name_translation.csv')\n",
        "products_df = pd.read_csv('data/products_dataset.csv')\n",
        "sellers_df = pd.read_csv('data/sellers_dataset.csv')"
      ]
    },
    {
      "cell_type": "markdown",
      "metadata": {},
      "source": [
        "Check: Imported data"
      ]
    },
    {
      "cell_type": "code",
      "execution_count": 1246,
      "metadata": {},
      "outputs": [
        {
          "data": {
            "text/html": [
              "<div>\n",
              "<style scoped>\n",
              "    .dataframe tbody tr th:only-of-type {\n",
              "        vertical-align: middle;\n",
              "    }\n",
              "\n",
              "    .dataframe tbody tr th {\n",
              "        vertical-align: top;\n",
              "    }\n",
              "\n",
              "    .dataframe thead th {\n",
              "        text-align: right;\n",
              "    }\n",
              "</style>\n",
              "<table border=\"1\" class=\"dataframe\">\n",
              "  <thead>\n",
              "    <tr style=\"text-align: right;\">\n",
              "      <th></th>\n",
              "      <th>customer_id</th>\n",
              "      <th>customer_unique_id</th>\n",
              "      <th>customer_zip_code_prefix</th>\n",
              "      <th>customer_city</th>\n",
              "      <th>customer_state</th>\n",
              "    </tr>\n",
              "  </thead>\n",
              "  <tbody>\n",
              "    <tr>\n",
              "      <th>0</th>\n",
              "      <td>06b8999e2fba1a1fbc88172c00ba8bc7</td>\n",
              "      <td>861eff4711a542e4b93843c6dd7febb0</td>\n",
              "      <td>14409</td>\n",
              "      <td>franca</td>\n",
              "      <td>SP</td>\n",
              "    </tr>\n",
              "    <tr>\n",
              "      <th>1</th>\n",
              "      <td>18955e83d337fd6b2def6b18a428ac77</td>\n",
              "      <td>290c77bc529b7ac935b93aa66c333dc3</td>\n",
              "      <td>9790</td>\n",
              "      <td>sao bernardo do campo</td>\n",
              "      <td>SP</td>\n",
              "    </tr>\n",
              "    <tr>\n",
              "      <th>2</th>\n",
              "      <td>4e7b3e00288586ebd08712fdd0374a03</td>\n",
              "      <td>060e732b5b29e8181a18229c7b0b2b5e</td>\n",
              "      <td>1151</td>\n",
              "      <td>sao paulo</td>\n",
              "      <td>SP</td>\n",
              "    </tr>\n",
              "    <tr>\n",
              "      <th>3</th>\n",
              "      <td>b2b6027bc5c5109e529d4dc6358b12c3</td>\n",
              "      <td>259dac757896d24d7702b9acbbff3f3c</td>\n",
              "      <td>8775</td>\n",
              "      <td>mogi das cruzes</td>\n",
              "      <td>SP</td>\n",
              "    </tr>\n",
              "    <tr>\n",
              "      <th>4</th>\n",
              "      <td>4f2d8ab171c80ec8364f7c12e735b23ad</td>\n",
              "      <td>345ecd01c38d18a9036ed96c73b8d066</td>\n",
              "      <td>13056</td>\n",
              "      <td>campinas</td>\n",
              "      <td>SP</td>\n",
              "    </tr>\n",
              "  </tbody>\n",
              "</table>\n",
              "</div>"
            ],
            "text/plain": [
              "                         customer_id                customer_unique_id   \n",
              "0   06b8999e2fba1a1fbc88172c00ba8bc7  861eff4711a542e4b93843c6dd7febb0  \\\n",
              "1   18955e83d337fd6b2def6b18a428ac77  290c77bc529b7ac935b93aa66c333dc3   \n",
              "2   4e7b3e00288586ebd08712fdd0374a03  060e732b5b29e8181a18229c7b0b2b5e   \n",
              "3   b2b6027bc5c5109e529d4dc6358b12c3  259dac757896d24d7702b9acbbff3f3c   \n",
              "4  4f2d8ab171c80ec8364f7c12e735b23ad  345ecd01c38d18a9036ed96c73b8d066   \n",
              "\n",
              "   customer_zip_code_prefix          customer_city customer_state  \n",
              "0                     14409                 franca             SP  \n",
              "1                      9790  sao bernardo do campo             SP  \n",
              "2                      1151              sao paulo             SP  \n",
              "3                      8775        mogi das cruzes             SP  \n",
              "4                     13056               campinas             SP  "
            ]
          },
          "execution_count": 1246,
          "metadata": {},
          "output_type": "execute_result"
        }
      ],
      "source": [
        "customers_df.head()"
      ]
    },
    {
      "cell_type": "code",
      "execution_count": 1247,
      "metadata": {},
      "outputs": [
        {
          "data": {
            "text/html": [
              "<div>\n",
              "<style scoped>\n",
              "    .dataframe tbody tr th:only-of-type {\n",
              "        vertical-align: middle;\n",
              "    }\n",
              "\n",
              "    .dataframe tbody tr th {\n",
              "        vertical-align: top;\n",
              "    }\n",
              "\n",
              "    .dataframe thead th {\n",
              "        text-align: right;\n",
              "    }\n",
              "</style>\n",
              "<table border=\"1\" class=\"dataframe\">\n",
              "  <thead>\n",
              "    <tr style=\"text-align: right;\">\n",
              "      <th></th>\n",
              "      <th>geolocation_zip_code_prefix</th>\n",
              "      <th>geolocation_lat</th>\n",
              "      <th>geolocation_lng</th>\n",
              "      <th>geolocation_city</th>\n",
              "      <th>geolocation_state</th>\n",
              "    </tr>\n",
              "  </thead>\n",
              "  <tbody>\n",
              "    <tr>\n",
              "      <th>0</th>\n",
              "      <td>1037</td>\n",
              "      <td>-23.545621</td>\n",
              "      <td>-46.639292</td>\n",
              "      <td>sao paulo</td>\n",
              "      <td>SP</td>\n",
              "    </tr>\n",
              "    <tr>\n",
              "      <th>1</th>\n",
              "      <td>1046</td>\n",
              "      <td>-23.546081</td>\n",
              "      <td>-46.644820</td>\n",
              "      <td>sao paulo</td>\n",
              "      <td>SP</td>\n",
              "    </tr>\n",
              "    <tr>\n",
              "      <th>2</th>\n",
              "      <td>1046</td>\n",
              "      <td>-23.546129</td>\n",
              "      <td>-46.642951</td>\n",
              "      <td>sao paulo</td>\n",
              "      <td>SP</td>\n",
              "    </tr>\n",
              "    <tr>\n",
              "      <th>3</th>\n",
              "      <td>1041</td>\n",
              "      <td>-23.544392</td>\n",
              "      <td>-46.639499</td>\n",
              "      <td>sao paulo</td>\n",
              "      <td>SP</td>\n",
              "    </tr>\n",
              "    <tr>\n",
              "      <th>4</th>\n",
              "      <td>1035</td>\n",
              "      <td>-23.541578</td>\n",
              "      <td>-46.641607</td>\n",
              "      <td>sao paulo</td>\n",
              "      <td>SP</td>\n",
              "    </tr>\n",
              "  </tbody>\n",
              "</table>\n",
              "</div>"
            ],
            "text/plain": [
              "   geolocation_zip_code_prefix  geolocation_lat  geolocation_lng   \n",
              "0                         1037       -23.545621       -46.639292  \\\n",
              "1                         1046       -23.546081       -46.644820   \n",
              "2                         1046       -23.546129       -46.642951   \n",
              "3                         1041       -23.544392       -46.639499   \n",
              "4                         1035       -23.541578       -46.641607   \n",
              "\n",
              "  geolocation_city geolocation_state  \n",
              "0        sao paulo                SP  \n",
              "1        sao paulo                SP  \n",
              "2        sao paulo                SP  \n",
              "3        sao paulo                SP  \n",
              "4        sao paulo                SP  "
            ]
          },
          "execution_count": 1247,
          "metadata": {},
          "output_type": "execute_result"
        }
      ],
      "source": [
        "geolocation_df.head()"
      ]
    },
    {
      "cell_type": "code",
      "execution_count": 1248,
      "metadata": {},
      "outputs": [
        {
          "data": {
            "text/html": [
              "<div>\n",
              "<style scoped>\n",
              "    .dataframe tbody tr th:only-of-type {\n",
              "        vertical-align: middle;\n",
              "    }\n",
              "\n",
              "    .dataframe tbody tr th {\n",
              "        vertical-align: top;\n",
              "    }\n",
              "\n",
              "    .dataframe thead th {\n",
              "        text-align: right;\n",
              "    }\n",
              "</style>\n",
              "<table border=\"1\" class=\"dataframe\">\n",
              "  <thead>\n",
              "    <tr style=\"text-align: right;\">\n",
              "      <th></th>\n",
              "      <th>order_id</th>\n",
              "      <th>order_item_id</th>\n",
              "      <th>product_id</th>\n",
              "      <th>seller_id</th>\n",
              "      <th>shipping_limit_date</th>\n",
              "      <th>price</th>\n",
              "      <th>freight_value</th>\n",
              "    </tr>\n",
              "  </thead>\n",
              "  <tbody>\n",
              "    <tr>\n",
              "      <th>0</th>\n",
              "      <td>00010242fe8c5a6d1ba2dd792cb16214</td>\n",
              "      <td>1</td>\n",
              "      <td>4244733e06e7ecb4970a6e2683c13e61</td>\n",
              "      <td>48436dade18ac8b2bce089ec2a041202</td>\n",
              "      <td>2017-09-19 09:45:35</td>\n",
              "      <td>58.90</td>\n",
              "      <td>13.29</td>\n",
              "    </tr>\n",
              "    <tr>\n",
              "      <th>1</th>\n",
              "      <td>00018f77f2f0320c557190d7a144bdd3</td>\n",
              "      <td>1</td>\n",
              "      <td>e5f2d52b802189ee658865ca93d83a8f</td>\n",
              "      <td>dd7ddc04e1b6c2c614352b383efe2d36</td>\n",
              "      <td>2017-05-03 11:05:13</td>\n",
              "      <td>239.90</td>\n",
              "      <td>19.93</td>\n",
              "    </tr>\n",
              "    <tr>\n",
              "      <th>2</th>\n",
              "      <td>000229ec398224ef6ca0657da4fc703e</td>\n",
              "      <td>1</td>\n",
              "      <td>c777355d18b72b67abbeef9df44fd0fd</td>\n",
              "      <td>5b51032eddd242adc84c38acab88f23d</td>\n",
              "      <td>2018-01-18 14:48:30</td>\n",
              "      <td>199.00</td>\n",
              "      <td>17.87</td>\n",
              "    </tr>\n",
              "    <tr>\n",
              "      <th>3</th>\n",
              "      <td>00024acbcdf0a6daa1e931b038114c75</td>\n",
              "      <td>1</td>\n",
              "      <td>7634da152a4610f1595efa32f14722fc</td>\n",
              "      <td>9d7a1d34a5052409006425275ba1c2b4</td>\n",
              "      <td>2018-08-15 10:10:18</td>\n",
              "      <td>12.99</td>\n",
              "      <td>12.79</td>\n",
              "    </tr>\n",
              "    <tr>\n",
              "      <th>4</th>\n",
              "      <td>00042b26cf59d7ce69dfabb4e55b4fd9</td>\n",
              "      <td>1</td>\n",
              "      <td>ac6c3623068f30de03045865e4e10089</td>\n",
              "      <td>df560393f3a51e74553ab94004ba5c87</td>\n",
              "      <td>2017-02-13 13:57:51</td>\n",
              "      <td>199.90</td>\n",
              "      <td>18.14</td>\n",
              "    </tr>\n",
              "  </tbody>\n",
              "</table>\n",
              "</div>"
            ],
            "text/plain": [
              "                           order_id  order_item_id   \n",
              "0  00010242fe8c5a6d1ba2dd792cb16214              1  \\\n",
              "1  00018f77f2f0320c557190d7a144bdd3              1   \n",
              "2  000229ec398224ef6ca0657da4fc703e              1   \n",
              "3  00024acbcdf0a6daa1e931b038114c75              1   \n",
              "4  00042b26cf59d7ce69dfabb4e55b4fd9              1   \n",
              "\n",
              "                         product_id                         seller_id   \n",
              "0  4244733e06e7ecb4970a6e2683c13e61  48436dade18ac8b2bce089ec2a041202  \\\n",
              "1  e5f2d52b802189ee658865ca93d83a8f  dd7ddc04e1b6c2c614352b383efe2d36   \n",
              "2  c777355d18b72b67abbeef9df44fd0fd  5b51032eddd242adc84c38acab88f23d   \n",
              "3  7634da152a4610f1595efa32f14722fc  9d7a1d34a5052409006425275ba1c2b4   \n",
              "4  ac6c3623068f30de03045865e4e10089  df560393f3a51e74553ab94004ba5c87   \n",
              "\n",
              "   shipping_limit_date   price  freight_value  \n",
              "0  2017-09-19 09:45:35   58.90          13.29  \n",
              "1  2017-05-03 11:05:13  239.90          19.93  \n",
              "2  2018-01-18 14:48:30  199.00          17.87  \n",
              "3  2018-08-15 10:10:18   12.99          12.79  \n",
              "4  2017-02-13 13:57:51  199.90          18.14  "
            ]
          },
          "execution_count": 1248,
          "metadata": {},
          "output_type": "execute_result"
        }
      ],
      "source": [
        "order_items_df.head()"
      ]
    },
    {
      "cell_type": "code",
      "execution_count": 1249,
      "metadata": {},
      "outputs": [
        {
          "data": {
            "text/html": [
              "<div>\n",
              "<style scoped>\n",
              "    .dataframe tbody tr th:only-of-type {\n",
              "        vertical-align: middle;\n",
              "    }\n",
              "\n",
              "    .dataframe tbody tr th {\n",
              "        vertical-align: top;\n",
              "    }\n",
              "\n",
              "    .dataframe thead th {\n",
              "        text-align: right;\n",
              "    }\n",
              "</style>\n",
              "<table border=\"1\" class=\"dataframe\">\n",
              "  <thead>\n",
              "    <tr style=\"text-align: right;\">\n",
              "      <th></th>\n",
              "      <th>order_id</th>\n",
              "      <th>payment_sequential</th>\n",
              "      <th>payment_type</th>\n",
              "      <th>payment_installments</th>\n",
              "      <th>payment_value</th>\n",
              "    </tr>\n",
              "  </thead>\n",
              "  <tbody>\n",
              "    <tr>\n",
              "      <th>0</th>\n",
              "      <td>b81ef226f3fe1789b1e8b2acac839d17</td>\n",
              "      <td>1</td>\n",
              "      <td>credit_card</td>\n",
              "      <td>8</td>\n",
              "      <td>99.33</td>\n",
              "    </tr>\n",
              "    <tr>\n",
              "      <th>1</th>\n",
              "      <td>a9810da82917af2d9aefd1278f1dcfa0</td>\n",
              "      <td>1</td>\n",
              "      <td>credit_card</td>\n",
              "      <td>1</td>\n",
              "      <td>24.39</td>\n",
              "    </tr>\n",
              "    <tr>\n",
              "      <th>2</th>\n",
              "      <td>25e8ea4e93396b6fa0d3dd708e76c1bd</td>\n",
              "      <td>1</td>\n",
              "      <td>credit_card</td>\n",
              "      <td>1</td>\n",
              "      <td>65.71</td>\n",
              "    </tr>\n",
              "    <tr>\n",
              "      <th>3</th>\n",
              "      <td>ba78997921bbcdc1373bb41e913ab953</td>\n",
              "      <td>1</td>\n",
              "      <td>credit_card</td>\n",
              "      <td>8</td>\n",
              "      <td>107.78</td>\n",
              "    </tr>\n",
              "    <tr>\n",
              "      <th>4</th>\n",
              "      <td>42fdf880ba16b47b59251dd489d4441a</td>\n",
              "      <td>1</td>\n",
              "      <td>credit_card</td>\n",
              "      <td>2</td>\n",
              "      <td>128.45</td>\n",
              "    </tr>\n",
              "  </tbody>\n",
              "</table>\n",
              "</div>"
            ],
            "text/plain": [
              "                           order_id  payment_sequential payment_type   \n",
              "0  b81ef226f3fe1789b1e8b2acac839d17                   1  credit_card  \\\n",
              "1  a9810da82917af2d9aefd1278f1dcfa0                   1  credit_card   \n",
              "2  25e8ea4e93396b6fa0d3dd708e76c1bd                   1  credit_card   \n",
              "3  ba78997921bbcdc1373bb41e913ab953                   1  credit_card   \n",
              "4  42fdf880ba16b47b59251dd489d4441a                   1  credit_card   \n",
              "\n",
              "   payment_installments  payment_value  \n",
              "0                     8          99.33  \n",
              "1                     1          24.39  \n",
              "2                     1          65.71  \n",
              "3                     8         107.78  \n",
              "4                     2         128.45  "
            ]
          },
          "execution_count": 1249,
          "metadata": {},
          "output_type": "execute_result"
        }
      ],
      "source": [
        "order_payments_df.head()"
      ]
    },
    {
      "cell_type": "code",
      "execution_count": 1250,
      "metadata": {},
      "outputs": [
        {
          "data": {
            "text/html": [
              "<div>\n",
              "<style scoped>\n",
              "    .dataframe tbody tr th:only-of-type {\n",
              "        vertical-align: middle;\n",
              "    }\n",
              "\n",
              "    .dataframe tbody tr th {\n",
              "        vertical-align: top;\n",
              "    }\n",
              "\n",
              "    .dataframe thead th {\n",
              "        text-align: right;\n",
              "    }\n",
              "</style>\n",
              "<table border=\"1\" class=\"dataframe\">\n",
              "  <thead>\n",
              "    <tr style=\"text-align: right;\">\n",
              "      <th></th>\n",
              "      <th>review_id</th>\n",
              "      <th>order_id</th>\n",
              "      <th>review_score</th>\n",
              "      <th>review_comment_title</th>\n",
              "      <th>review_comment_message</th>\n",
              "      <th>review_creation_date</th>\n",
              "      <th>review_answer_timestamp</th>\n",
              "    </tr>\n",
              "  </thead>\n",
              "  <tbody>\n",
              "    <tr>\n",
              "      <th>0</th>\n",
              "      <td>7bc2406110b926393aa56f80a40eba40</td>\n",
              "      <td>73fc7af87114b39712e6da79b0a377eb</td>\n",
              "      <td>4</td>\n",
              "      <td>NaN</td>\n",
              "      <td>NaN</td>\n",
              "      <td>2018-01-18 00:00:00</td>\n",
              "      <td>2018-01-18 21:46:59</td>\n",
              "    </tr>\n",
              "    <tr>\n",
              "      <th>1</th>\n",
              "      <td>80e641a11e56f04c1ad469d5645fdfde</td>\n",
              "      <td>a548910a1c6147796b98fdf73dbeba33</td>\n",
              "      <td>5</td>\n",
              "      <td>NaN</td>\n",
              "      <td>NaN</td>\n",
              "      <td>2018-03-10 00:00:00</td>\n",
              "      <td>2018-03-11 03:05:13</td>\n",
              "    </tr>\n",
              "    <tr>\n",
              "      <th>2</th>\n",
              "      <td>228ce5500dc1d8e020d8d1322874b6f0</td>\n",
              "      <td>f9e4b658b201a9f2ecdecbb34bed034b</td>\n",
              "      <td>5</td>\n",
              "      <td>NaN</td>\n",
              "      <td>NaN</td>\n",
              "      <td>2018-02-17 00:00:00</td>\n",
              "      <td>2018-02-18 14:36:24</td>\n",
              "    </tr>\n",
              "    <tr>\n",
              "      <th>3</th>\n",
              "      <td>e64fb393e7b32834bb789ff8bb30750e</td>\n",
              "      <td>658677c97b385a9be170737859d3511b</td>\n",
              "      <td>5</td>\n",
              "      <td>NaN</td>\n",
              "      <td>Recebi bem antes do prazo estipulado.</td>\n",
              "      <td>2017-04-21 00:00:00</td>\n",
              "      <td>2017-04-21 22:02:06</td>\n",
              "    </tr>\n",
              "    <tr>\n",
              "      <th>4</th>\n",
              "      <td>f7c4243c7fe1938f181bec41a392bdeb</td>\n",
              "      <td>8e6bfb81e283fa7e4f11123a3fb894f1</td>\n",
              "      <td>5</td>\n",
              "      <td>NaN</td>\n",
              "      <td>Parabéns lojas lannister adorei comprar pela I...</td>\n",
              "      <td>2018-03-01 00:00:00</td>\n",
              "      <td>2018-03-02 10:26:53</td>\n",
              "    </tr>\n",
              "  </tbody>\n",
              "</table>\n",
              "</div>"
            ],
            "text/plain": [
              "                          review_id                          order_id   \n",
              "0  7bc2406110b926393aa56f80a40eba40  73fc7af87114b39712e6da79b0a377eb  \\\n",
              "1  80e641a11e56f04c1ad469d5645fdfde  a548910a1c6147796b98fdf73dbeba33   \n",
              "2  228ce5500dc1d8e020d8d1322874b6f0  f9e4b658b201a9f2ecdecbb34bed034b   \n",
              "3  e64fb393e7b32834bb789ff8bb30750e  658677c97b385a9be170737859d3511b   \n",
              "4  f7c4243c7fe1938f181bec41a392bdeb  8e6bfb81e283fa7e4f11123a3fb894f1   \n",
              "\n",
              "   review_score review_comment_title   \n",
              "0             4                  NaN  \\\n",
              "1             5                  NaN   \n",
              "2             5                  NaN   \n",
              "3             5                  NaN   \n",
              "4             5                  NaN   \n",
              "\n",
              "                              review_comment_message review_creation_date   \n",
              "0                                                NaN  2018-01-18 00:00:00  \\\n",
              "1                                                NaN  2018-03-10 00:00:00   \n",
              "2                                                NaN  2018-02-17 00:00:00   \n",
              "3              Recebi bem antes do prazo estipulado.  2017-04-21 00:00:00   \n",
              "4  Parabéns lojas lannister adorei comprar pela I...  2018-03-01 00:00:00   \n",
              "\n",
              "  review_answer_timestamp  \n",
              "0     2018-01-18 21:46:59  \n",
              "1     2018-03-11 03:05:13  \n",
              "2     2018-02-18 14:36:24  \n",
              "3     2017-04-21 22:02:06  \n",
              "4     2018-03-02 10:26:53  "
            ]
          },
          "execution_count": 1250,
          "metadata": {},
          "output_type": "execute_result"
        }
      ],
      "source": [
        "order_reviews_df.head()"
      ]
    },
    {
      "cell_type": "code",
      "execution_count": 1251,
      "metadata": {},
      "outputs": [
        {
          "data": {
            "text/html": [
              "<div>\n",
              "<style scoped>\n",
              "    .dataframe tbody tr th:only-of-type {\n",
              "        vertical-align: middle;\n",
              "    }\n",
              "\n",
              "    .dataframe tbody tr th {\n",
              "        vertical-align: top;\n",
              "    }\n",
              "\n",
              "    .dataframe thead th {\n",
              "        text-align: right;\n",
              "    }\n",
              "</style>\n",
              "<table border=\"1\" class=\"dataframe\">\n",
              "  <thead>\n",
              "    <tr style=\"text-align: right;\">\n",
              "      <th></th>\n",
              "      <th>order_id</th>\n",
              "      <th>customer_id</th>\n",
              "      <th>order_status</th>\n",
              "      <th>order_purchase_timestamp</th>\n",
              "      <th>order_approved_at</th>\n",
              "      <th>order_delivered_carrier_date</th>\n",
              "      <th>order_delivered_customer_date</th>\n",
              "      <th>order_estimated_delivery_date</th>\n",
              "    </tr>\n",
              "  </thead>\n",
              "  <tbody>\n",
              "    <tr>\n",
              "      <th>0</th>\n",
              "      <td>e481f51cbdc54678b7cc49136f2d6af7</td>\n",
              "      <td>9ef432eb6251297304e76186b10a928d</td>\n",
              "      <td>delivered</td>\n",
              "      <td>2017-10-02 10:56:33</td>\n",
              "      <td>2017-10-02 11:07:15</td>\n",
              "      <td>2017-10-04 19:55:00</td>\n",
              "      <td>2017-10-10 21:25:13</td>\n",
              "      <td>2017-10-18 00:00:00</td>\n",
              "    </tr>\n",
              "    <tr>\n",
              "      <th>1</th>\n",
              "      <td>53cdb2fc8bc7dce0b6741e2150273451</td>\n",
              "      <td>b0830fb4747a6c6d20dea0b8c802d7ef</td>\n",
              "      <td>delivered</td>\n",
              "      <td>2018-07-24 20:41:37</td>\n",
              "      <td>2018-07-26 03:24:27</td>\n",
              "      <td>2018-07-26 14:31:00</td>\n",
              "      <td>2018-08-07 15:27:45</td>\n",
              "      <td>2018-08-13 00:00:00</td>\n",
              "    </tr>\n",
              "    <tr>\n",
              "      <th>2</th>\n",
              "      <td>47770eb9100c2d0c44946d9cf07ec65d</td>\n",
              "      <td>41ce2a54c0b03bf3443c3d931a367089</td>\n",
              "      <td>delivered</td>\n",
              "      <td>2018-08-08 08:38:49</td>\n",
              "      <td>2018-08-08 08:55:23</td>\n",
              "      <td>2018-08-08 13:50:00</td>\n",
              "      <td>2018-08-17 18:06:29</td>\n",
              "      <td>2018-09-04 00:00:00</td>\n",
              "    </tr>\n",
              "    <tr>\n",
              "      <th>3</th>\n",
              "      <td>949d5b44dbf5de918fe9c16f97b45f8a</td>\n",
              "      <td>f88197465ea7920adcdbec7375364d82</td>\n",
              "      <td>delivered</td>\n",
              "      <td>2017-11-18 19:28:06</td>\n",
              "      <td>2017-11-18 19:45:59</td>\n",
              "      <td>2017-11-22 13:39:59</td>\n",
              "      <td>2017-12-02 00:28:42</td>\n",
              "      <td>2017-12-15 00:00:00</td>\n",
              "    </tr>\n",
              "    <tr>\n",
              "      <th>4</th>\n",
              "      <td>ad21c59c0840e6cb83a9ceb5573f8159</td>\n",
              "      <td>8ab97904e6daea8866dbdbc4fb7aad2c</td>\n",
              "      <td>delivered</td>\n",
              "      <td>2018-02-13 21:18:39</td>\n",
              "      <td>2018-02-13 22:20:29</td>\n",
              "      <td>2018-02-14 19:46:34</td>\n",
              "      <td>2018-02-16 18:17:02</td>\n",
              "      <td>2018-02-26 00:00:00</td>\n",
              "    </tr>\n",
              "  </tbody>\n",
              "</table>\n",
              "</div>"
            ],
            "text/plain": [
              "                           order_id                       customer_id   \n",
              "0  e481f51cbdc54678b7cc49136f2d6af7  9ef432eb6251297304e76186b10a928d  \\\n",
              "1  53cdb2fc8bc7dce0b6741e2150273451  b0830fb4747a6c6d20dea0b8c802d7ef   \n",
              "2  47770eb9100c2d0c44946d9cf07ec65d  41ce2a54c0b03bf3443c3d931a367089   \n",
              "3  949d5b44dbf5de918fe9c16f97b45f8a  f88197465ea7920adcdbec7375364d82   \n",
              "4  ad21c59c0840e6cb83a9ceb5573f8159  8ab97904e6daea8866dbdbc4fb7aad2c   \n",
              "\n",
              "  order_status order_purchase_timestamp    order_approved_at   \n",
              "0    delivered      2017-10-02 10:56:33  2017-10-02 11:07:15  \\\n",
              "1    delivered      2018-07-24 20:41:37  2018-07-26 03:24:27   \n",
              "2    delivered      2018-08-08 08:38:49  2018-08-08 08:55:23   \n",
              "3    delivered      2017-11-18 19:28:06  2017-11-18 19:45:59   \n",
              "4    delivered      2018-02-13 21:18:39  2018-02-13 22:20:29   \n",
              "\n",
              "  order_delivered_carrier_date order_delivered_customer_date   \n",
              "0          2017-10-04 19:55:00           2017-10-10 21:25:13  \\\n",
              "1          2018-07-26 14:31:00           2018-08-07 15:27:45   \n",
              "2          2018-08-08 13:50:00           2018-08-17 18:06:29   \n",
              "3          2017-11-22 13:39:59           2017-12-02 00:28:42   \n",
              "4          2018-02-14 19:46:34           2018-02-16 18:17:02   \n",
              "\n",
              "  order_estimated_delivery_date  \n",
              "0           2017-10-18 00:00:00  \n",
              "1           2018-08-13 00:00:00  \n",
              "2           2018-09-04 00:00:00  \n",
              "3           2017-12-15 00:00:00  \n",
              "4           2018-02-26 00:00:00  "
            ]
          },
          "execution_count": 1251,
          "metadata": {},
          "output_type": "execute_result"
        }
      ],
      "source": [
        "orders_df.head()"
      ]
    },
    {
      "cell_type": "code",
      "execution_count": 1252,
      "metadata": {},
      "outputs": [
        {
          "data": {
            "text/html": [
              "<div>\n",
              "<style scoped>\n",
              "    .dataframe tbody tr th:only-of-type {\n",
              "        vertical-align: middle;\n",
              "    }\n",
              "\n",
              "    .dataframe tbody tr th {\n",
              "        vertical-align: top;\n",
              "    }\n",
              "\n",
              "    .dataframe thead th {\n",
              "        text-align: right;\n",
              "    }\n",
              "</style>\n",
              "<table border=\"1\" class=\"dataframe\">\n",
              "  <thead>\n",
              "    <tr style=\"text-align: right;\">\n",
              "      <th></th>\n",
              "      <th>product_category_name</th>\n",
              "      <th>product_category_name_english</th>\n",
              "    </tr>\n",
              "  </thead>\n",
              "  <tbody>\n",
              "    <tr>\n",
              "      <th>0</th>\n",
              "      <td>beleza_saude</td>\n",
              "      <td>health_beauty</td>\n",
              "    </tr>\n",
              "    <tr>\n",
              "      <th>1</th>\n",
              "      <td>informatica_acessorios</td>\n",
              "      <td>computers_accessories</td>\n",
              "    </tr>\n",
              "    <tr>\n",
              "      <th>2</th>\n",
              "      <td>automotivo</td>\n",
              "      <td>auto</td>\n",
              "    </tr>\n",
              "    <tr>\n",
              "      <th>3</th>\n",
              "      <td>cama_mesa_banho</td>\n",
              "      <td>bed_bath_table</td>\n",
              "    </tr>\n",
              "    <tr>\n",
              "      <th>4</th>\n",
              "      <td>moveis_decoracao</td>\n",
              "      <td>furniture_decor</td>\n",
              "    </tr>\n",
              "  </tbody>\n",
              "</table>\n",
              "</div>"
            ],
            "text/plain": [
              "    product_category_name product_category_name_english\n",
              "0            beleza_saude                 health_beauty\n",
              "1  informatica_acessorios         computers_accessories\n",
              "2              automotivo                          auto\n",
              "3         cama_mesa_banho                bed_bath_table\n",
              "4        moveis_decoracao               furniture_decor"
            ]
          },
          "execution_count": 1252,
          "metadata": {},
          "output_type": "execute_result"
        }
      ],
      "source": [
        "product_category_name_translation_df.head()"
      ]
    },
    {
      "cell_type": "code",
      "execution_count": 1253,
      "metadata": {},
      "outputs": [
        {
          "data": {
            "text/html": [
              "<div>\n",
              "<style scoped>\n",
              "    .dataframe tbody tr th:only-of-type {\n",
              "        vertical-align: middle;\n",
              "    }\n",
              "\n",
              "    .dataframe tbody tr th {\n",
              "        vertical-align: top;\n",
              "    }\n",
              "\n",
              "    .dataframe thead th {\n",
              "        text-align: right;\n",
              "    }\n",
              "</style>\n",
              "<table border=\"1\" class=\"dataframe\">\n",
              "  <thead>\n",
              "    <tr style=\"text-align: right;\">\n",
              "      <th></th>\n",
              "      <th>product_id</th>\n",
              "      <th>product_category_name</th>\n",
              "      <th>product_name_lenght</th>\n",
              "      <th>product_description_lenght</th>\n",
              "      <th>product_photos_qty</th>\n",
              "      <th>product_weight_g</th>\n",
              "      <th>product_length_cm</th>\n",
              "      <th>product_height_cm</th>\n",
              "      <th>product_width_cm</th>\n",
              "    </tr>\n",
              "  </thead>\n",
              "  <tbody>\n",
              "    <tr>\n",
              "      <th>0</th>\n",
              "      <td>1e9e8ef04dbcff4541ed26657ea517e5</td>\n",
              "      <td>perfumaria</td>\n",
              "      <td>40.0</td>\n",
              "      <td>287.0</td>\n",
              "      <td>1.0</td>\n",
              "      <td>225.0</td>\n",
              "      <td>16.0</td>\n",
              "      <td>10.0</td>\n",
              "      <td>14.0</td>\n",
              "    </tr>\n",
              "    <tr>\n",
              "      <th>1</th>\n",
              "      <td>3aa071139cb16b67ca9e5dea641aaa2f</td>\n",
              "      <td>artes</td>\n",
              "      <td>44.0</td>\n",
              "      <td>276.0</td>\n",
              "      <td>1.0</td>\n",
              "      <td>1000.0</td>\n",
              "      <td>30.0</td>\n",
              "      <td>18.0</td>\n",
              "      <td>20.0</td>\n",
              "    </tr>\n",
              "    <tr>\n",
              "      <th>2</th>\n",
              "      <td>96bd76ec8810374ed1b65e291975717f</td>\n",
              "      <td>esporte_lazer</td>\n",
              "      <td>46.0</td>\n",
              "      <td>250.0</td>\n",
              "      <td>1.0</td>\n",
              "      <td>154.0</td>\n",
              "      <td>18.0</td>\n",
              "      <td>9.0</td>\n",
              "      <td>15.0</td>\n",
              "    </tr>\n",
              "    <tr>\n",
              "      <th>3</th>\n",
              "      <td>cef67bcfe19066a932b7673e239eb23d</td>\n",
              "      <td>bebes</td>\n",
              "      <td>27.0</td>\n",
              "      <td>261.0</td>\n",
              "      <td>1.0</td>\n",
              "      <td>371.0</td>\n",
              "      <td>26.0</td>\n",
              "      <td>4.0</td>\n",
              "      <td>26.0</td>\n",
              "    </tr>\n",
              "    <tr>\n",
              "      <th>4</th>\n",
              "      <td>9dc1a7de274444849c219cff195d0b71</td>\n",
              "      <td>utilidades_domesticas</td>\n",
              "      <td>37.0</td>\n",
              "      <td>402.0</td>\n",
              "      <td>4.0</td>\n",
              "      <td>625.0</td>\n",
              "      <td>20.0</td>\n",
              "      <td>17.0</td>\n",
              "      <td>13.0</td>\n",
              "    </tr>\n",
              "  </tbody>\n",
              "</table>\n",
              "</div>"
            ],
            "text/plain": [
              "                         product_id  product_category_name   \n",
              "0  1e9e8ef04dbcff4541ed26657ea517e5             perfumaria  \\\n",
              "1  3aa071139cb16b67ca9e5dea641aaa2f                  artes   \n",
              "2  96bd76ec8810374ed1b65e291975717f          esporte_lazer   \n",
              "3  cef67bcfe19066a932b7673e239eb23d                  bebes   \n",
              "4  9dc1a7de274444849c219cff195d0b71  utilidades_domesticas   \n",
              "\n",
              "   product_name_lenght  product_description_lenght  product_photos_qty   \n",
              "0                 40.0                       287.0                 1.0  \\\n",
              "1                 44.0                       276.0                 1.0   \n",
              "2                 46.0                       250.0                 1.0   \n",
              "3                 27.0                       261.0                 1.0   \n",
              "4                 37.0                       402.0                 4.0   \n",
              "\n",
              "   product_weight_g  product_length_cm  product_height_cm  product_width_cm  \n",
              "0             225.0               16.0               10.0              14.0  \n",
              "1            1000.0               30.0               18.0              20.0  \n",
              "2             154.0               18.0                9.0              15.0  \n",
              "3             371.0               26.0                4.0              26.0  \n",
              "4             625.0               20.0               17.0              13.0  "
            ]
          },
          "execution_count": 1253,
          "metadata": {},
          "output_type": "execute_result"
        }
      ],
      "source": [
        "products_df.head()"
      ]
    },
    {
      "cell_type": "code",
      "execution_count": 1254,
      "metadata": {},
      "outputs": [
        {
          "data": {
            "text/html": [
              "<div>\n",
              "<style scoped>\n",
              "    .dataframe tbody tr th:only-of-type {\n",
              "        vertical-align: middle;\n",
              "    }\n",
              "\n",
              "    .dataframe tbody tr th {\n",
              "        vertical-align: top;\n",
              "    }\n",
              "\n",
              "    .dataframe thead th {\n",
              "        text-align: right;\n",
              "    }\n",
              "</style>\n",
              "<table border=\"1\" class=\"dataframe\">\n",
              "  <thead>\n",
              "    <tr style=\"text-align: right;\">\n",
              "      <th></th>\n",
              "      <th>seller_id</th>\n",
              "      <th>seller_zip_code_prefix</th>\n",
              "      <th>seller_city</th>\n",
              "      <th>seller_state</th>\n",
              "    </tr>\n",
              "  </thead>\n",
              "  <tbody>\n",
              "    <tr>\n",
              "      <th>0</th>\n",
              "      <td>3442f8959a84dea7ee197c632cb2df15</td>\n",
              "      <td>13023</td>\n",
              "      <td>campinas</td>\n",
              "      <td>SP</td>\n",
              "    </tr>\n",
              "    <tr>\n",
              "      <th>1</th>\n",
              "      <td>d1b65fc7debc3361ea86b5f14c68d2e2</td>\n",
              "      <td>13844</td>\n",
              "      <td>mogi guacu</td>\n",
              "      <td>SP</td>\n",
              "    </tr>\n",
              "    <tr>\n",
              "      <th>2</th>\n",
              "      <td>ce3ad9de960102d0677a81f5d0bb7b2d</td>\n",
              "      <td>20031</td>\n",
              "      <td>rio de janeiro</td>\n",
              "      <td>RJ</td>\n",
              "    </tr>\n",
              "    <tr>\n",
              "      <th>3</th>\n",
              "      <td>c0f3eea2e14555b6faeea3dd58c1b1c3</td>\n",
              "      <td>4195</td>\n",
              "      <td>sao paulo</td>\n",
              "      <td>SP</td>\n",
              "    </tr>\n",
              "    <tr>\n",
              "      <th>4</th>\n",
              "      <td>51a04a8a6bdcb23deccc82b0b80742cf</td>\n",
              "      <td>12914</td>\n",
              "      <td>braganca paulista</td>\n",
              "      <td>SP</td>\n",
              "    </tr>\n",
              "  </tbody>\n",
              "</table>\n",
              "</div>"
            ],
            "text/plain": [
              "                          seller_id  seller_zip_code_prefix   \n",
              "0  3442f8959a84dea7ee197c632cb2df15                   13023  \\\n",
              "1  d1b65fc7debc3361ea86b5f14c68d2e2                   13844   \n",
              "2  ce3ad9de960102d0677a81f5d0bb7b2d                   20031   \n",
              "3  c0f3eea2e14555b6faeea3dd58c1b1c3                    4195   \n",
              "4  51a04a8a6bdcb23deccc82b0b80742cf                   12914   \n",
              "\n",
              "         seller_city seller_state  \n",
              "0           campinas           SP  \n",
              "1         mogi guacu           SP  \n",
              "2     rio de janeiro           RJ  \n",
              "3          sao paulo           SP  \n",
              "4  braganca paulista           SP  "
            ]
          },
          "execution_count": 1254,
          "metadata": {},
          "output_type": "execute_result"
        }
      ],
      "source": [
        "sellers_df.head()"
      ]
    },
    {
      "cell_type": "markdown",
      "metadata": {
        "id": "FHSiqaZp8DC1"
      },
      "source": [
        "### Assessing Data"
      ]
    },
    {
      "cell_type": "markdown",
      "metadata": {},
      "source": [
        "Assess customers"
      ]
    },
    {
      "cell_type": "code",
      "execution_count": 1255,
      "metadata": {
        "id": "ax-3tEjc9Cj1"
      },
      "outputs": [
        {
          "name": "stdout",
          "output_type": "stream",
          "text": [
            "<class 'pandas.core.frame.DataFrame'>\n",
            "RangeIndex: 99441 entries, 0 to 99440\n",
            "Data columns (total 5 columns):\n",
            " #   Column                    Non-Null Count  Dtype \n",
            "---  ------                    --------------  ----- \n",
            " 0   customer_id               99441 non-null  object\n",
            " 1   customer_unique_id        99441 non-null  object\n",
            " 2   customer_zip_code_prefix  99441 non-null  int64 \n",
            " 3   customer_city             99441 non-null  object\n",
            " 4   customer_state            99441 non-null  object\n",
            "dtypes: int64(1), object(4)\n",
            "memory usage: 3.8+ MB\n"
          ]
        }
      ],
      "source": [
        "customers_df.info()"
      ]
    },
    {
      "cell_type": "code",
      "execution_count": 1256,
      "metadata": {},
      "outputs": [
        {
          "data": {
            "text/plain": [
              "customer_id                 0\n",
              "customer_unique_id          0\n",
              "customer_zip_code_prefix    0\n",
              "customer_city               0\n",
              "customer_state              0\n",
              "dtype: int64"
            ]
          },
          "execution_count": 1256,
          "metadata": {},
          "output_type": "execute_result"
        }
      ],
      "source": [
        "customers_df.isna().sum()"
      ]
    },
    {
      "cell_type": "code",
      "execution_count": 1257,
      "metadata": {},
      "outputs": [
        {
          "data": {
            "text/plain": [
              "0"
            ]
          },
          "execution_count": 1257,
          "metadata": {},
          "output_type": "execute_result"
        }
      ],
      "source": [
        "customers_df.duplicated().sum()"
      ]
    },
    {
      "cell_type": "code",
      "execution_count": 1258,
      "metadata": {},
      "outputs": [
        {
          "data": {
            "text/html": [
              "<div>\n",
              "<style scoped>\n",
              "    .dataframe tbody tr th:only-of-type {\n",
              "        vertical-align: middle;\n",
              "    }\n",
              "\n",
              "    .dataframe tbody tr th {\n",
              "        vertical-align: top;\n",
              "    }\n",
              "\n",
              "    .dataframe thead th {\n",
              "        text-align: right;\n",
              "    }\n",
              "</style>\n",
              "<table border=\"1\" class=\"dataframe\">\n",
              "  <thead>\n",
              "    <tr style=\"text-align: right;\">\n",
              "      <th></th>\n",
              "      <th>customer_zip_code_prefix</th>\n",
              "    </tr>\n",
              "  </thead>\n",
              "  <tbody>\n",
              "    <tr>\n",
              "      <th>count</th>\n",
              "      <td>99441.000000</td>\n",
              "    </tr>\n",
              "    <tr>\n",
              "      <th>mean</th>\n",
              "      <td>35137.474583</td>\n",
              "    </tr>\n",
              "    <tr>\n",
              "      <th>std</th>\n",
              "      <td>29797.938996</td>\n",
              "    </tr>\n",
              "    <tr>\n",
              "      <th>min</th>\n",
              "      <td>1003.000000</td>\n",
              "    </tr>\n",
              "    <tr>\n",
              "      <th>25%</th>\n",
              "      <td>11347.000000</td>\n",
              "    </tr>\n",
              "    <tr>\n",
              "      <th>50%</th>\n",
              "      <td>24416.000000</td>\n",
              "    </tr>\n",
              "    <tr>\n",
              "      <th>75%</th>\n",
              "      <td>58900.000000</td>\n",
              "    </tr>\n",
              "    <tr>\n",
              "      <th>max</th>\n",
              "      <td>99990.000000</td>\n",
              "    </tr>\n",
              "  </tbody>\n",
              "</table>\n",
              "</div>"
            ],
            "text/plain": [
              "       customer_zip_code_prefix\n",
              "count              99441.000000\n",
              "mean               35137.474583\n",
              "std                29797.938996\n",
              "min                 1003.000000\n",
              "25%                11347.000000\n",
              "50%                24416.000000\n",
              "75%                58900.000000\n",
              "max                99990.000000"
            ]
          },
          "execution_count": 1258,
          "metadata": {},
          "output_type": "execute_result"
        }
      ],
      "source": [
        "customers_df.describe()"
      ]
    },
    {
      "cell_type": "markdown",
      "metadata": {},
      "source": [
        "Assess geolocation"
      ]
    },
    {
      "cell_type": "code",
      "execution_count": 1259,
      "metadata": {},
      "outputs": [
        {
          "name": "stdout",
          "output_type": "stream",
          "text": [
            "<class 'pandas.core.frame.DataFrame'>\n",
            "RangeIndex: 1000163 entries, 0 to 1000162\n",
            "Data columns (total 5 columns):\n",
            " #   Column                       Non-Null Count    Dtype  \n",
            "---  ------                       --------------    -----  \n",
            " 0   geolocation_zip_code_prefix  1000163 non-null  int64  \n",
            " 1   geolocation_lat              1000163 non-null  float64\n",
            " 2   geolocation_lng              1000163 non-null  float64\n",
            " 3   geolocation_city             1000163 non-null  object \n",
            " 4   geolocation_state            1000163 non-null  object \n",
            "dtypes: float64(2), int64(1), object(2)\n",
            "memory usage: 38.2+ MB\n"
          ]
        }
      ],
      "source": [
        "geolocation_df.info()"
      ]
    },
    {
      "cell_type": "code",
      "execution_count": 1260,
      "metadata": {},
      "outputs": [
        {
          "data": {
            "text/plain": [
              "geolocation_zip_code_prefix    0\n",
              "geolocation_lat                0\n",
              "geolocation_lng                0\n",
              "geolocation_city               0\n",
              "geolocation_state              0\n",
              "dtype: int64"
            ]
          },
          "execution_count": 1260,
          "metadata": {},
          "output_type": "execute_result"
        }
      ],
      "source": [
        "geolocation_df.isna().sum()"
      ]
    },
    {
      "cell_type": "code",
      "execution_count": 1261,
      "metadata": {},
      "outputs": [
        {
          "data": {
            "text/plain": [
              "261831"
            ]
          },
          "execution_count": 1261,
          "metadata": {},
          "output_type": "execute_result"
        }
      ],
      "source": [
        "geolocation_df.duplicated().sum()"
      ]
    },
    {
      "cell_type": "markdown",
      "metadata": {},
      "source": [
        "**[CLEAN]:** Clean duplicated values because it is duplicated [DONE]"
      ]
    },
    {
      "cell_type": "code",
      "execution_count": 1262,
      "metadata": {},
      "outputs": [
        {
          "data": {
            "text/html": [
              "<div>\n",
              "<style scoped>\n",
              "    .dataframe tbody tr th:only-of-type {\n",
              "        vertical-align: middle;\n",
              "    }\n",
              "\n",
              "    .dataframe tbody tr th {\n",
              "        vertical-align: top;\n",
              "    }\n",
              "\n",
              "    .dataframe thead th {\n",
              "        text-align: right;\n",
              "    }\n",
              "</style>\n",
              "<table border=\"1\" class=\"dataframe\">\n",
              "  <thead>\n",
              "    <tr style=\"text-align: right;\">\n",
              "      <th></th>\n",
              "      <th>geolocation_zip_code_prefix</th>\n",
              "      <th>geolocation_lat</th>\n",
              "      <th>geolocation_lng</th>\n",
              "    </tr>\n",
              "  </thead>\n",
              "  <tbody>\n",
              "    <tr>\n",
              "      <th>count</th>\n",
              "      <td>1.000163e+06</td>\n",
              "      <td>1.000163e+06</td>\n",
              "      <td>1.000163e+06</td>\n",
              "    </tr>\n",
              "    <tr>\n",
              "      <th>mean</th>\n",
              "      <td>3.657417e+04</td>\n",
              "      <td>-2.117615e+01</td>\n",
              "      <td>-4.639054e+01</td>\n",
              "    </tr>\n",
              "    <tr>\n",
              "      <th>std</th>\n",
              "      <td>3.054934e+04</td>\n",
              "      <td>5.715866e+00</td>\n",
              "      <td>4.269748e+00</td>\n",
              "    </tr>\n",
              "    <tr>\n",
              "      <th>min</th>\n",
              "      <td>1.001000e+03</td>\n",
              "      <td>-3.660537e+01</td>\n",
              "      <td>-1.014668e+02</td>\n",
              "    </tr>\n",
              "    <tr>\n",
              "      <th>25%</th>\n",
              "      <td>1.107500e+04</td>\n",
              "      <td>-2.360355e+01</td>\n",
              "      <td>-4.857317e+01</td>\n",
              "    </tr>\n",
              "    <tr>\n",
              "      <th>50%</th>\n",
              "      <td>2.653000e+04</td>\n",
              "      <td>-2.291938e+01</td>\n",
              "      <td>-4.663788e+01</td>\n",
              "    </tr>\n",
              "    <tr>\n",
              "      <th>75%</th>\n",
              "      <td>6.350400e+04</td>\n",
              "      <td>-1.997962e+01</td>\n",
              "      <td>-4.376771e+01</td>\n",
              "    </tr>\n",
              "    <tr>\n",
              "      <th>max</th>\n",
              "      <td>9.999000e+04</td>\n",
              "      <td>4.506593e+01</td>\n",
              "      <td>1.211054e+02</td>\n",
              "    </tr>\n",
              "  </tbody>\n",
              "</table>\n",
              "</div>"
            ],
            "text/plain": [
              "       geolocation_zip_code_prefix  geolocation_lat  geolocation_lng\n",
              "count                 1.000163e+06     1.000163e+06     1.000163e+06\n",
              "mean                  3.657417e+04    -2.117615e+01    -4.639054e+01\n",
              "std                   3.054934e+04     5.715866e+00     4.269748e+00\n",
              "min                   1.001000e+03    -3.660537e+01    -1.014668e+02\n",
              "25%                   1.107500e+04    -2.360355e+01    -4.857317e+01\n",
              "50%                   2.653000e+04    -2.291938e+01    -4.663788e+01\n",
              "75%                   6.350400e+04    -1.997962e+01    -4.376771e+01\n",
              "max                   9.999000e+04     4.506593e+01     1.211054e+02"
            ]
          },
          "execution_count": 1262,
          "metadata": {},
          "output_type": "execute_result"
        }
      ],
      "source": [
        "geolocation_df.describe()"
      ]
    },
    {
      "cell_type": "markdown",
      "metadata": {},
      "source": [
        "Assess order items"
      ]
    },
    {
      "cell_type": "code",
      "execution_count": 1263,
      "metadata": {},
      "outputs": [
        {
          "name": "stdout",
          "output_type": "stream",
          "text": [
            "<class 'pandas.core.frame.DataFrame'>\n",
            "RangeIndex: 112650 entries, 0 to 112649\n",
            "Data columns (total 7 columns):\n",
            " #   Column               Non-Null Count   Dtype  \n",
            "---  ------               --------------   -----  \n",
            " 0   order_id             112650 non-null  object \n",
            " 1   order_item_id        112650 non-null  int64  \n",
            " 2   product_id           112650 non-null  object \n",
            " 3   seller_id            112650 non-null  object \n",
            " 4   shipping_limit_date  112650 non-null  object \n",
            " 5   price                112650 non-null  float64\n",
            " 6   freight_value        112650 non-null  float64\n",
            "dtypes: float64(2), int64(1), object(4)\n",
            "memory usage: 6.0+ MB\n"
          ]
        }
      ],
      "source": [
        "order_items_df.info()"
      ]
    },
    {
      "cell_type": "markdown",
      "metadata": {},
      "source": [
        "**[CLEAN]:** Revise dtype of shipping_limit_date into datetime because is not the correct dtype [DONE]"
      ]
    },
    {
      "cell_type": "code",
      "execution_count": 1264,
      "metadata": {},
      "outputs": [
        {
          "data": {
            "text/plain": [
              "order_id               0\n",
              "order_item_id          0\n",
              "product_id             0\n",
              "seller_id              0\n",
              "shipping_limit_date    0\n",
              "price                  0\n",
              "freight_value          0\n",
              "dtype: int64"
            ]
          },
          "execution_count": 1264,
          "metadata": {},
          "output_type": "execute_result"
        }
      ],
      "source": [
        "order_items_df.isna().sum()"
      ]
    },
    {
      "cell_type": "code",
      "execution_count": 1265,
      "metadata": {},
      "outputs": [
        {
          "data": {
            "text/plain": [
              "0"
            ]
          },
          "execution_count": 1265,
          "metadata": {},
          "output_type": "execute_result"
        }
      ],
      "source": [
        "order_items_df.duplicated().sum()"
      ]
    },
    {
      "cell_type": "code",
      "execution_count": 1266,
      "metadata": {},
      "outputs": [
        {
          "data": {
            "text/plain": [
              "order_id               98666\n",
              "order_item_id             21\n",
              "product_id             32951\n",
              "seller_id               3095\n",
              "shipping_limit_date    93318\n",
              "price                   5968\n",
              "freight_value           6999\n",
              "dtype: int64"
            ]
          },
          "execution_count": 1266,
          "metadata": {},
          "output_type": "execute_result"
        }
      ],
      "source": [
        "order_items_df.nunique()"
      ]
    },
    {
      "cell_type": "code",
      "execution_count": 1267,
      "metadata": {},
      "outputs": [
        {
          "data": {
            "text/html": [
              "<div>\n",
              "<style scoped>\n",
              "    .dataframe tbody tr th:only-of-type {\n",
              "        vertical-align: middle;\n",
              "    }\n",
              "\n",
              "    .dataframe tbody tr th {\n",
              "        vertical-align: top;\n",
              "    }\n",
              "\n",
              "    .dataframe thead th {\n",
              "        text-align: right;\n",
              "    }\n",
              "</style>\n",
              "<table border=\"1\" class=\"dataframe\">\n",
              "  <thead>\n",
              "    <tr style=\"text-align: right;\">\n",
              "      <th></th>\n",
              "      <th>order_item_id</th>\n",
              "      <th>price</th>\n",
              "      <th>freight_value</th>\n",
              "    </tr>\n",
              "  </thead>\n",
              "  <tbody>\n",
              "    <tr>\n",
              "      <th>count</th>\n",
              "      <td>112650.000000</td>\n",
              "      <td>112650.000000</td>\n",
              "      <td>112650.000000</td>\n",
              "    </tr>\n",
              "    <tr>\n",
              "      <th>mean</th>\n",
              "      <td>1.197834</td>\n",
              "      <td>120.653739</td>\n",
              "      <td>19.990320</td>\n",
              "    </tr>\n",
              "    <tr>\n",
              "      <th>std</th>\n",
              "      <td>0.705124</td>\n",
              "      <td>183.633928</td>\n",
              "      <td>15.806405</td>\n",
              "    </tr>\n",
              "    <tr>\n",
              "      <th>min</th>\n",
              "      <td>1.000000</td>\n",
              "      <td>0.850000</td>\n",
              "      <td>0.000000</td>\n",
              "    </tr>\n",
              "    <tr>\n",
              "      <th>25%</th>\n",
              "      <td>1.000000</td>\n",
              "      <td>39.900000</td>\n",
              "      <td>13.080000</td>\n",
              "    </tr>\n",
              "    <tr>\n",
              "      <th>50%</th>\n",
              "      <td>1.000000</td>\n",
              "      <td>74.990000</td>\n",
              "      <td>16.260000</td>\n",
              "    </tr>\n",
              "    <tr>\n",
              "      <th>75%</th>\n",
              "      <td>1.000000</td>\n",
              "      <td>134.900000</td>\n",
              "      <td>21.150000</td>\n",
              "    </tr>\n",
              "    <tr>\n",
              "      <th>max</th>\n",
              "      <td>21.000000</td>\n",
              "      <td>6735.000000</td>\n",
              "      <td>409.680000</td>\n",
              "    </tr>\n",
              "  </tbody>\n",
              "</table>\n",
              "</div>"
            ],
            "text/plain": [
              "       order_item_id          price  freight_value\n",
              "count  112650.000000  112650.000000  112650.000000\n",
              "mean        1.197834     120.653739      19.990320\n",
              "std         0.705124     183.633928      15.806405\n",
              "min         1.000000       0.850000       0.000000\n",
              "25%         1.000000      39.900000      13.080000\n",
              "50%         1.000000      74.990000      16.260000\n",
              "75%         1.000000     134.900000      21.150000\n",
              "max        21.000000    6735.000000     409.680000"
            ]
          },
          "execution_count": 1267,
          "metadata": {},
          "output_type": "execute_result"
        }
      ],
      "source": [
        "order_items_df.describe()"
      ]
    },
    {
      "cell_type": "code",
      "execution_count": 1268,
      "metadata": {},
      "outputs": [
        {
          "data": {
            "text/plain": [
              "order_id               fffe41c64501cc87c801fd61db3f6244\n",
              "order_item_id                                        21\n",
              "product_id             fffe9eeff12fcbd74a2f2b007dde0c58\n",
              "seller_id              ffff564a4f9085cd26170f4732393726\n",
              "shipping_limit_date                 2020-04-09 22:35:08\n",
              "price                                            6735.0\n",
              "freight_value                                    409.68\n",
              "dtype: object"
            ]
          },
          "execution_count": 1268,
          "metadata": {},
          "output_type": "execute_result"
        }
      ],
      "source": [
        "order_items_df.max()"
      ]
    },
    {
      "cell_type": "markdown",
      "metadata": {},
      "source": [
        "**[CHECK]:** Are there any outliers? [DONE]"
      ]
    },
    {
      "cell_type": "markdown",
      "metadata": {},
      "source": [
        "Assess order payments"
      ]
    },
    {
      "cell_type": "code",
      "execution_count": 1269,
      "metadata": {},
      "outputs": [
        {
          "name": "stdout",
          "output_type": "stream",
          "text": [
            "<class 'pandas.core.frame.DataFrame'>\n",
            "RangeIndex: 103886 entries, 0 to 103885\n",
            "Data columns (total 5 columns):\n",
            " #   Column                Non-Null Count   Dtype  \n",
            "---  ------                --------------   -----  \n",
            " 0   order_id              103886 non-null  object \n",
            " 1   payment_sequential    103886 non-null  int64  \n",
            " 2   payment_type          103886 non-null  object \n",
            " 3   payment_installments  103886 non-null  int64  \n",
            " 4   payment_value         103886 non-null  float64\n",
            "dtypes: float64(1), int64(2), object(2)\n",
            "memory usage: 4.0+ MB\n"
          ]
        }
      ],
      "source": [
        "order_payments_df.info()"
      ]
    },
    {
      "cell_type": "code",
      "execution_count": 1270,
      "metadata": {},
      "outputs": [
        {
          "data": {
            "text/plain": [
              "order_id                0\n",
              "payment_sequential      0\n",
              "payment_type            0\n",
              "payment_installments    0\n",
              "payment_value           0\n",
              "dtype: int64"
            ]
          },
          "execution_count": 1270,
          "metadata": {},
          "output_type": "execute_result"
        }
      ],
      "source": [
        "order_payments_df.isna().sum()"
      ]
    },
    {
      "cell_type": "code",
      "execution_count": 1271,
      "metadata": {},
      "outputs": [
        {
          "data": {
            "text/plain": [
              "0"
            ]
          },
          "execution_count": 1271,
          "metadata": {},
          "output_type": "execute_result"
        }
      ],
      "source": [
        "order_payments_df.duplicated().sum()"
      ]
    },
    {
      "cell_type": "code",
      "execution_count": 1272,
      "metadata": {},
      "outputs": [
        {
          "data": {
            "text/html": [
              "<div>\n",
              "<style scoped>\n",
              "    .dataframe tbody tr th:only-of-type {\n",
              "        vertical-align: middle;\n",
              "    }\n",
              "\n",
              "    .dataframe tbody tr th {\n",
              "        vertical-align: top;\n",
              "    }\n",
              "\n",
              "    .dataframe thead th {\n",
              "        text-align: right;\n",
              "    }\n",
              "</style>\n",
              "<table border=\"1\" class=\"dataframe\">\n",
              "  <thead>\n",
              "    <tr style=\"text-align: right;\">\n",
              "      <th></th>\n",
              "      <th>payment_sequential</th>\n",
              "      <th>payment_installments</th>\n",
              "      <th>payment_value</th>\n",
              "    </tr>\n",
              "  </thead>\n",
              "  <tbody>\n",
              "    <tr>\n",
              "      <th>count</th>\n",
              "      <td>103886.000000</td>\n",
              "      <td>103886.000000</td>\n",
              "      <td>103886.000000</td>\n",
              "    </tr>\n",
              "    <tr>\n",
              "      <th>mean</th>\n",
              "      <td>1.092679</td>\n",
              "      <td>2.853349</td>\n",
              "      <td>154.100380</td>\n",
              "    </tr>\n",
              "    <tr>\n",
              "      <th>std</th>\n",
              "      <td>0.706584</td>\n",
              "      <td>2.687051</td>\n",
              "      <td>217.494064</td>\n",
              "    </tr>\n",
              "    <tr>\n",
              "      <th>min</th>\n",
              "      <td>1.000000</td>\n",
              "      <td>0.000000</td>\n",
              "      <td>0.000000</td>\n",
              "    </tr>\n",
              "    <tr>\n",
              "      <th>25%</th>\n",
              "      <td>1.000000</td>\n",
              "      <td>1.000000</td>\n",
              "      <td>56.790000</td>\n",
              "    </tr>\n",
              "    <tr>\n",
              "      <th>50%</th>\n",
              "      <td>1.000000</td>\n",
              "      <td>1.000000</td>\n",
              "      <td>100.000000</td>\n",
              "    </tr>\n",
              "    <tr>\n",
              "      <th>75%</th>\n",
              "      <td>1.000000</td>\n",
              "      <td>4.000000</td>\n",
              "      <td>171.837500</td>\n",
              "    </tr>\n",
              "    <tr>\n",
              "      <th>max</th>\n",
              "      <td>29.000000</td>\n",
              "      <td>24.000000</td>\n",
              "      <td>13664.080000</td>\n",
              "    </tr>\n",
              "  </tbody>\n",
              "</table>\n",
              "</div>"
            ],
            "text/plain": [
              "       payment_sequential  payment_installments  payment_value\n",
              "count       103886.000000         103886.000000  103886.000000\n",
              "mean             1.092679              2.853349     154.100380\n",
              "std              0.706584              2.687051     217.494064\n",
              "min              1.000000              0.000000       0.000000\n",
              "25%              1.000000              1.000000      56.790000\n",
              "50%              1.000000              1.000000     100.000000\n",
              "75%              1.000000              4.000000     171.837500\n",
              "max             29.000000             24.000000   13664.080000"
            ]
          },
          "execution_count": 1272,
          "metadata": {},
          "output_type": "execute_result"
        }
      ],
      "source": [
        "order_payments_df.describe()"
      ]
    },
    {
      "cell_type": "code",
      "execution_count": 1273,
      "metadata": {},
      "outputs": [
        {
          "data": {
            "text/plain": [
              "order_id                fffe41c64501cc87c801fd61db3f6244\n",
              "payment_sequential                                    29\n",
              "payment_type                                     voucher\n",
              "payment_installments                                  24\n",
              "payment_value                                   13664.08\n",
              "dtype: object"
            ]
          },
          "execution_count": 1273,
          "metadata": {},
          "output_type": "execute_result"
        }
      ],
      "source": [
        "order_payments_df.max()"
      ]
    },
    {
      "cell_type": "markdown",
      "metadata": {},
      "source": [
        "**[CHECK]:** Are there any outliers? [DONE]"
      ]
    },
    {
      "cell_type": "markdown",
      "metadata": {},
      "source": [
        "Assess order reviews"
      ]
    },
    {
      "cell_type": "code",
      "execution_count": 1274,
      "metadata": {},
      "outputs": [
        {
          "name": "stdout",
          "output_type": "stream",
          "text": [
            "<class 'pandas.core.frame.DataFrame'>\n",
            "RangeIndex: 99224 entries, 0 to 99223\n",
            "Data columns (total 7 columns):\n",
            " #   Column                   Non-Null Count  Dtype \n",
            "---  ------                   --------------  ----- \n",
            " 0   review_id                99224 non-null  object\n",
            " 1   order_id                 99224 non-null  object\n",
            " 2   review_score             99224 non-null  int64 \n",
            " 3   review_comment_title     11568 non-null  object\n",
            " 4   review_comment_message   40977 non-null  object\n",
            " 5   review_creation_date     99224 non-null  object\n",
            " 6   review_answer_timestamp  99224 non-null  object\n",
            "dtypes: int64(1), object(6)\n",
            "memory usage: 5.3+ MB\n"
          ]
        }
      ],
      "source": [
        "order_reviews_df.info()"
      ]
    },
    {
      "cell_type": "markdown",
      "metadata": {},
      "source": [
        "**[CLEAN]:** Revise dtype of:\n",
        "- review_creation_date  \n",
        "- review_answer_timestamp \n",
        "\n",
        "into datetime because is not the correct dtype [DONE]"
      ]
    },
    {
      "cell_type": "code",
      "execution_count": 1275,
      "metadata": {},
      "outputs": [
        {
          "data": {
            "text/plain": [
              "review_id                      0\n",
              "order_id                       0\n",
              "review_score                   0\n",
              "review_comment_title       87656\n",
              "review_comment_message     58247\n",
              "review_creation_date           0\n",
              "review_answer_timestamp        0\n",
              "dtype: int64"
            ]
          },
          "execution_count": 1275,
          "metadata": {},
          "output_type": "execute_result"
        }
      ],
      "source": [
        "order_reviews_df.isna().sum()"
      ]
    },
    {
      "cell_type": "markdown",
      "metadata": {},
      "source": [
        "**[NOTE]:** No need to drop because none of those matters to bussiness questions"
      ]
    },
    {
      "cell_type": "code",
      "execution_count": 1276,
      "metadata": {},
      "outputs": [
        {
          "data": {
            "text/plain": [
              "0"
            ]
          },
          "execution_count": 1276,
          "metadata": {},
          "output_type": "execute_result"
        }
      ],
      "source": [
        "order_reviews_df.duplicated().sum()"
      ]
    },
    {
      "cell_type": "code",
      "execution_count": 1277,
      "metadata": {},
      "outputs": [
        {
          "data": {
            "text/html": [
              "<div>\n",
              "<style scoped>\n",
              "    .dataframe tbody tr th:only-of-type {\n",
              "        vertical-align: middle;\n",
              "    }\n",
              "\n",
              "    .dataframe tbody tr th {\n",
              "        vertical-align: top;\n",
              "    }\n",
              "\n",
              "    .dataframe thead th {\n",
              "        text-align: right;\n",
              "    }\n",
              "</style>\n",
              "<table border=\"1\" class=\"dataframe\">\n",
              "  <thead>\n",
              "    <tr style=\"text-align: right;\">\n",
              "      <th></th>\n",
              "      <th>review_score</th>\n",
              "    </tr>\n",
              "  </thead>\n",
              "  <tbody>\n",
              "    <tr>\n",
              "      <th>count</th>\n",
              "      <td>99224.000000</td>\n",
              "    </tr>\n",
              "    <tr>\n",
              "      <th>mean</th>\n",
              "      <td>4.086421</td>\n",
              "    </tr>\n",
              "    <tr>\n",
              "      <th>std</th>\n",
              "      <td>1.347579</td>\n",
              "    </tr>\n",
              "    <tr>\n",
              "      <th>min</th>\n",
              "      <td>1.000000</td>\n",
              "    </tr>\n",
              "    <tr>\n",
              "      <th>25%</th>\n",
              "      <td>4.000000</td>\n",
              "    </tr>\n",
              "    <tr>\n",
              "      <th>50%</th>\n",
              "      <td>5.000000</td>\n",
              "    </tr>\n",
              "    <tr>\n",
              "      <th>75%</th>\n",
              "      <td>5.000000</td>\n",
              "    </tr>\n",
              "    <tr>\n",
              "      <th>max</th>\n",
              "      <td>5.000000</td>\n",
              "    </tr>\n",
              "  </tbody>\n",
              "</table>\n",
              "</div>"
            ],
            "text/plain": [
              "       review_score\n",
              "count  99224.000000\n",
              "mean       4.086421\n",
              "std        1.347579\n",
              "min        1.000000\n",
              "25%        4.000000\n",
              "50%        5.000000\n",
              "75%        5.000000\n",
              "max        5.000000"
            ]
          },
          "execution_count": 1277,
          "metadata": {},
          "output_type": "execute_result"
        }
      ],
      "source": [
        "order_reviews_df.describe()"
      ]
    },
    {
      "cell_type": "markdown",
      "metadata": {},
      "source": [
        "Assess orders"
      ]
    },
    {
      "cell_type": "code",
      "execution_count": 1278,
      "metadata": {},
      "outputs": [
        {
          "name": "stdout",
          "output_type": "stream",
          "text": [
            "<class 'pandas.core.frame.DataFrame'>\n",
            "RangeIndex: 99441 entries, 0 to 99440\n",
            "Data columns (total 8 columns):\n",
            " #   Column                         Non-Null Count  Dtype \n",
            "---  ------                         --------------  ----- \n",
            " 0   order_id                       99441 non-null  object\n",
            " 1   customer_id                    99441 non-null  object\n",
            " 2   order_status                   99441 non-null  object\n",
            " 3   order_purchase_timestamp       99441 non-null  object\n",
            " 4   order_approved_at              99281 non-null  object\n",
            " 5   order_delivered_carrier_date   97658 non-null  object\n",
            " 6   order_delivered_customer_date  96476 non-null  object\n",
            " 7   order_estimated_delivery_date  99441 non-null  object\n",
            "dtypes: object(8)\n",
            "memory usage: 6.1+ MB\n"
          ]
        }
      ],
      "source": [
        "orders_df.info()"
      ]
    },
    {
      "cell_type": "markdown",
      "metadata": {},
      "source": [
        "**[CLEAN]:** Revise dtype of:\n",
        "- order_purchase_timestamp\n",
        "- order_approved_at\n",
        "- order_delivered_carrier_date\n",
        "- order_delivered_customer_date\n",
        "- order_estimated_delivery_date\n",
        "\n",
        "into datetime because is not the correct dtype [DONE]"
      ]
    },
    {
      "cell_type": "code",
      "execution_count": 1279,
      "metadata": {},
      "outputs": [
        {
          "data": {
            "text/plain": [
              "order_id                            0\n",
              "customer_id                         0\n",
              "order_status                        0\n",
              "order_purchase_timestamp            0\n",
              "order_approved_at                 160\n",
              "order_delivered_carrier_date     1783\n",
              "order_delivered_customer_date    2965\n",
              "order_estimated_delivery_date       0\n",
              "dtype: int64"
            ]
          },
          "execution_count": 1279,
          "metadata": {},
          "output_type": "execute_result"
        }
      ],
      "source": [
        "orders_df.isna().sum()"
      ]
    },
    {
      "cell_type": "markdown",
      "metadata": {},
      "source": [
        "**[NOTE]:** No need to clean duplicated values becasue none of those matters to bussines questions"
      ]
    },
    {
      "cell_type": "code",
      "execution_count": 1280,
      "metadata": {},
      "outputs": [
        {
          "data": {
            "text/plain": [
              "0"
            ]
          },
          "execution_count": 1280,
          "metadata": {},
          "output_type": "execute_result"
        }
      ],
      "source": [
        "orders_df.duplicated().sum()"
      ]
    },
    {
      "cell_type": "code",
      "execution_count": 1281,
      "metadata": {},
      "outputs": [
        {
          "data": {
            "text/html": [
              "<div>\n",
              "<style scoped>\n",
              "    .dataframe tbody tr th:only-of-type {\n",
              "        vertical-align: middle;\n",
              "    }\n",
              "\n",
              "    .dataframe tbody tr th {\n",
              "        vertical-align: top;\n",
              "    }\n",
              "\n",
              "    .dataframe thead th {\n",
              "        text-align: right;\n",
              "    }\n",
              "</style>\n",
              "<table border=\"1\" class=\"dataframe\">\n",
              "  <thead>\n",
              "    <tr style=\"text-align: right;\">\n",
              "      <th></th>\n",
              "      <th>order_id</th>\n",
              "      <th>customer_id</th>\n",
              "      <th>order_status</th>\n",
              "      <th>order_purchase_timestamp</th>\n",
              "      <th>order_approved_at</th>\n",
              "      <th>order_delivered_carrier_date</th>\n",
              "      <th>order_delivered_customer_date</th>\n",
              "      <th>order_estimated_delivery_date</th>\n",
              "    </tr>\n",
              "  </thead>\n",
              "  <tbody>\n",
              "    <tr>\n",
              "      <th>count</th>\n",
              "      <td>99441</td>\n",
              "      <td>99441</td>\n",
              "      <td>99441</td>\n",
              "      <td>99441</td>\n",
              "      <td>99281</td>\n",
              "      <td>97658</td>\n",
              "      <td>96476</td>\n",
              "      <td>99441</td>\n",
              "    </tr>\n",
              "    <tr>\n",
              "      <th>unique</th>\n",
              "      <td>99441</td>\n",
              "      <td>99441</td>\n",
              "      <td>8</td>\n",
              "      <td>98875</td>\n",
              "      <td>90733</td>\n",
              "      <td>81018</td>\n",
              "      <td>95664</td>\n",
              "      <td>459</td>\n",
              "    </tr>\n",
              "    <tr>\n",
              "      <th>top</th>\n",
              "      <td>e481f51cbdc54678b7cc49136f2d6af7</td>\n",
              "      <td>9ef432eb6251297304e76186b10a928d</td>\n",
              "      <td>delivered</td>\n",
              "      <td>2018-04-11 10:48:14</td>\n",
              "      <td>2018-02-27 04:31:10</td>\n",
              "      <td>2018-05-09 15:48:00</td>\n",
              "      <td>2018-05-08 23:38:46</td>\n",
              "      <td>2017-12-20 00:00:00</td>\n",
              "    </tr>\n",
              "    <tr>\n",
              "      <th>freq</th>\n",
              "      <td>1</td>\n",
              "      <td>1</td>\n",
              "      <td>96478</td>\n",
              "      <td>3</td>\n",
              "      <td>9</td>\n",
              "      <td>47</td>\n",
              "      <td>3</td>\n",
              "      <td>522</td>\n",
              "    </tr>\n",
              "  </tbody>\n",
              "</table>\n",
              "</div>"
            ],
            "text/plain": [
              "                                order_id                       customer_id   \n",
              "count                              99441                             99441  \\\n",
              "unique                             99441                             99441   \n",
              "top     e481f51cbdc54678b7cc49136f2d6af7  9ef432eb6251297304e76186b10a928d   \n",
              "freq                                   1                                 1   \n",
              "\n",
              "       order_status order_purchase_timestamp    order_approved_at   \n",
              "count         99441                    99441                99281  \\\n",
              "unique            8                    98875                90733   \n",
              "top       delivered      2018-04-11 10:48:14  2018-02-27 04:31:10   \n",
              "freq          96478                        3                    9   \n",
              "\n",
              "       order_delivered_carrier_date order_delivered_customer_date   \n",
              "count                         97658                         96476  \\\n",
              "unique                        81018                         95664   \n",
              "top             2018-05-09 15:48:00           2018-05-08 23:38:46   \n",
              "freq                             47                             3   \n",
              "\n",
              "       order_estimated_delivery_date  \n",
              "count                          99441  \n",
              "unique                           459  \n",
              "top              2017-12-20 00:00:00  \n",
              "freq                             522  "
            ]
          },
          "execution_count": 1281,
          "metadata": {},
          "output_type": "execute_result"
        }
      ],
      "source": [
        "orders_df.describe()"
      ]
    },
    {
      "cell_type": "markdown",
      "metadata": {},
      "source": [
        "Assess product category name"
      ]
    },
    {
      "cell_type": "code",
      "execution_count": 1282,
      "metadata": {},
      "outputs": [
        {
          "name": "stdout",
          "output_type": "stream",
          "text": [
            "<class 'pandas.core.frame.DataFrame'>\n",
            "RangeIndex: 71 entries, 0 to 70\n",
            "Data columns (total 2 columns):\n",
            " #   Column                         Non-Null Count  Dtype \n",
            "---  ------                         --------------  ----- \n",
            " 0   product_category_name          71 non-null     object\n",
            " 1   product_category_name_english  71 non-null     object\n",
            "dtypes: object(2)\n",
            "memory usage: 1.2+ KB\n"
          ]
        }
      ],
      "source": [
        "product_category_name_translation_df.info()"
      ]
    },
    {
      "cell_type": "code",
      "execution_count": 1283,
      "metadata": {},
      "outputs": [
        {
          "data": {
            "text/plain": [
              "product_category_name            0\n",
              "product_category_name_english    0\n",
              "dtype: int64"
            ]
          },
          "execution_count": 1283,
          "metadata": {},
          "output_type": "execute_result"
        }
      ],
      "source": [
        "product_category_name_translation_df.isna().sum()"
      ]
    },
    {
      "cell_type": "code",
      "execution_count": 1284,
      "metadata": {},
      "outputs": [
        {
          "data": {
            "text/plain": [
              "0"
            ]
          },
          "execution_count": 1284,
          "metadata": {},
          "output_type": "execute_result"
        }
      ],
      "source": [
        "product_category_name_translation_df.duplicated().sum()"
      ]
    },
    {
      "cell_type": "code",
      "execution_count": 1285,
      "metadata": {},
      "outputs": [
        {
          "data": {
            "text/html": [
              "<div>\n",
              "<style scoped>\n",
              "    .dataframe tbody tr th:only-of-type {\n",
              "        vertical-align: middle;\n",
              "    }\n",
              "\n",
              "    .dataframe tbody tr th {\n",
              "        vertical-align: top;\n",
              "    }\n",
              "\n",
              "    .dataframe thead th {\n",
              "        text-align: right;\n",
              "    }\n",
              "</style>\n",
              "<table border=\"1\" class=\"dataframe\">\n",
              "  <thead>\n",
              "    <tr style=\"text-align: right;\">\n",
              "      <th></th>\n",
              "      <th>product_category_name</th>\n",
              "      <th>product_category_name_english</th>\n",
              "    </tr>\n",
              "  </thead>\n",
              "  <tbody>\n",
              "    <tr>\n",
              "      <th>count</th>\n",
              "      <td>71</td>\n",
              "      <td>71</td>\n",
              "    </tr>\n",
              "    <tr>\n",
              "      <th>unique</th>\n",
              "      <td>71</td>\n",
              "      <td>71</td>\n",
              "    </tr>\n",
              "    <tr>\n",
              "      <th>top</th>\n",
              "      <td>beleza_saude</td>\n",
              "      <td>health_beauty</td>\n",
              "    </tr>\n",
              "    <tr>\n",
              "      <th>freq</th>\n",
              "      <td>1</td>\n",
              "      <td>1</td>\n",
              "    </tr>\n",
              "  </tbody>\n",
              "</table>\n",
              "</div>"
            ],
            "text/plain": [
              "       product_category_name product_category_name_english\n",
              "count                     71                            71\n",
              "unique                    71                            71\n",
              "top             beleza_saude                 health_beauty\n",
              "freq                       1                             1"
            ]
          },
          "execution_count": 1285,
          "metadata": {},
          "output_type": "execute_result"
        }
      ],
      "source": [
        "product_category_name_translation_df.describe()"
      ]
    },
    {
      "cell_type": "markdown",
      "metadata": {},
      "source": [
        "Assess products"
      ]
    },
    {
      "cell_type": "code",
      "execution_count": 1286,
      "metadata": {},
      "outputs": [
        {
          "name": "stdout",
          "output_type": "stream",
          "text": [
            "<class 'pandas.core.frame.DataFrame'>\n",
            "RangeIndex: 32951 entries, 0 to 32950\n",
            "Data columns (total 9 columns):\n",
            " #   Column                      Non-Null Count  Dtype  \n",
            "---  ------                      --------------  -----  \n",
            " 0   product_id                  32951 non-null  object \n",
            " 1   product_category_name       32341 non-null  object \n",
            " 2   product_name_lenght         32341 non-null  float64\n",
            " 3   product_description_lenght  32341 non-null  float64\n",
            " 4   product_photos_qty          32341 non-null  float64\n",
            " 5   product_weight_g            32949 non-null  float64\n",
            " 6   product_length_cm           32949 non-null  float64\n",
            " 7   product_height_cm           32949 non-null  float64\n",
            " 8   product_width_cm            32949 non-null  float64\n",
            "dtypes: float64(7), object(2)\n",
            "memory usage: 2.3+ MB\n"
          ]
        }
      ],
      "source": [
        "products_df.info()"
      ]
    },
    {
      "cell_type": "code",
      "execution_count": 1287,
      "metadata": {},
      "outputs": [
        {
          "data": {
            "text/plain": [
              "product_id                      0\n",
              "product_category_name         610\n",
              "product_name_lenght           610\n",
              "product_description_lenght    610\n",
              "product_photos_qty            610\n",
              "product_weight_g                2\n",
              "product_length_cm               2\n",
              "product_height_cm               2\n",
              "product_width_cm                2\n",
              "dtype: int64"
            ]
          },
          "execution_count": 1287,
          "metadata": {},
          "output_type": "execute_result"
        }
      ],
      "source": [
        "products_df.isna().sum()"
      ]
    },
    {
      "cell_type": "markdown",
      "metadata": {},
      "source": [
        "**[CLEAN]:** Drop missing values [DONE]"
      ]
    },
    {
      "cell_type": "code",
      "execution_count": 1288,
      "metadata": {},
      "outputs": [
        {
          "data": {
            "text/plain": [
              "0"
            ]
          },
          "execution_count": 1288,
          "metadata": {},
          "output_type": "execute_result"
        }
      ],
      "source": [
        "products_df.duplicated().sum()"
      ]
    },
    {
      "cell_type": "code",
      "execution_count": 1289,
      "metadata": {},
      "outputs": [
        {
          "data": {
            "text/html": [
              "<div>\n",
              "<style scoped>\n",
              "    .dataframe tbody tr th:only-of-type {\n",
              "        vertical-align: middle;\n",
              "    }\n",
              "\n",
              "    .dataframe tbody tr th {\n",
              "        vertical-align: top;\n",
              "    }\n",
              "\n",
              "    .dataframe thead th {\n",
              "        text-align: right;\n",
              "    }\n",
              "</style>\n",
              "<table border=\"1\" class=\"dataframe\">\n",
              "  <thead>\n",
              "    <tr style=\"text-align: right;\">\n",
              "      <th></th>\n",
              "      <th>product_name_lenght</th>\n",
              "      <th>product_description_lenght</th>\n",
              "      <th>product_photos_qty</th>\n",
              "      <th>product_weight_g</th>\n",
              "      <th>product_length_cm</th>\n",
              "      <th>product_height_cm</th>\n",
              "      <th>product_width_cm</th>\n",
              "    </tr>\n",
              "  </thead>\n",
              "  <tbody>\n",
              "    <tr>\n",
              "      <th>count</th>\n",
              "      <td>32341.000000</td>\n",
              "      <td>32341.000000</td>\n",
              "      <td>32341.000000</td>\n",
              "      <td>32949.000000</td>\n",
              "      <td>32949.000000</td>\n",
              "      <td>32949.000000</td>\n",
              "      <td>32949.000000</td>\n",
              "    </tr>\n",
              "    <tr>\n",
              "      <th>mean</th>\n",
              "      <td>48.476949</td>\n",
              "      <td>771.495285</td>\n",
              "      <td>2.188986</td>\n",
              "      <td>2276.472488</td>\n",
              "      <td>30.815078</td>\n",
              "      <td>16.937661</td>\n",
              "      <td>23.196728</td>\n",
              "    </tr>\n",
              "    <tr>\n",
              "      <th>std</th>\n",
              "      <td>10.245741</td>\n",
              "      <td>635.115225</td>\n",
              "      <td>1.736766</td>\n",
              "      <td>4282.038731</td>\n",
              "      <td>16.914458</td>\n",
              "      <td>13.637554</td>\n",
              "      <td>12.079047</td>\n",
              "    </tr>\n",
              "    <tr>\n",
              "      <th>min</th>\n",
              "      <td>5.000000</td>\n",
              "      <td>4.000000</td>\n",
              "      <td>1.000000</td>\n",
              "      <td>0.000000</td>\n",
              "      <td>7.000000</td>\n",
              "      <td>2.000000</td>\n",
              "      <td>6.000000</td>\n",
              "    </tr>\n",
              "    <tr>\n",
              "      <th>25%</th>\n",
              "      <td>42.000000</td>\n",
              "      <td>339.000000</td>\n",
              "      <td>1.000000</td>\n",
              "      <td>300.000000</td>\n",
              "      <td>18.000000</td>\n",
              "      <td>8.000000</td>\n",
              "      <td>15.000000</td>\n",
              "    </tr>\n",
              "    <tr>\n",
              "      <th>50%</th>\n",
              "      <td>51.000000</td>\n",
              "      <td>595.000000</td>\n",
              "      <td>1.000000</td>\n",
              "      <td>700.000000</td>\n",
              "      <td>25.000000</td>\n",
              "      <td>13.000000</td>\n",
              "      <td>20.000000</td>\n",
              "    </tr>\n",
              "    <tr>\n",
              "      <th>75%</th>\n",
              "      <td>57.000000</td>\n",
              "      <td>972.000000</td>\n",
              "      <td>3.000000</td>\n",
              "      <td>1900.000000</td>\n",
              "      <td>38.000000</td>\n",
              "      <td>21.000000</td>\n",
              "      <td>30.000000</td>\n",
              "    </tr>\n",
              "    <tr>\n",
              "      <th>max</th>\n",
              "      <td>76.000000</td>\n",
              "      <td>3992.000000</td>\n",
              "      <td>20.000000</td>\n",
              "      <td>40425.000000</td>\n",
              "      <td>105.000000</td>\n",
              "      <td>105.000000</td>\n",
              "      <td>118.000000</td>\n",
              "    </tr>\n",
              "  </tbody>\n",
              "</table>\n",
              "</div>"
            ],
            "text/plain": [
              "       product_name_lenght  product_description_lenght  product_photos_qty   \n",
              "count         32341.000000                32341.000000        32341.000000  \\\n",
              "mean             48.476949                  771.495285            2.188986   \n",
              "std              10.245741                  635.115225            1.736766   \n",
              "min               5.000000                    4.000000            1.000000   \n",
              "25%              42.000000                  339.000000            1.000000   \n",
              "50%              51.000000                  595.000000            1.000000   \n",
              "75%              57.000000                  972.000000            3.000000   \n",
              "max              76.000000                 3992.000000           20.000000   \n",
              "\n",
              "       product_weight_g  product_length_cm  product_height_cm   \n",
              "count      32949.000000       32949.000000       32949.000000  \\\n",
              "mean        2276.472488          30.815078          16.937661   \n",
              "std         4282.038731          16.914458          13.637554   \n",
              "min            0.000000           7.000000           2.000000   \n",
              "25%          300.000000          18.000000           8.000000   \n",
              "50%          700.000000          25.000000          13.000000   \n",
              "75%         1900.000000          38.000000          21.000000   \n",
              "max        40425.000000         105.000000         105.000000   \n",
              "\n",
              "       product_width_cm  \n",
              "count      32949.000000  \n",
              "mean          23.196728  \n",
              "std           12.079047  \n",
              "min            6.000000  \n",
              "25%           15.000000  \n",
              "50%           20.000000  \n",
              "75%           30.000000  \n",
              "max          118.000000  "
            ]
          },
          "execution_count": 1289,
          "metadata": {},
          "output_type": "execute_result"
        }
      ],
      "source": [
        "products_df.describe()"
      ]
    },
    {
      "cell_type": "markdown",
      "metadata": {},
      "source": [
        "Assess sellers"
      ]
    },
    {
      "cell_type": "code",
      "execution_count": 1290,
      "metadata": {},
      "outputs": [
        {
          "name": "stdout",
          "output_type": "stream",
          "text": [
            "<class 'pandas.core.frame.DataFrame'>\n",
            "RangeIndex: 3095 entries, 0 to 3094\n",
            "Data columns (total 4 columns):\n",
            " #   Column                  Non-Null Count  Dtype \n",
            "---  ------                  --------------  ----- \n",
            " 0   seller_id               3095 non-null   object\n",
            " 1   seller_zip_code_prefix  3095 non-null   int64 \n",
            " 2   seller_city             3095 non-null   object\n",
            " 3   seller_state            3095 non-null   object\n",
            "dtypes: int64(1), object(3)\n",
            "memory usage: 96.8+ KB\n"
          ]
        }
      ],
      "source": [
        "sellers_df.info()"
      ]
    },
    {
      "cell_type": "code",
      "execution_count": 1291,
      "metadata": {},
      "outputs": [
        {
          "data": {
            "text/plain": [
              "seller_id                 0\n",
              "seller_zip_code_prefix    0\n",
              "seller_city               0\n",
              "seller_state              0\n",
              "dtype: int64"
            ]
          },
          "execution_count": 1291,
          "metadata": {},
          "output_type": "execute_result"
        }
      ],
      "source": [
        "sellers_df.isna().sum()"
      ]
    },
    {
      "cell_type": "code",
      "execution_count": 1292,
      "metadata": {},
      "outputs": [
        {
          "data": {
            "text/plain": [
              "0"
            ]
          },
          "execution_count": 1292,
          "metadata": {},
          "output_type": "execute_result"
        }
      ],
      "source": [
        "sellers_df.duplicated().sum()"
      ]
    },
    {
      "cell_type": "code",
      "execution_count": 1293,
      "metadata": {},
      "outputs": [
        {
          "data": {
            "text/html": [
              "<div>\n",
              "<style scoped>\n",
              "    .dataframe tbody tr th:only-of-type {\n",
              "        vertical-align: middle;\n",
              "    }\n",
              "\n",
              "    .dataframe tbody tr th {\n",
              "        vertical-align: top;\n",
              "    }\n",
              "\n",
              "    .dataframe thead th {\n",
              "        text-align: right;\n",
              "    }\n",
              "</style>\n",
              "<table border=\"1\" class=\"dataframe\">\n",
              "  <thead>\n",
              "    <tr style=\"text-align: right;\">\n",
              "      <th></th>\n",
              "      <th>seller_zip_code_prefix</th>\n",
              "    </tr>\n",
              "  </thead>\n",
              "  <tbody>\n",
              "    <tr>\n",
              "      <th>count</th>\n",
              "      <td>3095.000000</td>\n",
              "    </tr>\n",
              "    <tr>\n",
              "      <th>mean</th>\n",
              "      <td>32291.059451</td>\n",
              "    </tr>\n",
              "    <tr>\n",
              "      <th>std</th>\n",
              "      <td>32713.453830</td>\n",
              "    </tr>\n",
              "    <tr>\n",
              "      <th>min</th>\n",
              "      <td>1001.000000</td>\n",
              "    </tr>\n",
              "    <tr>\n",
              "      <th>25%</th>\n",
              "      <td>7093.500000</td>\n",
              "    </tr>\n",
              "    <tr>\n",
              "      <th>50%</th>\n",
              "      <td>14940.000000</td>\n",
              "    </tr>\n",
              "    <tr>\n",
              "      <th>75%</th>\n",
              "      <td>64552.500000</td>\n",
              "    </tr>\n",
              "    <tr>\n",
              "      <th>max</th>\n",
              "      <td>99730.000000</td>\n",
              "    </tr>\n",
              "  </tbody>\n",
              "</table>\n",
              "</div>"
            ],
            "text/plain": [
              "       seller_zip_code_prefix\n",
              "count             3095.000000\n",
              "mean             32291.059451\n",
              "std              32713.453830\n",
              "min               1001.000000\n",
              "25%               7093.500000\n",
              "50%              14940.000000\n",
              "75%              64552.500000\n",
              "max              99730.000000"
            ]
          },
          "execution_count": 1293,
          "metadata": {},
          "output_type": "execute_result"
        }
      ],
      "source": [
        "sellers_df.describe()"
      ]
    },
    {
      "cell_type": "markdown",
      "metadata": {
        "id": "EhN5R4hr8DC1"
      },
      "source": [
        "### Cleaning Data"
      ]
    },
    {
      "cell_type": "markdown",
      "metadata": {},
      "source": [
        "Clean geolocation"
      ]
    },
    {
      "cell_type": "markdown",
      "metadata": {},
      "source": [
        "- duplicated values"
      ]
    },
    {
      "cell_type": "code",
      "execution_count": 1294,
      "metadata": {
        "id": "jVnYpprE9Evz"
      },
      "outputs": [
        {
          "data": {
            "text/plain": [
              "261831"
            ]
          },
          "execution_count": 1294,
          "metadata": {},
          "output_type": "execute_result"
        }
      ],
      "source": [
        "geolocation_df.duplicated().sum()"
      ]
    },
    {
      "cell_type": "code",
      "execution_count": 1295,
      "metadata": {},
      "outputs": [],
      "source": [
        "geolocation_df.drop_duplicates(inplace=True)"
      ]
    },
    {
      "cell_type": "code",
      "execution_count": 1296,
      "metadata": {},
      "outputs": [
        {
          "data": {
            "text/plain": [
              "0"
            ]
          },
          "execution_count": 1296,
          "metadata": {},
          "output_type": "execute_result"
        }
      ],
      "source": [
        "geolocation_df.duplicated().sum()"
      ]
    },
    {
      "cell_type": "markdown",
      "metadata": {},
      "source": [
        "Clean order items"
      ]
    },
    {
      "cell_type": "markdown",
      "metadata": {},
      "source": [
        "- Revise dtype into datetime: shipping_limit_date "
      ]
    },
    {
      "cell_type": "code",
      "execution_count": 1297,
      "metadata": {},
      "outputs": [
        {
          "name": "stdout",
          "output_type": "stream",
          "text": [
            "<class 'pandas.core.frame.DataFrame'>\n",
            "RangeIndex: 112650 entries, 0 to 112649\n",
            "Data columns (total 7 columns):\n",
            " #   Column               Non-Null Count   Dtype  \n",
            "---  ------               --------------   -----  \n",
            " 0   order_id             112650 non-null  object \n",
            " 1   order_item_id        112650 non-null  int64  \n",
            " 2   product_id           112650 non-null  object \n",
            " 3   seller_id            112650 non-null  object \n",
            " 4   shipping_limit_date  112650 non-null  object \n",
            " 5   price                112650 non-null  float64\n",
            " 6   freight_value        112650 non-null  float64\n",
            "dtypes: float64(2), int64(1), object(4)\n",
            "memory usage: 6.0+ MB\n"
          ]
        }
      ],
      "source": [
        "order_items_df.info()"
      ]
    },
    {
      "cell_type": "code",
      "execution_count": 1298,
      "metadata": {},
      "outputs": [],
      "source": [
        "order_items_df['shipping_limit_date'] = pd.to_datetime(order_items_df['shipping_limit_date'])   "
      ]
    },
    {
      "cell_type": "code",
      "execution_count": 1299,
      "metadata": {},
      "outputs": [
        {
          "name": "stdout",
          "output_type": "stream",
          "text": [
            "<class 'pandas.core.frame.DataFrame'>\n",
            "RangeIndex: 112650 entries, 0 to 112649\n",
            "Data columns (total 7 columns):\n",
            " #   Column               Non-Null Count   Dtype         \n",
            "---  ------               --------------   -----         \n",
            " 0   order_id             112650 non-null  object        \n",
            " 1   order_item_id        112650 non-null  int64         \n",
            " 2   product_id           112650 non-null  object        \n",
            " 3   seller_id            112650 non-null  object        \n",
            " 4   shipping_limit_date  112650 non-null  datetime64[ns]\n",
            " 5   price                112650 non-null  float64       \n",
            " 6   freight_value        112650 non-null  float64       \n",
            "dtypes: datetime64[ns](1), float64(2), int64(1), object(3)\n",
            "memory usage: 6.0+ MB\n"
          ]
        }
      ],
      "source": [
        "order_items_df.info()"
      ]
    },
    {
      "cell_type": "markdown",
      "metadata": {},
      "source": [
        "Clean order reviews"
      ]
    },
    {
      "cell_type": "markdown",
      "metadata": {},
      "source": [
        "- Revise dtype into datetime:\n",
        "    - review_creation_date  \n",
        "    - review_answer_timestamp "
      ]
    },
    {
      "cell_type": "code",
      "execution_count": 1300,
      "metadata": {},
      "outputs": [
        {
          "name": "stdout",
          "output_type": "stream",
          "text": [
            "<class 'pandas.core.frame.DataFrame'>\n",
            "RangeIndex: 99224 entries, 0 to 99223\n",
            "Data columns (total 7 columns):\n",
            " #   Column                   Non-Null Count  Dtype \n",
            "---  ------                   --------------  ----- \n",
            " 0   review_id                99224 non-null  object\n",
            " 1   order_id                 99224 non-null  object\n",
            " 2   review_score             99224 non-null  int64 \n",
            " 3   review_comment_title     11568 non-null  object\n",
            " 4   review_comment_message   40977 non-null  object\n",
            " 5   review_creation_date     99224 non-null  object\n",
            " 6   review_answer_timestamp  99224 non-null  object\n",
            "dtypes: int64(1), object(6)\n",
            "memory usage: 5.3+ MB\n"
          ]
        }
      ],
      "source": [
        "order_reviews_df.info()"
      ]
    },
    {
      "cell_type": "code",
      "execution_count": 1301,
      "metadata": {},
      "outputs": [],
      "source": [
        "datetime_columns = ['review_creation_date', 'review_answer_timestamp']\n",
        "\n",
        "for column in datetime_columns:\n",
        "    order_reviews_df[column] = pd.to_datetime(order_reviews_df[column])"
      ]
    },
    {
      "cell_type": "code",
      "execution_count": 1302,
      "metadata": {},
      "outputs": [
        {
          "name": "stdout",
          "output_type": "stream",
          "text": [
            "<class 'pandas.core.frame.DataFrame'>\n",
            "RangeIndex: 99224 entries, 0 to 99223\n",
            "Data columns (total 7 columns):\n",
            " #   Column                   Non-Null Count  Dtype         \n",
            "---  ------                   --------------  -----         \n",
            " 0   review_id                99224 non-null  object        \n",
            " 1   order_id                 99224 non-null  object        \n",
            " 2   review_score             99224 non-null  int64         \n",
            " 3   review_comment_title     11568 non-null  object        \n",
            " 4   review_comment_message   40977 non-null  object        \n",
            " 5   review_creation_date     99224 non-null  datetime64[ns]\n",
            " 6   review_answer_timestamp  99224 non-null  datetime64[ns]\n",
            "dtypes: datetime64[ns](2), int64(1), object(4)\n",
            "memory usage: 5.3+ MB\n"
          ]
        }
      ],
      "source": [
        "order_reviews_df.info()"
      ]
    },
    {
      "cell_type": "markdown",
      "metadata": {},
      "source": [
        "Clean orders"
      ]
    },
    {
      "cell_type": "markdown",
      "metadata": {},
      "source": [
        "- Revise dtype into datetime of:\n",
        "    - order_purchase_timestamp\n",
        "    - order_approved_at\n",
        "    - order_delivered_carrier_date\n",
        "    - order_delivered_customer_date\n",
        "    - order_estimated_delivery_date"
      ]
    },
    {
      "cell_type": "code",
      "execution_count": 1303,
      "metadata": {},
      "outputs": [
        {
          "name": "stdout",
          "output_type": "stream",
          "text": [
            "<class 'pandas.core.frame.DataFrame'>\n",
            "RangeIndex: 99441 entries, 0 to 99440\n",
            "Data columns (total 8 columns):\n",
            " #   Column                         Non-Null Count  Dtype \n",
            "---  ------                         --------------  ----- \n",
            " 0   order_id                       99441 non-null  object\n",
            " 1   customer_id                    99441 non-null  object\n",
            " 2   order_status                   99441 non-null  object\n",
            " 3   order_purchase_timestamp       99441 non-null  object\n",
            " 4   order_approved_at              99281 non-null  object\n",
            " 5   order_delivered_carrier_date   97658 non-null  object\n",
            " 6   order_delivered_customer_date  96476 non-null  object\n",
            " 7   order_estimated_delivery_date  99441 non-null  object\n",
            "dtypes: object(8)\n",
            "memory usage: 6.1+ MB\n"
          ]
        }
      ],
      "source": [
        "orders_df.info()"
      ]
    },
    {
      "cell_type": "code",
      "execution_count": 1304,
      "metadata": {},
      "outputs": [],
      "source": [
        "datetime_columns = ['order_purchase_timestamp', 'order_approved_at', 'order_delivered_carrier_date', 'order_delivered_customer_date', 'order_estimated_delivery_date']\n",
        "\n",
        "for column in datetime_columns:\n",
        "    orders_df[column] = pd.to_datetime(orders_df[column])"
      ]
    },
    {
      "cell_type": "code",
      "execution_count": 1305,
      "metadata": {},
      "outputs": [
        {
          "name": "stdout",
          "output_type": "stream",
          "text": [
            "<class 'pandas.core.frame.DataFrame'>\n",
            "RangeIndex: 99441 entries, 0 to 99440\n",
            "Data columns (total 8 columns):\n",
            " #   Column                         Non-Null Count  Dtype         \n",
            "---  ------                         --------------  -----         \n",
            " 0   order_id                       99441 non-null  object        \n",
            " 1   customer_id                    99441 non-null  object        \n",
            " 2   order_status                   99441 non-null  object        \n",
            " 3   order_purchase_timestamp       99441 non-null  datetime64[ns]\n",
            " 4   order_approved_at              99281 non-null  datetime64[ns]\n",
            " 5   order_delivered_carrier_date   97658 non-null  datetime64[ns]\n",
            " 6   order_delivered_customer_date  96476 non-null  datetime64[ns]\n",
            " 7   order_estimated_delivery_date  99441 non-null  datetime64[ns]\n",
            "dtypes: datetime64[ns](5), object(3)\n",
            "memory usage: 6.1+ MB\n"
          ]
        }
      ],
      "source": [
        "orders_df.info()"
      ]
    },
    {
      "cell_type": "markdown",
      "metadata": {},
      "source": [
        "Products"
      ]
    },
    {
      "cell_type": "markdown",
      "metadata": {},
      "source": [
        "- Missing values"
      ]
    },
    {
      "cell_type": "code",
      "execution_count": 1306,
      "metadata": {},
      "outputs": [
        {
          "data": {
            "text/plain": [
              "product_id                      0\n",
              "product_category_name         610\n",
              "product_name_lenght           610\n",
              "product_description_lenght    610\n",
              "product_photos_qty            610\n",
              "product_weight_g                2\n",
              "product_length_cm               2\n",
              "product_height_cm               2\n",
              "product_width_cm                2\n",
              "dtype: int64"
            ]
          },
          "execution_count": 1306,
          "metadata": {},
          "output_type": "execute_result"
        }
      ],
      "source": [
        "products_df.isna().sum()"
      ]
    },
    {
      "cell_type": "code",
      "execution_count": 1307,
      "metadata": {},
      "outputs": [
        {
          "data": {
            "text/html": [
              "<div>\n",
              "<style scoped>\n",
              "    .dataframe tbody tr th:only-of-type {\n",
              "        vertical-align: middle;\n",
              "    }\n",
              "\n",
              "    .dataframe tbody tr th {\n",
              "        vertical-align: top;\n",
              "    }\n",
              "\n",
              "    .dataframe thead th {\n",
              "        text-align: right;\n",
              "    }\n",
              "</style>\n",
              "<table border=\"1\" class=\"dataframe\">\n",
              "  <thead>\n",
              "    <tr style=\"text-align: right;\">\n",
              "      <th></th>\n",
              "      <th>product_id</th>\n",
              "      <th>product_category_name</th>\n",
              "      <th>product_name_lenght</th>\n",
              "      <th>product_description_lenght</th>\n",
              "      <th>product_photos_qty</th>\n",
              "      <th>product_weight_g</th>\n",
              "      <th>product_length_cm</th>\n",
              "      <th>product_height_cm</th>\n",
              "      <th>product_width_cm</th>\n",
              "    </tr>\n",
              "  </thead>\n",
              "  <tbody>\n",
              "    <tr>\n",
              "      <th>105</th>\n",
              "      <td>a41e356c76fab66334f36de622ecbd3a</td>\n",
              "      <td>NaN</td>\n",
              "      <td>NaN</td>\n",
              "      <td>NaN</td>\n",
              "      <td>NaN</td>\n",
              "      <td>650.0</td>\n",
              "      <td>17.0</td>\n",
              "      <td>14.0</td>\n",
              "      <td>12.0</td>\n",
              "    </tr>\n",
              "    <tr>\n",
              "      <th>128</th>\n",
              "      <td>d8dee61c2034d6d075997acef1870e9b</td>\n",
              "      <td>NaN</td>\n",
              "      <td>NaN</td>\n",
              "      <td>NaN</td>\n",
              "      <td>NaN</td>\n",
              "      <td>300.0</td>\n",
              "      <td>16.0</td>\n",
              "      <td>7.0</td>\n",
              "      <td>20.0</td>\n",
              "    </tr>\n",
              "    <tr>\n",
              "      <th>145</th>\n",
              "      <td>56139431d72cd51f19eb9f7dae4d1617</td>\n",
              "      <td>NaN</td>\n",
              "      <td>NaN</td>\n",
              "      <td>NaN</td>\n",
              "      <td>NaN</td>\n",
              "      <td>200.0</td>\n",
              "      <td>20.0</td>\n",
              "      <td>20.0</td>\n",
              "      <td>20.0</td>\n",
              "    </tr>\n",
              "    <tr>\n",
              "      <th>154</th>\n",
              "      <td>46b48281eb6d663ced748f324108c733</td>\n",
              "      <td>NaN</td>\n",
              "      <td>NaN</td>\n",
              "      <td>NaN</td>\n",
              "      <td>NaN</td>\n",
              "      <td>18500.0</td>\n",
              "      <td>41.0</td>\n",
              "      <td>30.0</td>\n",
              "      <td>41.0</td>\n",
              "    </tr>\n",
              "    <tr>\n",
              "      <th>197</th>\n",
              "      <td>5fb61f482620cb672f5e586bb132eae9</td>\n",
              "      <td>NaN</td>\n",
              "      <td>NaN</td>\n",
              "      <td>NaN</td>\n",
              "      <td>NaN</td>\n",
              "      <td>300.0</td>\n",
              "      <td>35.0</td>\n",
              "      <td>7.0</td>\n",
              "      <td>12.0</td>\n",
              "    </tr>\n",
              "    <tr>\n",
              "      <th>...</th>\n",
              "      <td>...</td>\n",
              "      <td>...</td>\n",
              "      <td>...</td>\n",
              "      <td>...</td>\n",
              "      <td>...</td>\n",
              "      <td>...</td>\n",
              "      <td>...</td>\n",
              "      <td>...</td>\n",
              "      <td>...</td>\n",
              "    </tr>\n",
              "    <tr>\n",
              "      <th>32515</th>\n",
              "      <td>b0a0c5dd78e644373b199380612c350a</td>\n",
              "      <td>NaN</td>\n",
              "      <td>NaN</td>\n",
              "      <td>NaN</td>\n",
              "      <td>NaN</td>\n",
              "      <td>1800.0</td>\n",
              "      <td>30.0</td>\n",
              "      <td>20.0</td>\n",
              "      <td>70.0</td>\n",
              "    </tr>\n",
              "    <tr>\n",
              "      <th>32589</th>\n",
              "      <td>10dbe0fbaa2c505123c17fdc34a63c56</td>\n",
              "      <td>NaN</td>\n",
              "      <td>NaN</td>\n",
              "      <td>NaN</td>\n",
              "      <td>NaN</td>\n",
              "      <td>800.0</td>\n",
              "      <td>30.0</td>\n",
              "      <td>10.0</td>\n",
              "      <td>23.0</td>\n",
              "    </tr>\n",
              "    <tr>\n",
              "      <th>32616</th>\n",
              "      <td>bd2ada37b58ae94cc838b9c0569fecd8</td>\n",
              "      <td>NaN</td>\n",
              "      <td>NaN</td>\n",
              "      <td>NaN</td>\n",
              "      <td>NaN</td>\n",
              "      <td>200.0</td>\n",
              "      <td>21.0</td>\n",
              "      <td>8.0</td>\n",
              "      <td>16.0</td>\n",
              "    </tr>\n",
              "    <tr>\n",
              "      <th>32772</th>\n",
              "      <td>fa51e914046aab32764c41356b9d4ea4</td>\n",
              "      <td>NaN</td>\n",
              "      <td>NaN</td>\n",
              "      <td>NaN</td>\n",
              "      <td>NaN</td>\n",
              "      <td>1300.0</td>\n",
              "      <td>45.0</td>\n",
              "      <td>16.0</td>\n",
              "      <td>45.0</td>\n",
              "    </tr>\n",
              "    <tr>\n",
              "      <th>32852</th>\n",
              "      <td>c4ceee876c82b8328e9c293fa0e1989b</td>\n",
              "      <td>NaN</td>\n",
              "      <td>NaN</td>\n",
              "      <td>NaN</td>\n",
              "      <td>NaN</td>\n",
              "      <td>700.0</td>\n",
              "      <td>28.0</td>\n",
              "      <td>3.0</td>\n",
              "      <td>43.0</td>\n",
              "    </tr>\n",
              "  </tbody>\n",
              "</table>\n",
              "<p>610 rows × 9 columns</p>\n",
              "</div>"
            ],
            "text/plain": [
              "                             product_id product_category_name   \n",
              "105    a41e356c76fab66334f36de622ecbd3a                   NaN  \\\n",
              "128    d8dee61c2034d6d075997acef1870e9b                   NaN   \n",
              "145    56139431d72cd51f19eb9f7dae4d1617                   NaN   \n",
              "154    46b48281eb6d663ced748f324108c733                   NaN   \n",
              "197    5fb61f482620cb672f5e586bb132eae9                   NaN   \n",
              "...                                 ...                   ...   \n",
              "32515  b0a0c5dd78e644373b199380612c350a                   NaN   \n",
              "32589  10dbe0fbaa2c505123c17fdc34a63c56                   NaN   \n",
              "32616  bd2ada37b58ae94cc838b9c0569fecd8                   NaN   \n",
              "32772  fa51e914046aab32764c41356b9d4ea4                   NaN   \n",
              "32852  c4ceee876c82b8328e9c293fa0e1989b                   NaN   \n",
              "\n",
              "       product_name_lenght  product_description_lenght  product_photos_qty   \n",
              "105                    NaN                         NaN                 NaN  \\\n",
              "128                    NaN                         NaN                 NaN   \n",
              "145                    NaN                         NaN                 NaN   \n",
              "154                    NaN                         NaN                 NaN   \n",
              "197                    NaN                         NaN                 NaN   \n",
              "...                    ...                         ...                 ...   \n",
              "32515                  NaN                         NaN                 NaN   \n",
              "32589                  NaN                         NaN                 NaN   \n",
              "32616                  NaN                         NaN                 NaN   \n",
              "32772                  NaN                         NaN                 NaN   \n",
              "32852                  NaN                         NaN                 NaN   \n",
              "\n",
              "       product_weight_g  product_length_cm  product_height_cm   \n",
              "105               650.0               17.0               14.0  \\\n",
              "128               300.0               16.0                7.0   \n",
              "145               200.0               20.0               20.0   \n",
              "154             18500.0               41.0               30.0   \n",
              "197               300.0               35.0                7.0   \n",
              "...                 ...                ...                ...   \n",
              "32515            1800.0               30.0               20.0   \n",
              "32589             800.0               30.0               10.0   \n",
              "32616             200.0               21.0                8.0   \n",
              "32772            1300.0               45.0               16.0   \n",
              "32852             700.0               28.0                3.0   \n",
              "\n",
              "       product_width_cm  \n",
              "105                12.0  \n",
              "128                20.0  \n",
              "145                20.0  \n",
              "154                41.0  \n",
              "197                12.0  \n",
              "...                 ...  \n",
              "32515              70.0  \n",
              "32589              23.0  \n",
              "32616              16.0  \n",
              "32772              45.0  \n",
              "32852              43.0  \n",
              "\n",
              "[610 rows x 9 columns]"
            ]
          },
          "execution_count": 1307,
          "metadata": {},
          "output_type": "execute_result"
        }
      ],
      "source": [
        "products_df[products_df['product_category_name'].isna()]"
      ]
    },
    {
      "cell_type": "markdown",
      "metadata": {},
      "source": [
        "Possible solutions:\n",
        "- Drop: Not applicable because these producs category has order items\n",
        "- Filling: Applicable for now"
      ]
    },
    {
      "cell_type": "code",
      "execution_count": 1308,
      "metadata": {},
      "outputs": [
        {
          "data": {
            "text/plain": [
              "product_id                      0\n",
              "product_category_name         610\n",
              "product_name_lenght           610\n",
              "product_description_lenght    610\n",
              "product_photos_qty            610\n",
              "product_weight_g                2\n",
              "product_length_cm               2\n",
              "product_height_cm               2\n",
              "product_width_cm                2\n",
              "dtype: int64"
            ]
          },
          "execution_count": 1308,
          "metadata": {},
          "output_type": "execute_result"
        }
      ],
      "source": [
        "products_df.isna().sum()"
      ]
    },
    {
      "cell_type": "code",
      "execution_count": 1309,
      "metadata": {},
      "outputs": [],
      "source": [
        "# Filling roduct_category_name with 'others'\n",
        "products_df['product_category_name'].fillna(value='others', inplace=True)\n",
        "\n",
        "# Filling product_name_lenght with the mean\n",
        "products_df['product_name_lenght'].fillna(value=products_df['product_name_lenght'].mean(), inplace=True)\n",
        "\n",
        "# Filling product_description_lenght with the mean\n",
        "products_df['product_description_lenght'].fillna(value=products_df['product_description_lenght'].mean(), inplace=True)\n",
        "\n",
        "# Filling product_photos_qty with the mean\n",
        "products_df['product_photos_qty'].fillna(value=products_df['product_photos_qty'].mean(), inplace=True)"
      ]
    },
    {
      "cell_type": "code",
      "execution_count": 1310,
      "metadata": {},
      "outputs": [
        {
          "data": {
            "text/plain": [
              "product_id                    0\n",
              "product_category_name         0\n",
              "product_name_lenght           0\n",
              "product_description_lenght    0\n",
              "product_photos_qty            0\n",
              "product_weight_g              2\n",
              "product_length_cm             2\n",
              "product_height_cm             2\n",
              "product_width_cm              2\n",
              "dtype: int64"
            ]
          },
          "execution_count": 1310,
          "metadata": {},
          "output_type": "execute_result"
        }
      ],
      "source": [
        "products_df.isna().sum()"
      ]
    },
    {
      "cell_type": "markdown",
      "metadata": {
        "id": "gp-Y6wU38DC1"
      },
      "source": [
        "## Exploratory Data Analysis (EDA)"
      ]
    },
    {
      "cell_type": "markdown",
      "metadata": {
        "id": "MW7WF2kr8DC1"
      },
      "source": [
        "### Explore ..."
      ]
    },
    {
      "cell_type": "markdown",
      "metadata": {},
      "source": [
        "Explore orders"
      ]
    },
    {
      "cell_type": "code",
      "execution_count": 1311,
      "metadata": {},
      "outputs": [
        {
          "data": {
            "text/html": [
              "<div>\n",
              "<style scoped>\n",
              "    .dataframe tbody tr th:only-of-type {\n",
              "        vertical-align: middle;\n",
              "    }\n",
              "\n",
              "    .dataframe tbody tr th {\n",
              "        vertical-align: top;\n",
              "    }\n",
              "\n",
              "    .dataframe thead th {\n",
              "        text-align: right;\n",
              "    }\n",
              "</style>\n",
              "<table border=\"1\" class=\"dataframe\">\n",
              "  <thead>\n",
              "    <tr style=\"text-align: right;\">\n",
              "      <th></th>\n",
              "      <th>order_id</th>\n",
              "      <th>customer_id</th>\n",
              "      <th>order_status</th>\n",
              "      <th>order_purchase_timestamp</th>\n",
              "      <th>order_approved_at</th>\n",
              "      <th>order_delivered_carrier_date</th>\n",
              "      <th>order_delivered_customer_date</th>\n",
              "      <th>order_estimated_delivery_date</th>\n",
              "    </tr>\n",
              "  </thead>\n",
              "  <tbody>\n",
              "    <tr>\n",
              "      <th>79612</th>\n",
              "      <td>3f75656d4a9d4b3e18204bae2bd96925</td>\n",
              "      <td>887a7f0cf91952bc799bc7a555262389</td>\n",
              "      <td>delivered</td>\n",
              "      <td>2018-08-05 09:56:45</td>\n",
              "      <td>2018-08-05 10:25:14</td>\n",
              "      <td>2018-08-06 11:51:00</td>\n",
              "      <td>2018-08-07 13:08:41</td>\n",
              "      <td>2018-08-09</td>\n",
              "    </tr>\n",
              "    <tr>\n",
              "      <th>87171</th>\n",
              "      <td>a75fdbe33591254e4e2affc92886061f</td>\n",
              "      <td>b8238ce07cc469b6ce181da12100fd60</td>\n",
              "      <td>delivered</td>\n",
              "      <td>2018-06-24 19:31:43</td>\n",
              "      <td>2018-06-24 19:59:56</td>\n",
              "      <td>2018-06-25 13:34:00</td>\n",
              "      <td>2018-06-28 14:36:52</td>\n",
              "      <td>2018-07-17</td>\n",
              "    </tr>\n",
              "    <tr>\n",
              "      <th>16916</th>\n",
              "      <td>d5b1124327e83f25ce12d9c48c9ecfe3</td>\n",
              "      <td>c44dee37ceb2eba1a4c21adb28eec6a8</td>\n",
              "      <td>delivered</td>\n",
              "      <td>2017-07-08 09:26:51</td>\n",
              "      <td>2017-07-08 09:43:27</td>\n",
              "      <td>2017-07-13 20:23:52</td>\n",
              "      <td>2017-07-21 17:52:15</td>\n",
              "      <td>2017-08-01</td>\n",
              "    </tr>\n",
              "    <tr>\n",
              "      <th>52955</th>\n",
              "      <td>b1c47af65ac03344fe07e4e74245c300</td>\n",
              "      <td>6dca55c3c097a85c54cd691376901bac</td>\n",
              "      <td>delivered</td>\n",
              "      <td>2017-05-03 13:39:40</td>\n",
              "      <td>2017-05-03 14:02:44</td>\n",
              "      <td>2017-05-10 12:46:10</td>\n",
              "      <td>2017-05-16 10:39:51</td>\n",
              "      <td>2017-05-26</td>\n",
              "    </tr>\n",
              "    <tr>\n",
              "      <th>57630</th>\n",
              "      <td>b59646a3121fae6a722667ba7a4fcbc8</td>\n",
              "      <td>ae6e3c9254bdccf9777714139a303877</td>\n",
              "      <td>delivered</td>\n",
              "      <td>2018-01-10 16:02:43</td>\n",
              "      <td>2018-01-11 15:53:30</td>\n",
              "      <td>2018-01-12 11:57:09</td>\n",
              "      <td>2018-01-15 21:24:56</td>\n",
              "      <td>2018-02-05</td>\n",
              "    </tr>\n",
              "  </tbody>\n",
              "</table>\n",
              "</div>"
            ],
            "text/plain": [
              "                               order_id                       customer_id   \n",
              "79612  3f75656d4a9d4b3e18204bae2bd96925  887a7f0cf91952bc799bc7a555262389  \\\n",
              "87171  a75fdbe33591254e4e2affc92886061f  b8238ce07cc469b6ce181da12100fd60   \n",
              "16916  d5b1124327e83f25ce12d9c48c9ecfe3  c44dee37ceb2eba1a4c21adb28eec6a8   \n",
              "52955  b1c47af65ac03344fe07e4e74245c300  6dca55c3c097a85c54cd691376901bac   \n",
              "57630  b59646a3121fae6a722667ba7a4fcbc8  ae6e3c9254bdccf9777714139a303877   \n",
              "\n",
              "      order_status order_purchase_timestamp   order_approved_at   \n",
              "79612    delivered      2018-08-05 09:56:45 2018-08-05 10:25:14  \\\n",
              "87171    delivered      2018-06-24 19:31:43 2018-06-24 19:59:56   \n",
              "16916    delivered      2017-07-08 09:26:51 2017-07-08 09:43:27   \n",
              "52955    delivered      2017-05-03 13:39:40 2017-05-03 14:02:44   \n",
              "57630    delivered      2018-01-10 16:02:43 2018-01-11 15:53:30   \n",
              "\n",
              "      order_delivered_carrier_date order_delivered_customer_date   \n",
              "79612          2018-08-06 11:51:00           2018-08-07 13:08:41  \\\n",
              "87171          2018-06-25 13:34:00           2018-06-28 14:36:52   \n",
              "16916          2017-07-13 20:23:52           2017-07-21 17:52:15   \n",
              "52955          2017-05-10 12:46:10           2017-05-16 10:39:51   \n",
              "57630          2018-01-12 11:57:09           2018-01-15 21:24:56   \n",
              "\n",
              "      order_estimated_delivery_date  \n",
              "79612                    2018-08-09  \n",
              "87171                    2018-07-17  \n",
              "16916                    2017-08-01  \n",
              "52955                    2017-05-26  \n",
              "57630                    2018-02-05  "
            ]
          },
          "execution_count": 1311,
          "metadata": {},
          "output_type": "execute_result"
        }
      ],
      "source": [
        "orders_df.sample(5)"
      ]
    },
    {
      "cell_type": "code",
      "execution_count": 1312,
      "metadata": {},
      "outputs": [
        {
          "data": {
            "text/html": [
              "<div>\n",
              "<style scoped>\n",
              "    .dataframe tbody tr th:only-of-type {\n",
              "        vertical-align: middle;\n",
              "    }\n",
              "\n",
              "    .dataframe tbody tr th {\n",
              "        vertical-align: top;\n",
              "    }\n",
              "\n",
              "    .dataframe thead th {\n",
              "        text-align: right;\n",
              "    }\n",
              "</style>\n",
              "<table border=\"1\" class=\"dataframe\">\n",
              "  <thead>\n",
              "    <tr style=\"text-align: right;\">\n",
              "      <th></th>\n",
              "      <th>order_id</th>\n",
              "      <th>customer_id</th>\n",
              "      <th>order_status</th>\n",
              "      <th>order_purchase_timestamp</th>\n",
              "      <th>order_approved_at</th>\n",
              "      <th>order_delivered_carrier_date</th>\n",
              "      <th>order_delivered_customer_date</th>\n",
              "      <th>order_estimated_delivery_date</th>\n",
              "      <th>delivery_time</th>\n",
              "    </tr>\n",
              "  </thead>\n",
              "  <tbody>\n",
              "    <tr>\n",
              "      <th>43557</th>\n",
              "      <td>71e2f7733505074179563ccd72d93d15</td>\n",
              "      <td>28cf24314e32e953bfab6bd5c19d2440</td>\n",
              "      <td>delivered</td>\n",
              "      <td>2017-05-15 16:39:17</td>\n",
              "      <td>2017-05-16 16:50:10</td>\n",
              "      <td>2017-05-18 12:15:31</td>\n",
              "      <td>2017-05-23 13:33:06</td>\n",
              "      <td>2017-06-08</td>\n",
              "      <td>7 days 20:53:49</td>\n",
              "    </tr>\n",
              "    <tr>\n",
              "      <th>77187</th>\n",
              "      <td>390cb12cd3157360539ab0739c1b8fa9</td>\n",
              "      <td>edb85175262b80e62db167322a8501bd</td>\n",
              "      <td>delivered</td>\n",
              "      <td>2018-08-03 21:45:27</td>\n",
              "      <td>2018-08-03 22:23:57</td>\n",
              "      <td>2018-08-07 08:26:00</td>\n",
              "      <td>2018-08-10 14:42:38</td>\n",
              "      <td>2018-08-27</td>\n",
              "      <td>6 days 16:57:11</td>\n",
              "    </tr>\n",
              "    <tr>\n",
              "      <th>59546</th>\n",
              "      <td>3a41d8f16d339184975dcab294e74d46</td>\n",
              "      <td>c5c85ffbb114815b7956eb31a43812fe</td>\n",
              "      <td>delivered</td>\n",
              "      <td>2018-01-15 07:52:31</td>\n",
              "      <td>2018-01-16 14:51:30</td>\n",
              "      <td>2018-01-17 20:23:40</td>\n",
              "      <td>2018-01-19 22:26:54</td>\n",
              "      <td>2018-02-08</td>\n",
              "      <td>4 days 14:34:23</td>\n",
              "    </tr>\n",
              "    <tr>\n",
              "      <th>45843</th>\n",
              "      <td>a2253f696c9e2cba89d15e599caf280e</td>\n",
              "      <td>c1ba1e137fc4fbf24655b5fcd8aae28e</td>\n",
              "      <td>delivered</td>\n",
              "      <td>2017-11-17 19:45:11</td>\n",
              "      <td>2017-11-17 21:06:22</td>\n",
              "      <td>2017-11-21 19:22:06</td>\n",
              "      <td>2017-11-23 18:21:34</td>\n",
              "      <td>2017-11-30</td>\n",
              "      <td>5 days 22:36:23</td>\n",
              "    </tr>\n",
              "    <tr>\n",
              "      <th>69593</th>\n",
              "      <td>329aacec1c0231ed21bb1e2f8f4dc1e0</td>\n",
              "      <td>5c72e2429dfcfb0e1ac946ff1c05a0a9</td>\n",
              "      <td>delivered</td>\n",
              "      <td>2017-02-22 21:56:02</td>\n",
              "      <td>2017-02-22 22:10:06</td>\n",
              "      <td>2017-02-23 13:59:16</td>\n",
              "      <td>2017-03-02 14:25:52</td>\n",
              "      <td>2017-03-29</td>\n",
              "      <td>7 days 16:29:50</td>\n",
              "    </tr>\n",
              "  </tbody>\n",
              "</table>\n",
              "</div>"
            ],
            "text/plain": [
              "                               order_id                       customer_id   \n",
              "43557  71e2f7733505074179563ccd72d93d15  28cf24314e32e953bfab6bd5c19d2440  \\\n",
              "77187  390cb12cd3157360539ab0739c1b8fa9  edb85175262b80e62db167322a8501bd   \n",
              "59546  3a41d8f16d339184975dcab294e74d46  c5c85ffbb114815b7956eb31a43812fe   \n",
              "45843  a2253f696c9e2cba89d15e599caf280e  c1ba1e137fc4fbf24655b5fcd8aae28e   \n",
              "69593  329aacec1c0231ed21bb1e2f8f4dc1e0  5c72e2429dfcfb0e1ac946ff1c05a0a9   \n",
              "\n",
              "      order_status order_purchase_timestamp   order_approved_at   \n",
              "43557    delivered      2017-05-15 16:39:17 2017-05-16 16:50:10  \\\n",
              "77187    delivered      2018-08-03 21:45:27 2018-08-03 22:23:57   \n",
              "59546    delivered      2018-01-15 07:52:31 2018-01-16 14:51:30   \n",
              "45843    delivered      2017-11-17 19:45:11 2017-11-17 21:06:22   \n",
              "69593    delivered      2017-02-22 21:56:02 2017-02-22 22:10:06   \n",
              "\n",
              "      order_delivered_carrier_date order_delivered_customer_date   \n",
              "43557          2017-05-18 12:15:31           2017-05-23 13:33:06  \\\n",
              "77187          2018-08-07 08:26:00           2018-08-10 14:42:38   \n",
              "59546          2018-01-17 20:23:40           2018-01-19 22:26:54   \n",
              "45843          2017-11-21 19:22:06           2017-11-23 18:21:34   \n",
              "69593          2017-02-23 13:59:16           2017-03-02 14:25:52   \n",
              "\n",
              "      order_estimated_delivery_date   delivery_time  \n",
              "43557                    2017-06-08 7 days 20:53:49  \n",
              "77187                    2018-08-27 6 days 16:57:11  \n",
              "59546                    2018-02-08 4 days 14:34:23  \n",
              "45843                    2017-11-30 5 days 22:36:23  \n",
              "69593                    2017-03-29 7 days 16:29:50  "
            ]
          },
          "execution_count": 1312,
          "metadata": {},
          "output_type": "execute_result"
        }
      ],
      "source": [
        "delivery_time = orders_df['order_delivered_customer_date'] - orders_df['order_purchase_timestamp']\n",
        "orders_df['delivery_time'] = delivery_time\n",
        "orders_df.sample(5)"
      ]
    },
    {
      "cell_type": "code",
      "execution_count": 1313,
      "metadata": {},
      "outputs": [
        {
          "data": {
            "text/plain": [
              "count                         96476\n",
              "mean     12 days 13:24:31.879068369\n",
              "std       9 days 13:07:00.181125305\n",
              "min                 0 days 12:48:07\n",
              "25%          6 days 18:23:37.250000\n",
              "50%                10 days 05:13:34\n",
              "75%         15 days 17:17:16.250000\n",
              "max               209 days 15:05:12\n",
              "Name: delivery_time, dtype: object"
            ]
          },
          "execution_count": 1313,
          "metadata": {},
          "output_type": "execute_result"
        }
      ],
      "source": [
        "orders_df.delivery_time.describe()"
      ]
    },
    {
      "cell_type": "code",
      "execution_count": 1314,
      "metadata": {},
      "outputs": [],
      "source": [
        "orders_df['delivery_time'] = orders_df['delivery_time'].dt.days\n",
        "orders_df['delivery_time'] = orders_df['delivery_time'].apply(lambda x: 1 if x < 1 else x)"
      ]
    },
    {
      "cell_type": "code",
      "execution_count": 1315,
      "metadata": {},
      "outputs": [
        {
          "data": {
            "text/plain": [
              "count    96476.000000\n",
              "mean        12.094220\n",
              "std          9.551583\n",
              "min          1.000000\n",
              "25%          6.000000\n",
              "50%         10.000000\n",
              "75%         15.000000\n",
              "max        209.000000\n",
              "Name: delivery_time, dtype: float64"
            ]
          },
          "execution_count": 1315,
          "metadata": {},
          "output_type": "execute_result"
        }
      ],
      "source": [
        "orders_df.delivery_time.describe()"
      ]
    },
    {
      "cell_type": "code",
      "execution_count": 1316,
      "metadata": {},
      "outputs": [],
      "source": [
        "orders_df['month'] = orders_df['order_purchase_timestamp'].dt.to_period('M')    "
      ]
    },
    {
      "cell_type": "code",
      "execution_count": 1317,
      "metadata": {},
      "outputs": [
        {
          "data": {
            "text/html": [
              "<div>\n",
              "<style scoped>\n",
              "    .dataframe tbody tr th:only-of-type {\n",
              "        vertical-align: middle;\n",
              "    }\n",
              "\n",
              "    .dataframe tbody tr th {\n",
              "        vertical-align: top;\n",
              "    }\n",
              "\n",
              "    .dataframe thead th {\n",
              "        text-align: right;\n",
              "    }\n",
              "</style>\n",
              "<table border=\"1\" class=\"dataframe\">\n",
              "  <thead>\n",
              "    <tr style=\"text-align: right;\">\n",
              "      <th></th>\n",
              "      <th>order_id</th>\n",
              "      <th>customer_id</th>\n",
              "      <th>order_status</th>\n",
              "      <th>order_purchase_timestamp</th>\n",
              "      <th>order_approved_at</th>\n",
              "      <th>order_delivered_carrier_date</th>\n",
              "      <th>order_delivered_customer_date</th>\n",
              "      <th>order_estimated_delivery_date</th>\n",
              "      <th>delivery_time</th>\n",
              "      <th>month</th>\n",
              "    </tr>\n",
              "  </thead>\n",
              "  <tbody>\n",
              "    <tr>\n",
              "      <th>23449</th>\n",
              "      <td>0ec4af8420f96af137f9b52194956497</td>\n",
              "      <td>482e05dadfceda1d9ab8cd9c6b5279f1</td>\n",
              "      <td>delivered</td>\n",
              "      <td>2018-07-25 19:05:41</td>\n",
              "      <td>2018-07-26 09:05:13</td>\n",
              "      <td>2018-07-27 13:28:00</td>\n",
              "      <td>2018-08-02 19:57:38</td>\n",
              "      <td>2018-08-10</td>\n",
              "      <td>8.0</td>\n",
              "      <td>2018-07</td>\n",
              "    </tr>\n",
              "    <tr>\n",
              "      <th>47139</th>\n",
              "      <td>d95c203ba62b39ad3c3a2df8d5e7c052</td>\n",
              "      <td>b31b5ecd79d2528b3340abb86f5c2a4d</td>\n",
              "      <td>delivered</td>\n",
              "      <td>2018-02-21 23:54:14</td>\n",
              "      <td>2018-02-23 02:31:01</td>\n",
              "      <td>2018-02-27 00:08:16</td>\n",
              "      <td>2018-02-27 15:34:06</td>\n",
              "      <td>2018-03-07</td>\n",
              "      <td>5.0</td>\n",
              "      <td>2018-02</td>\n",
              "    </tr>\n",
              "    <tr>\n",
              "      <th>24797</th>\n",
              "      <td>e7ae5aa5c6aee358cae7da910d48fe36</td>\n",
              "      <td>f612c18e7425b557b4137950a546bd13</td>\n",
              "      <td>delivered</td>\n",
              "      <td>2017-06-13 09:46:55</td>\n",
              "      <td>2017-06-14 02:22:57</td>\n",
              "      <td>2017-06-16 10:07:52</td>\n",
              "      <td>2017-06-27 15:46:38</td>\n",
              "      <td>2017-07-18</td>\n",
              "      <td>14.0</td>\n",
              "      <td>2017-06</td>\n",
              "    </tr>\n",
              "    <tr>\n",
              "      <th>48067</th>\n",
              "      <td>15a5c3e66605b949f4fc77d747f8003d</td>\n",
              "      <td>53ed1b71c8f23d10c4a53e23d922bf75</td>\n",
              "      <td>delivered</td>\n",
              "      <td>2018-08-01 19:50:09</td>\n",
              "      <td>2018-08-02 19:45:21</td>\n",
              "      <td>2018-08-03 10:03:00</td>\n",
              "      <td>2018-08-08 01:08:32</td>\n",
              "      <td>2018-08-22</td>\n",
              "      <td>6.0</td>\n",
              "      <td>2018-08</td>\n",
              "    </tr>\n",
              "    <tr>\n",
              "      <th>78813</th>\n",
              "      <td>3f60c18dceaa348eb8891eea71a53dc1</td>\n",
              "      <td>7b0e5d9d1949bce0504d928d8897dead</td>\n",
              "      <td>delivered</td>\n",
              "      <td>2018-08-01 20:48:00</td>\n",
              "      <td>2018-08-01 21:04:08</td>\n",
              "      <td>2018-08-02 15:16:00</td>\n",
              "      <td>2018-08-09 17:21:03</td>\n",
              "      <td>2018-08-22</td>\n",
              "      <td>7.0</td>\n",
              "      <td>2018-08</td>\n",
              "    </tr>\n",
              "  </tbody>\n",
              "</table>\n",
              "</div>"
            ],
            "text/plain": [
              "                               order_id                       customer_id   \n",
              "23449  0ec4af8420f96af137f9b52194956497  482e05dadfceda1d9ab8cd9c6b5279f1  \\\n",
              "47139  d95c203ba62b39ad3c3a2df8d5e7c052  b31b5ecd79d2528b3340abb86f5c2a4d   \n",
              "24797  e7ae5aa5c6aee358cae7da910d48fe36  f612c18e7425b557b4137950a546bd13   \n",
              "48067  15a5c3e66605b949f4fc77d747f8003d  53ed1b71c8f23d10c4a53e23d922bf75   \n",
              "78813  3f60c18dceaa348eb8891eea71a53dc1  7b0e5d9d1949bce0504d928d8897dead   \n",
              "\n",
              "      order_status order_purchase_timestamp   order_approved_at   \n",
              "23449    delivered      2018-07-25 19:05:41 2018-07-26 09:05:13  \\\n",
              "47139    delivered      2018-02-21 23:54:14 2018-02-23 02:31:01   \n",
              "24797    delivered      2017-06-13 09:46:55 2017-06-14 02:22:57   \n",
              "48067    delivered      2018-08-01 19:50:09 2018-08-02 19:45:21   \n",
              "78813    delivered      2018-08-01 20:48:00 2018-08-01 21:04:08   \n",
              "\n",
              "      order_delivered_carrier_date order_delivered_customer_date   \n",
              "23449          2018-07-27 13:28:00           2018-08-02 19:57:38  \\\n",
              "47139          2018-02-27 00:08:16           2018-02-27 15:34:06   \n",
              "24797          2017-06-16 10:07:52           2017-06-27 15:46:38   \n",
              "48067          2018-08-03 10:03:00           2018-08-08 01:08:32   \n",
              "78813          2018-08-02 15:16:00           2018-08-09 17:21:03   \n",
              "\n",
              "      order_estimated_delivery_date  delivery_time    month  \n",
              "23449                    2018-08-10            8.0  2018-07  \n",
              "47139                    2018-03-07            5.0  2018-02  \n",
              "24797                    2017-07-18           14.0  2017-06  \n",
              "48067                    2018-08-22            6.0  2018-08  \n",
              "78813                    2018-08-22            7.0  2018-08  "
            ]
          },
          "execution_count": 1317,
          "metadata": {},
          "output_type": "execute_result"
        }
      ],
      "source": [
        "orders_df.sample(5)"
      ]
    },
    {
      "cell_type": "markdown",
      "metadata": {},
      "source": [
        "Explore customers"
      ]
    },
    {
      "cell_type": "code",
      "execution_count": 1318,
      "metadata": {},
      "outputs": [
        {
          "data": {
            "text/html": [
              "<div>\n",
              "<style scoped>\n",
              "    .dataframe tbody tr th:only-of-type {\n",
              "        vertical-align: middle;\n",
              "    }\n",
              "\n",
              "    .dataframe tbody tr th {\n",
              "        vertical-align: top;\n",
              "    }\n",
              "\n",
              "    .dataframe thead th {\n",
              "        text-align: right;\n",
              "    }\n",
              "</style>\n",
              "<table border=\"1\" class=\"dataframe\">\n",
              "  <thead>\n",
              "    <tr style=\"text-align: right;\">\n",
              "      <th></th>\n",
              "      <th>customer_id</th>\n",
              "      <th>customer_unique_id</th>\n",
              "      <th>customer_zip_code_prefix</th>\n",
              "      <th>customer_city</th>\n",
              "      <th>customer_state</th>\n",
              "    </tr>\n",
              "  </thead>\n",
              "  <tbody>\n",
              "    <tr>\n",
              "      <th>74727</th>\n",
              "      <td>e1c909604e69c6f130e6689d367fc567</td>\n",
              "      <td>9b5f0dfe8d47369454842f3e38578aec</td>\n",
              "      <td>14403</td>\n",
              "      <td>franca</td>\n",
              "      <td>SP</td>\n",
              "    </tr>\n",
              "    <tr>\n",
              "      <th>61213</th>\n",
              "      <td>e1301cc68b82ab74180bc970f3e6c81b</td>\n",
              "      <td>f5344c7feb209d1e8a9de5d60ed79331</td>\n",
              "      <td>19360</td>\n",
              "      <td>santo anastacio</td>\n",
              "      <td>SP</td>\n",
              "    </tr>\n",
              "    <tr>\n",
              "      <th>2700</th>\n",
              "      <td>2f7a8b448ada52d632c573deda7664fb</td>\n",
              "      <td>297b0df27a85a8c6c3ba6600a4142d52</td>\n",
              "      <td>7170</td>\n",
              "      <td>guarulhos</td>\n",
              "      <td>SP</td>\n",
              "    </tr>\n",
              "    <tr>\n",
              "      <th>22767</th>\n",
              "      <td>15056ba6cfdcd8cc72654472f4efa085</td>\n",
              "      <td>ccb0d50210917c1efff5d08ee607413d</td>\n",
              "      <td>81650</td>\n",
              "      <td>curitiba</td>\n",
              "      <td>PR</td>\n",
              "    </tr>\n",
              "    <tr>\n",
              "      <th>25513</th>\n",
              "      <td>b037a695c6950aff65e546972aded583</td>\n",
              "      <td>6cf0d28024ebfa218fd7dafc2ea37dad</td>\n",
              "      <td>38320</td>\n",
              "      <td>santa vitoria</td>\n",
              "      <td>MG</td>\n",
              "    </tr>\n",
              "  </tbody>\n",
              "</table>\n",
              "</div>"
            ],
            "text/plain": [
              "                            customer_id                customer_unique_id   \n",
              "74727  e1c909604e69c6f130e6689d367fc567  9b5f0dfe8d47369454842f3e38578aec  \\\n",
              "61213  e1301cc68b82ab74180bc970f3e6c81b  f5344c7feb209d1e8a9de5d60ed79331   \n",
              "2700   2f7a8b448ada52d632c573deda7664fb  297b0df27a85a8c6c3ba6600a4142d52   \n",
              "22767  15056ba6cfdcd8cc72654472f4efa085  ccb0d50210917c1efff5d08ee607413d   \n",
              "25513  b037a695c6950aff65e546972aded583  6cf0d28024ebfa218fd7dafc2ea37dad   \n",
              "\n",
              "       customer_zip_code_prefix    customer_city customer_state  \n",
              "74727                     14403           franca             SP  \n",
              "61213                     19360  santo anastacio             SP  \n",
              "2700                       7170        guarulhos             SP  \n",
              "22767                     81650         curitiba             PR  \n",
              "25513                     38320    santa vitoria             MG  "
            ]
          },
          "execution_count": 1318,
          "metadata": {},
          "output_type": "execute_result"
        }
      ],
      "source": [
        "customers_df.sample(5)"
      ]
    },
    {
      "cell_type": "code",
      "execution_count": 1319,
      "metadata": {},
      "outputs": [
        {
          "data": {
            "text/plain": [
              "customer_city\n",
              "sao paulo            15540\n",
              "rio de janeiro        6882\n",
              "belo horizonte        2773\n",
              "brasilia              2131\n",
              "curitiba              1521\n",
              "                     ...  \n",
              "bequimao                 1\n",
              "andarai                  1\n",
              "vargem grande            1\n",
              "curvelandia              1\n",
              "eugenio de castro        1\n",
              "Name: count, Length: 4119, dtype: int64"
            ]
          },
          "execution_count": 1319,
          "metadata": {},
          "output_type": "execute_result"
        }
      ],
      "source": [
        "customers_df['customer_city'].value_counts()"
      ]
    },
    {
      "cell_type": "markdown",
      "metadata": {},
      "source": [
        "Explore orders & order_payments"
      ]
    },
    {
      "cell_type": "markdown",
      "metadata": {},
      "source": [
        "Combine orders & order_payments"
      ]
    },
    {
      "cell_type": "code",
      "execution_count": 1320,
      "metadata": {},
      "outputs": [
        {
          "data": {
            "text/html": [
              "<div>\n",
              "<style scoped>\n",
              "    .dataframe tbody tr th:only-of-type {\n",
              "        vertical-align: middle;\n",
              "    }\n",
              "\n",
              "    .dataframe tbody tr th {\n",
              "        vertical-align: top;\n",
              "    }\n",
              "\n",
              "    .dataframe thead th {\n",
              "        text-align: right;\n",
              "    }\n",
              "</style>\n",
              "<table border=\"1\" class=\"dataframe\">\n",
              "  <thead>\n",
              "    <tr style=\"text-align: right;\">\n",
              "      <th></th>\n",
              "      <th>order_id</th>\n",
              "      <th>customer_id</th>\n",
              "      <th>order_status</th>\n",
              "      <th>order_purchase_timestamp</th>\n",
              "      <th>order_approved_at</th>\n",
              "      <th>order_delivered_carrier_date</th>\n",
              "      <th>order_delivered_customer_date</th>\n",
              "      <th>order_estimated_delivery_date</th>\n",
              "      <th>delivery_time</th>\n",
              "      <th>month</th>\n",
              "      <th>payment_sequential</th>\n",
              "      <th>payment_type</th>\n",
              "      <th>payment_installments</th>\n",
              "      <th>payment_value</th>\n",
              "    </tr>\n",
              "  </thead>\n",
              "  <tbody>\n",
              "    <tr>\n",
              "      <th>16819</th>\n",
              "      <td>001b76dd48a5b1eee3e87778daa40df8</td>\n",
              "      <td>a62843b08086d1629415a203a7fd419d</td>\n",
              "      <td>delivered</td>\n",
              "      <td>2018-03-26 17:42:53</td>\n",
              "      <td>2018-03-26 17:50:17</td>\n",
              "      <td>2018-03-29 23:32:44</td>\n",
              "      <td>2018-04-06 18:36:23</td>\n",
              "      <td>2018-04-27</td>\n",
              "      <td>11.0</td>\n",
              "      <td>2018-03</td>\n",
              "      <td>1</td>\n",
              "      <td>credit_card</td>\n",
              "      <td>3</td>\n",
              "      <td>95.00</td>\n",
              "    </tr>\n",
              "    <tr>\n",
              "      <th>80595</th>\n",
              "      <td>29e966309fac074840d242051d6a357b</td>\n",
              "      <td>89205ebc66191c476b658ea3c79958fd</td>\n",
              "      <td>delivered</td>\n",
              "      <td>2018-03-15 14:38:41</td>\n",
              "      <td>2018-03-15 14:55:21</td>\n",
              "      <td>2018-03-16 19:09:00</td>\n",
              "      <td>2018-03-28 22:53:31</td>\n",
              "      <td>2018-04-04</td>\n",
              "      <td>13.0</td>\n",
              "      <td>2018-03</td>\n",
              "      <td>1</td>\n",
              "      <td>voucher</td>\n",
              "      <td>1</td>\n",
              "      <td>74.28</td>\n",
              "    </tr>\n",
              "    <tr>\n",
              "      <th>33834</th>\n",
              "      <td>cd5c1268e844dba45efdf51b22570143</td>\n",
              "      <td>c89afc9845116057d29003edcd515ed4</td>\n",
              "      <td>delivered</td>\n",
              "      <td>2018-04-05 01:32:17</td>\n",
              "      <td>2018-04-05 01:47:31</td>\n",
              "      <td>2018-04-05 22:22:03</td>\n",
              "      <td>2018-04-06 20:44:29</td>\n",
              "      <td>2018-04-18</td>\n",
              "      <td>1.0</td>\n",
              "      <td>2018-04</td>\n",
              "      <td>1</td>\n",
              "      <td>credit_card</td>\n",
              "      <td>6</td>\n",
              "      <td>67.39</td>\n",
              "    </tr>\n",
              "    <tr>\n",
              "      <th>68066</th>\n",
              "      <td>6e717532e0002abd1bdb69428673bbce</td>\n",
              "      <td>8171ac734467c1cd84d15c6ede5ee70c</td>\n",
              "      <td>delivered</td>\n",
              "      <td>2017-10-24 09:53:54</td>\n",
              "      <td>2017-10-24 10:07:13</td>\n",
              "      <td>2017-10-26 21:09:58</td>\n",
              "      <td>2017-11-27 19:13:13</td>\n",
              "      <td>2017-11-28</td>\n",
              "      <td>34.0</td>\n",
              "      <td>2017-10</td>\n",
              "      <td>1</td>\n",
              "      <td>credit_card</td>\n",
              "      <td>4</td>\n",
              "      <td>88.72</td>\n",
              "    </tr>\n",
              "    <tr>\n",
              "      <th>73586</th>\n",
              "      <td>12b63c9981f087f01de97adb7f885540</td>\n",
              "      <td>0ffc6725f7acf582cc19d7db4b2e0c97</td>\n",
              "      <td>delivered</td>\n",
              "      <td>2017-10-03 00:25:47</td>\n",
              "      <td>2017-10-03 00:49:17</td>\n",
              "      <td>2017-10-04 20:22:37</td>\n",
              "      <td>2017-10-13 14:07:51</td>\n",
              "      <td>2017-10-19</td>\n",
              "      <td>10.0</td>\n",
              "      <td>2017-10</td>\n",
              "      <td>1</td>\n",
              "      <td>credit_card</td>\n",
              "      <td>1</td>\n",
              "      <td>69.33</td>\n",
              "    </tr>\n",
              "  </tbody>\n",
              "</table>\n",
              "</div>"
            ],
            "text/plain": [
              "                               order_id                       customer_id   \n",
              "16819  001b76dd48a5b1eee3e87778daa40df8  a62843b08086d1629415a203a7fd419d  \\\n",
              "80595  29e966309fac074840d242051d6a357b  89205ebc66191c476b658ea3c79958fd   \n",
              "33834  cd5c1268e844dba45efdf51b22570143  c89afc9845116057d29003edcd515ed4   \n",
              "68066  6e717532e0002abd1bdb69428673bbce  8171ac734467c1cd84d15c6ede5ee70c   \n",
              "73586  12b63c9981f087f01de97adb7f885540  0ffc6725f7acf582cc19d7db4b2e0c97   \n",
              "\n",
              "      order_status order_purchase_timestamp   order_approved_at   \n",
              "16819    delivered      2018-03-26 17:42:53 2018-03-26 17:50:17  \\\n",
              "80595    delivered      2018-03-15 14:38:41 2018-03-15 14:55:21   \n",
              "33834    delivered      2018-04-05 01:32:17 2018-04-05 01:47:31   \n",
              "68066    delivered      2017-10-24 09:53:54 2017-10-24 10:07:13   \n",
              "73586    delivered      2017-10-03 00:25:47 2017-10-03 00:49:17   \n",
              "\n",
              "      order_delivered_carrier_date order_delivered_customer_date   \n",
              "16819          2018-03-29 23:32:44           2018-04-06 18:36:23  \\\n",
              "80595          2018-03-16 19:09:00           2018-03-28 22:53:31   \n",
              "33834          2018-04-05 22:22:03           2018-04-06 20:44:29   \n",
              "68066          2017-10-26 21:09:58           2017-11-27 19:13:13   \n",
              "73586          2017-10-04 20:22:37           2017-10-13 14:07:51   \n",
              "\n",
              "      order_estimated_delivery_date  delivery_time    month   \n",
              "16819                    2018-04-27           11.0  2018-03  \\\n",
              "80595                    2018-04-04           13.0  2018-03   \n",
              "33834                    2018-04-18            1.0  2018-04   \n",
              "68066                    2017-11-28           34.0  2017-10   \n",
              "73586                    2017-10-19           10.0  2017-10   \n",
              "\n",
              "       payment_sequential payment_type  payment_installments  payment_value  \n",
              "16819                   1  credit_card                     3          95.00  \n",
              "80595                   1      voucher                     1          74.28  \n",
              "33834                   1  credit_card                     6          67.39  \n",
              "68066                   1  credit_card                     4          88.72  \n",
              "73586                   1  credit_card                     1          69.33  "
            ]
          },
          "execution_count": 1320,
          "metadata": {},
          "output_type": "execute_result"
        }
      ],
      "source": [
        "orders_payments_df = pd.merge(orders_df, order_payments_df, on='order_id')\n",
        "orders_payments_df.sample(5)\n"
      ]
    },
    {
      "cell_type": "markdown",
      "metadata": {},
      "source": [
        "Explore orders, order_payments & customers"
      ]
    },
    {
      "cell_type": "markdown",
      "metadata": {},
      "source": [
        "Combine orders_payments & customers"
      ]
    },
    {
      "cell_type": "code",
      "execution_count": 1321,
      "metadata": {},
      "outputs": [
        {
          "data": {
            "text/html": [
              "<div>\n",
              "<style scoped>\n",
              "    .dataframe tbody tr th:only-of-type {\n",
              "        vertical-align: middle;\n",
              "    }\n",
              "\n",
              "    .dataframe tbody tr th {\n",
              "        vertical-align: top;\n",
              "    }\n",
              "\n",
              "    .dataframe thead th {\n",
              "        text-align: right;\n",
              "    }\n",
              "</style>\n",
              "<table border=\"1\" class=\"dataframe\">\n",
              "  <thead>\n",
              "    <tr style=\"text-align: right;\">\n",
              "      <th></th>\n",
              "      <th>order_id</th>\n",
              "      <th>customer_id</th>\n",
              "      <th>order_status</th>\n",
              "      <th>order_purchase_timestamp</th>\n",
              "      <th>order_approved_at</th>\n",
              "      <th>order_delivered_carrier_date</th>\n",
              "      <th>order_delivered_customer_date</th>\n",
              "      <th>order_estimated_delivery_date</th>\n",
              "      <th>delivery_time</th>\n",
              "      <th>month</th>\n",
              "      <th>payment_sequential</th>\n",
              "      <th>payment_type</th>\n",
              "      <th>payment_installments</th>\n",
              "      <th>payment_value</th>\n",
              "      <th>customer_unique_id</th>\n",
              "      <th>customer_zip_code_prefix</th>\n",
              "      <th>customer_city</th>\n",
              "      <th>customer_state</th>\n",
              "    </tr>\n",
              "  </thead>\n",
              "  <tbody>\n",
              "    <tr>\n",
              "      <th>82437</th>\n",
              "      <td>6784eb6ac53d515d589b68821f86a2c8</td>\n",
              "      <td>3fddf2d86128110da11753b3c78b844e</td>\n",
              "      <td>delivered</td>\n",
              "      <td>2018-02-05 19:27:32</td>\n",
              "      <td>2018-02-05 19:50:05</td>\n",
              "      <td>2018-02-07 00:11:37</td>\n",
              "      <td>2018-02-22 23:06:42</td>\n",
              "      <td>2018-03-07</td>\n",
              "      <td>17.0</td>\n",
              "      <td>2018-02</td>\n",
              "      <td>1</td>\n",
              "      <td>credit_card</td>\n",
              "      <td>3</td>\n",
              "      <td>220.54</td>\n",
              "      <td>e9f9c5d80e8af76d270545cae57bbced</td>\n",
              "      <td>91330</td>\n",
              "      <td>porto alegre</td>\n",
              "      <td>RS</td>\n",
              "    </tr>\n",
              "    <tr>\n",
              "      <th>48133</th>\n",
              "      <td>8d8f38e4ae1cf25848c0570ff236958b</td>\n",
              "      <td>10aa8b368f3ed547197e8bf71b29aacb</td>\n",
              "      <td>delivered</td>\n",
              "      <td>2018-07-20 11:26:01</td>\n",
              "      <td>2018-07-20 11:46:15</td>\n",
              "      <td>2018-07-23 11:23:00</td>\n",
              "      <td>2018-07-31 16:44:28</td>\n",
              "      <td>2018-08-13</td>\n",
              "      <td>11.0</td>\n",
              "      <td>2018-07</td>\n",
              "      <td>1</td>\n",
              "      <td>credit_card</td>\n",
              "      <td>2</td>\n",
              "      <td>193.30</td>\n",
              "      <td>cbc532e386016d35f07649a505964e7e</td>\n",
              "      <td>86410</td>\n",
              "      <td>ribeirao claro</td>\n",
              "      <td>PR</td>\n",
              "    </tr>\n",
              "    <tr>\n",
              "      <th>83279</th>\n",
              "      <td>400476a0437490391fa7b509434ccf53</td>\n",
              "      <td>b4d6740dc65324242332aea664f707f3</td>\n",
              "      <td>delivered</td>\n",
              "      <td>2018-04-30 20:53:11</td>\n",
              "      <td>2018-05-01 03:15:27</td>\n",
              "      <td>2018-05-02 16:58:00</td>\n",
              "      <td>2018-05-10 19:39:21</td>\n",
              "      <td>2018-05-29</td>\n",
              "      <td>9.0</td>\n",
              "      <td>2018-04</td>\n",
              "      <td>1</td>\n",
              "      <td>credit_card</td>\n",
              "      <td>5</td>\n",
              "      <td>318.97</td>\n",
              "      <td>97e6f4c6a893fcb96c107796bf12b952</td>\n",
              "      <td>36050</td>\n",
              "      <td>juiz de fora</td>\n",
              "      <td>MG</td>\n",
              "    </tr>\n",
              "    <tr>\n",
              "      <th>14471</th>\n",
              "      <td>de74cb2fd733e35659ccfebf498ca02b</td>\n",
              "      <td>004937d0f9d6ce15c2830c00c2f482e5</td>\n",
              "      <td>delivered</td>\n",
              "      <td>2018-01-27 17:01:48</td>\n",
              "      <td>2018-01-27 17:17:10</td>\n",
              "      <td>2018-01-30 22:14:37</td>\n",
              "      <td>2018-02-21 12:08:56</td>\n",
              "      <td>2018-02-20</td>\n",
              "      <td>24.0</td>\n",
              "      <td>2018-01</td>\n",
              "      <td>1</td>\n",
              "      <td>credit_card</td>\n",
              "      <td>1</td>\n",
              "      <td>6.96</td>\n",
              "      <td>a590fdd68e210fa5f42764a2493f6223</td>\n",
              "      <td>14870</td>\n",
              "      <td>jaboticabal</td>\n",
              "      <td>SP</td>\n",
              "    </tr>\n",
              "    <tr>\n",
              "      <th>42620</th>\n",
              "      <td>558b5f3eea27fa1b4cbc05013c45948e</td>\n",
              "      <td>177ba55869da8001fcca079af0b85832</td>\n",
              "      <td>delivered</td>\n",
              "      <td>2018-07-28 19:00:54</td>\n",
              "      <td>2018-07-28 19:10:11</td>\n",
              "      <td>2018-08-09 14:47:00</td>\n",
              "      <td>2018-08-16 17:32:07</td>\n",
              "      <td>2018-08-27</td>\n",
              "      <td>18.0</td>\n",
              "      <td>2018-07</td>\n",
              "      <td>1</td>\n",
              "      <td>credit_card</td>\n",
              "      <td>8</td>\n",
              "      <td>2438.51</td>\n",
              "      <td>85475e754525d6d222d917dbc8251801</td>\n",
              "      <td>58039</td>\n",
              "      <td>joao pessoa</td>\n",
              "      <td>PB</td>\n",
              "    </tr>\n",
              "  </tbody>\n",
              "</table>\n",
              "</div>"
            ],
            "text/plain": [
              "                               order_id                       customer_id   \n",
              "82437  6784eb6ac53d515d589b68821f86a2c8  3fddf2d86128110da11753b3c78b844e  \\\n",
              "48133  8d8f38e4ae1cf25848c0570ff236958b  10aa8b368f3ed547197e8bf71b29aacb   \n",
              "83279  400476a0437490391fa7b509434ccf53  b4d6740dc65324242332aea664f707f3   \n",
              "14471  de74cb2fd733e35659ccfebf498ca02b  004937d0f9d6ce15c2830c00c2f482e5   \n",
              "42620  558b5f3eea27fa1b4cbc05013c45948e  177ba55869da8001fcca079af0b85832   \n",
              "\n",
              "      order_status order_purchase_timestamp   order_approved_at   \n",
              "82437    delivered      2018-02-05 19:27:32 2018-02-05 19:50:05  \\\n",
              "48133    delivered      2018-07-20 11:26:01 2018-07-20 11:46:15   \n",
              "83279    delivered      2018-04-30 20:53:11 2018-05-01 03:15:27   \n",
              "14471    delivered      2018-01-27 17:01:48 2018-01-27 17:17:10   \n",
              "42620    delivered      2018-07-28 19:00:54 2018-07-28 19:10:11   \n",
              "\n",
              "      order_delivered_carrier_date order_delivered_customer_date   \n",
              "82437          2018-02-07 00:11:37           2018-02-22 23:06:42  \\\n",
              "48133          2018-07-23 11:23:00           2018-07-31 16:44:28   \n",
              "83279          2018-05-02 16:58:00           2018-05-10 19:39:21   \n",
              "14471          2018-01-30 22:14:37           2018-02-21 12:08:56   \n",
              "42620          2018-08-09 14:47:00           2018-08-16 17:32:07   \n",
              "\n",
              "      order_estimated_delivery_date  delivery_time    month   \n",
              "82437                    2018-03-07           17.0  2018-02  \\\n",
              "48133                    2018-08-13           11.0  2018-07   \n",
              "83279                    2018-05-29            9.0  2018-04   \n",
              "14471                    2018-02-20           24.0  2018-01   \n",
              "42620                    2018-08-27           18.0  2018-07   \n",
              "\n",
              "       payment_sequential payment_type  payment_installments  payment_value   \n",
              "82437                   1  credit_card                     3         220.54  \\\n",
              "48133                   1  credit_card                     2         193.30   \n",
              "83279                   1  credit_card                     5         318.97   \n",
              "14471                   1  credit_card                     1           6.96   \n",
              "42620                   1  credit_card                     8        2438.51   \n",
              "\n",
              "                     customer_unique_id  customer_zip_code_prefix   \n",
              "82437  e9f9c5d80e8af76d270545cae57bbced                     91330  \\\n",
              "48133  cbc532e386016d35f07649a505964e7e                     86410   \n",
              "83279  97e6f4c6a893fcb96c107796bf12b952                     36050   \n",
              "14471  a590fdd68e210fa5f42764a2493f6223                     14870   \n",
              "42620  85475e754525d6d222d917dbc8251801                     58039   \n",
              "\n",
              "        customer_city customer_state  \n",
              "82437    porto alegre             RS  \n",
              "48133  ribeirao claro             PR  \n",
              "83279    juiz de fora             MG  \n",
              "14471     jaboticabal             SP  \n",
              "42620     joao pessoa             PB  "
            ]
          },
          "execution_count": 1321,
          "metadata": {},
          "output_type": "execute_result"
        }
      ],
      "source": [
        "orders_payments_customers_df = pd.merge(orders_payments_df, customers_df, on='customer_id')\n",
        "orders_payments_customers_df.sample(5)"
      ]
    },
    {
      "cell_type": "markdown",
      "metadata": {},
      "source": [
        "Explore orders, order_items & products"
      ]
    },
    {
      "cell_type": "markdown",
      "metadata": {},
      "source": [
        "Combine orders, order_reviews, order_items & products"
      ]
    },
    {
      "cell_type": "code",
      "execution_count": 1322,
      "metadata": {},
      "outputs": [
        {
          "data": {
            "text/html": [
              "<div>\n",
              "<style scoped>\n",
              "    .dataframe tbody tr th:only-of-type {\n",
              "        vertical-align: middle;\n",
              "    }\n",
              "\n",
              "    .dataframe tbody tr th {\n",
              "        vertical-align: top;\n",
              "    }\n",
              "\n",
              "    .dataframe thead th {\n",
              "        text-align: right;\n",
              "    }\n",
              "</style>\n",
              "<table border=\"1\" class=\"dataframe\">\n",
              "  <thead>\n",
              "    <tr style=\"text-align: right;\">\n",
              "      <th></th>\n",
              "      <th>order_id</th>\n",
              "      <th>customer_id</th>\n",
              "      <th>order_status</th>\n",
              "      <th>order_purchase_timestamp</th>\n",
              "      <th>order_approved_at</th>\n",
              "      <th>order_delivered_carrier_date</th>\n",
              "      <th>order_delivered_customer_date</th>\n",
              "      <th>order_estimated_delivery_date</th>\n",
              "      <th>delivery_time</th>\n",
              "      <th>month</th>\n",
              "      <th>...</th>\n",
              "      <th>price</th>\n",
              "      <th>freight_value</th>\n",
              "      <th>product_category_name</th>\n",
              "      <th>product_name_lenght</th>\n",
              "      <th>product_description_lenght</th>\n",
              "      <th>product_photos_qty</th>\n",
              "      <th>product_weight_g</th>\n",
              "      <th>product_length_cm</th>\n",
              "      <th>product_height_cm</th>\n",
              "      <th>product_width_cm</th>\n",
              "    </tr>\n",
              "  </thead>\n",
              "  <tbody>\n",
              "    <tr>\n",
              "      <th>105186</th>\n",
              "      <td>3d536bddbad51e46b6bf390bdc17cb04</td>\n",
              "      <td>6dbbc0decd3468500c3faf6dccff6fd4</td>\n",
              "      <td>delivered</td>\n",
              "      <td>2018-02-24 17:24:00</td>\n",
              "      <td>2018-02-24 17:35:27</td>\n",
              "      <td>2018-02-27 13:55:00</td>\n",
              "      <td>2018-03-05 15:42:11</td>\n",
              "      <td>2018-03-29</td>\n",
              "      <td>8.0</td>\n",
              "      <td>2018-02</td>\n",
              "      <td>...</td>\n",
              "      <td>67.7</td>\n",
              "      <td>35.53</td>\n",
              "      <td>utilidades_domesticas</td>\n",
              "      <td>12.0</td>\n",
              "      <td>417.0</td>\n",
              "      <td>1.0</td>\n",
              "      <td>18800.0</td>\n",
              "      <td>65.0</td>\n",
              "      <td>35.0</td>\n",
              "      <td>38.0</td>\n",
              "    </tr>\n",
              "    <tr>\n",
              "      <th>9200</th>\n",
              "      <td>9eedca0abb31d377cd420b89775a64a8</td>\n",
              "      <td>aae6057b8281efa34faf1d9cd3f7cbc7</td>\n",
              "      <td>delivered</td>\n",
              "      <td>2017-11-28 13:58:56</td>\n",
              "      <td>2017-11-29 02:23:15</td>\n",
              "      <td>2017-11-29 23:38:50</td>\n",
              "      <td>2017-12-08 23:28:28</td>\n",
              "      <td>2017-12-21</td>\n",
              "      <td>10.0</td>\n",
              "      <td>2017-11</td>\n",
              "      <td>...</td>\n",
              "      <td>59.0</td>\n",
              "      <td>16.70</td>\n",
              "      <td>ferramentas_jardim</td>\n",
              "      <td>57.0</td>\n",
              "      <td>366.0</td>\n",
              "      <td>2.0</td>\n",
              "      <td>1650.0</td>\n",
              "      <td>30.0</td>\n",
              "      <td>22.0</td>\n",
              "      <td>30.0</td>\n",
              "    </tr>\n",
              "    <tr>\n",
              "      <th>47675</th>\n",
              "      <td>770df021424ca2a0552fb73c4583e2da</td>\n",
              "      <td>67a2c81044afd5b588ea23b1617f9a3a</td>\n",
              "      <td>delivered</td>\n",
              "      <td>2018-02-01 15:22:08</td>\n",
              "      <td>2018-02-02 02:54:27</td>\n",
              "      <td>2018-02-03 01:12:58</td>\n",
              "      <td>2018-02-06 20:54:35</td>\n",
              "      <td>2018-02-19</td>\n",
              "      <td>5.0</td>\n",
              "      <td>2018-02</td>\n",
              "      <td>...</td>\n",
              "      <td>99.9</td>\n",
              "      <td>12.40</td>\n",
              "      <td>cama_mesa_banho</td>\n",
              "      <td>57.0</td>\n",
              "      <td>188.0</td>\n",
              "      <td>1.0</td>\n",
              "      <td>1100.0</td>\n",
              "      <td>44.0</td>\n",
              "      <td>2.0</td>\n",
              "      <td>35.0</td>\n",
              "    </tr>\n",
              "    <tr>\n",
              "      <th>13941</th>\n",
              "      <td>22648d496637318d8713a49b4e628a87</td>\n",
              "      <td>421c2ebe259018dbc12a45e720840b6b</td>\n",
              "      <td>delivered</td>\n",
              "      <td>2018-07-30 13:55:11</td>\n",
              "      <td>2018-08-01 16:31:32</td>\n",
              "      <td>2018-07-31 14:07:00</td>\n",
              "      <td>2018-08-02 19:47:49</td>\n",
              "      <td>2018-08-09</td>\n",
              "      <td>3.0</td>\n",
              "      <td>2018-07</td>\n",
              "      <td>...</td>\n",
              "      <td>43.0</td>\n",
              "      <td>8.04</td>\n",
              "      <td>esporte_lazer</td>\n",
              "      <td>50.0</td>\n",
              "      <td>799.0</td>\n",
              "      <td>1.0</td>\n",
              "      <td>150.0</td>\n",
              "      <td>18.0</td>\n",
              "      <td>18.0</td>\n",
              "      <td>18.0</td>\n",
              "    </tr>\n",
              "    <tr>\n",
              "      <th>48778</th>\n",
              "      <td>65ac2f0250184b281dd44fd463341caf</td>\n",
              "      <td>c7716228f03391ae31bbf48d46c56fa3</td>\n",
              "      <td>delivered</td>\n",
              "      <td>2017-09-16 12:03:54</td>\n",
              "      <td>2017-09-16 12:15:16</td>\n",
              "      <td>2017-09-21 15:59:24</td>\n",
              "      <td>2017-09-26 22:42:38</td>\n",
              "      <td>2017-10-05</td>\n",
              "      <td>10.0</td>\n",
              "      <td>2017-09</td>\n",
              "      <td>...</td>\n",
              "      <td>39.9</td>\n",
              "      <td>14.10</td>\n",
              "      <td>esporte_lazer</td>\n",
              "      <td>51.0</td>\n",
              "      <td>2526.0</td>\n",
              "      <td>1.0</td>\n",
              "      <td>200.0</td>\n",
              "      <td>16.0</td>\n",
              "      <td>16.0</td>\n",
              "      <td>11.0</td>\n",
              "    </tr>\n",
              "  </tbody>\n",
              "</table>\n",
              "<p>5 rows × 30 columns</p>\n",
              "</div>"
            ],
            "text/plain": [
              "                                order_id                       customer_id   \n",
              "105186  3d536bddbad51e46b6bf390bdc17cb04  6dbbc0decd3468500c3faf6dccff6fd4  \\\n",
              "9200    9eedca0abb31d377cd420b89775a64a8  aae6057b8281efa34faf1d9cd3f7cbc7   \n",
              "47675   770df021424ca2a0552fb73c4583e2da  67a2c81044afd5b588ea23b1617f9a3a   \n",
              "13941   22648d496637318d8713a49b4e628a87  421c2ebe259018dbc12a45e720840b6b   \n",
              "48778   65ac2f0250184b281dd44fd463341caf  c7716228f03391ae31bbf48d46c56fa3   \n",
              "\n",
              "       order_status order_purchase_timestamp   order_approved_at   \n",
              "105186    delivered      2018-02-24 17:24:00 2018-02-24 17:35:27  \\\n",
              "9200      delivered      2017-11-28 13:58:56 2017-11-29 02:23:15   \n",
              "47675     delivered      2018-02-01 15:22:08 2018-02-02 02:54:27   \n",
              "13941     delivered      2018-07-30 13:55:11 2018-08-01 16:31:32   \n",
              "48778     delivered      2017-09-16 12:03:54 2017-09-16 12:15:16   \n",
              "\n",
              "       order_delivered_carrier_date order_delivered_customer_date   \n",
              "105186          2018-02-27 13:55:00           2018-03-05 15:42:11  \\\n",
              "9200            2017-11-29 23:38:50           2017-12-08 23:28:28   \n",
              "47675           2018-02-03 01:12:58           2018-02-06 20:54:35   \n",
              "13941           2018-07-31 14:07:00           2018-08-02 19:47:49   \n",
              "48778           2017-09-21 15:59:24           2017-09-26 22:42:38   \n",
              "\n",
              "       order_estimated_delivery_date  delivery_time    month  ... price   \n",
              "105186                    2018-03-29            8.0  2018-02  ...  67.7  \\\n",
              "9200                      2017-12-21           10.0  2017-11  ...  59.0   \n",
              "47675                     2018-02-19            5.0  2018-02  ...  99.9   \n",
              "13941                     2018-08-09            3.0  2018-07  ...  43.0   \n",
              "48778                     2017-10-05           10.0  2017-09  ...  39.9   \n",
              "\n",
              "        freight_value  product_category_name product_name_lenght   \n",
              "105186          35.53  utilidades_domesticas                12.0  \\\n",
              "9200            16.70     ferramentas_jardim                57.0   \n",
              "47675           12.40        cama_mesa_banho                57.0   \n",
              "13941            8.04          esporte_lazer                50.0   \n",
              "48778           14.10          esporte_lazer                51.0   \n",
              "\n",
              "       product_description_lenght product_photos_qty  product_weight_g   \n",
              "105186                      417.0                1.0           18800.0  \\\n",
              "9200                        366.0                2.0            1650.0   \n",
              "47675                       188.0                1.0            1100.0   \n",
              "13941                       799.0                1.0             150.0   \n",
              "48778                      2526.0                1.0             200.0   \n",
              "\n",
              "       product_length_cm product_height_cm product_width_cm  \n",
              "105186              65.0              35.0             38.0  \n",
              "9200                30.0              22.0             30.0  \n",
              "47675               44.0               2.0             35.0  \n",
              "13941               18.0              18.0             18.0  \n",
              "48778               16.0              16.0             11.0  \n",
              "\n",
              "[5 rows x 30 columns]"
            ]
          },
          "execution_count": 1322,
          "metadata": {},
          "output_type": "execute_result"
        }
      ],
      "source": [
        "orders_reviews_df = pd.merge(orders_df, order_reviews_df, on='order_id')\n",
        "orders_reviews_items_df = pd.merge(orders_reviews_df, order_items_df, on='order_id')\n",
        "orders_reviews_items_products_df = pd.merge(orders_reviews_items_df, products_df, on='product_id')\n",
        "orders_reviews_items_products_df.sample(5)"
      ]
    },
    {
      "cell_type": "markdown",
      "metadata": {
        "id": "zsyZjqak8DC2"
      },
      "source": [
        "## Visualization & Explanatory Analysis"
      ]
    },
    {
      "cell_type": "markdown",
      "metadata": {
        "id": "HZxOiQ6n8DC2"
      },
      "source": [
        "### Pertanyaan 1: Berapa total pendapatan per bulan? (Untuk mengetahui pendapatan dan prediksi perkembangan perusahaan) (Prediction)"
      ]
    },
    {
      "cell_type": "code",
      "execution_count": 1323,
      "metadata": {
        "id": "1swJUdAD8DC2"
      },
      "outputs": [
        {
          "name": "stdout",
          "output_type": "stream",
          "text": [
            "              time     revenue  order\n",
            "0   2016-September      252.24      3\n",
            "1     2016-October    59090.48    342\n",
            "2    2016-November        0.00      0\n",
            "3    2016-December       19.62      1\n",
            "4     2017-January   138488.04    850\n",
            "5    2017-February   291908.01   1886\n",
            "6       2017-March   449863.60   2837\n",
            "7       2017-April   417788.03   2571\n",
            "8         2017-May   592918.82   3944\n",
            "9        2017-June   511276.38   3436\n",
            "10       2017-July   592382.92   4317\n",
            "11     2017-August   674396.32   4550\n",
            "12  2017-September   727762.45   4516\n",
            "13    2017-October   779677.88   4860\n",
            "14   2017-November  1194882.80   7863\n",
            "15   2017-December   878401.48   5895\n",
            "16    2018-January  1114751.49   7562\n",
            "17   2018-February   992463.34   6952\n",
            "18      2018-March  1159652.12   7512\n",
            "19      2018-April  1160785.48   7209\n",
            "20        2018-May  1153982.15   7135\n",
            "21       2018-June  1023880.50   6419\n",
            "22       2018-July  1066288.50   6506\n",
            "23     2018-August  1022425.32   6698\n",
            "24  2018-September     4439.54     16\n",
            "25    2018-October      589.67      4\n"
          ]
        }
      ],
      "source": [
        "monthly_orders_revenue_df = orders_payments_customers_df.resample(rule='M', on='order_purchase_timestamp').agg({'payment_value': 'sum', 'order_id': 'count'})\n",
        "monthly_orders_revenue_df.index = monthly_orders_revenue_df.index.strftime('%Y-%B')\n",
        "monthly_orders_revenue_df.index.rename('time', inplace=True)\n",
        "monthly_orders_revenue_df = monthly_orders_revenue_df.reset_index()\n",
        "monthly_orders_revenue_df.rename(columns={\n",
        "    \"order_id\": \"order\",\n",
        "    \"payment_value\": \"revenue\"\n",
        "}, inplace=True)\n",
        "print(monthly_orders_revenue_df)"
      ]
    },
    {
      "cell_type": "code",
      "execution_count": 1324,
      "metadata": {},
      "outputs": [],
      "source": [
        "# filter the data to be more relevant\n",
        "monthly_orders_revenue_df = monthly_orders_revenue_df[:-2]"
      ]
    },
    {
      "cell_type": "code",
      "execution_count": 1325,
      "metadata": {},
      "outputs": [
        {
          "name": "stderr",
          "output_type": "stream",
          "text": [
            "C:\\Users\\Vito\\AppData\\Local\\Temp\\ipykernel_5152\\857996005.py:1: UserWarning: Could not infer format, so each element will be parsed individually, falling back to `dateutil`. To ensure parsing is consistent and as-expected, please specify a format.\n",
            "  monthly_orders_revenue_df['month'] = pd.to_datetime(monthly_orders_revenue_df['time']).dt.strftime('%B')\n"
          ]
        },
        {
          "data": {
            "image/png": "[encoded data removed]",
            "text/plain": [
              "<Figure size 1600x500 with 1 Axes>"
            ]
          },
          "metadata": {},
          "output_type": "display_data"
        }
      ],
      "source": [
        "monthly_orders_revenue_df['month'] = pd.to_datetime(monthly_orders_revenue_df['time']).dt.strftime('%B')\n",
        "\n",
        "plt.figure(figsize=(16, 5))\n",
        "plt.plot(\n",
        "    monthly_orders_revenue_df['time'], \n",
        "    monthly_orders_revenue_df['order'],\n",
        "    marker='o', \n",
        "    linewidth=2,\n",
        "    color=\"#72BCD4\")\n",
        "\n",
        "plt.title('Number of Orders per Month (2016-2018)', pad=21)\n",
        "plt.xlabel('Month', labelpad=21)\n",
        "plt.xticks(range(len(monthly_orders_revenue_df['time'])), monthly_orders_revenue_df['month'], rotation=45)\n",
        "plt.ylabel('Orders', labelpad=21)\n",
        "plt.text(0, 700, '2016')\n",
        "plt.text(4, 2000, '2017')\n",
        "plt.text(16, 7900, '2018')\n",
        "plt.show()"
      ]
    },
    {
      "cell_type": "code",
      "execution_count": 1326,
      "metadata": {},
      "outputs": [
        {
          "name": "stderr",
          "output_type": "stream",
          "text": [
            "C:\\Users\\Vito\\AppData\\Local\\Temp\\ipykernel_5152\\2752407631.py:1: UserWarning: Could not infer format, so each element will be parsed individually, falling back to `dateutil`. To ensure parsing is consistent and as-expected, please specify a format.\n",
            "  monthly_orders_revenue_df['month'] = pd.to_datetime(monthly_orders_revenue_df['time']).dt.strftime('%B')\n"
          ]
        },
        {
          "data": {
            "image/png": "[encoded data removed]",
            "text/plain": [
              "<Figure size 1600x500 with 1 Axes>"
            ]
          },
          "metadata": {},
          "output_type": "display_data"
        }
      ],
      "source": [
        "monthly_orders_revenue_df['month'] = pd.to_datetime(monthly_orders_revenue_df['time']).dt.strftime('%B')\n",
        "\n",
        "plt.figure(figsize=(16, 5))\n",
        "plt.plot(\n",
        "    monthly_orders_revenue_df['time'], \n",
        "    monthly_orders_revenue_df['revenue'],\n",
        "    marker='o', \n",
        "    linewidth=2,\n",
        "    color=\"#72BCD4\")\n",
        "\n",
        "formatter = ticker.FuncFormatter(lambda x, pos: 'R${:,.0f}'.format(x))\n",
        "plt.gca().yaxis.set_major_formatter(formatter)\n",
        "\n",
        "plt.title('Total Revenue per Month (2016-2018) in BRL', pad=21)\n",
        "plt.xlabel('Time', labelpad=21)\n",
        "plt.xticks(range(len(monthly_orders_revenue_df['time'])), monthly_orders_revenue_df['month'], rotation=45)\n",
        "plt.ylabel('Orders', labelpad=21)\n",
        "plt.text(0, 120000, '2016')\n",
        "plt.text(4, 350000, '2017')\n",
        "plt.text(16, 1170000, '2018')\n",
        "plt.show()"
      ]
    },
    {
      "cell_type": "markdown",
      "metadata": {
        "id": "DgHI7CiU8DC2"
      },
      "source": [
        "### Pertanyaan 2: Bagaimana performa produk yang dijual berdasarkan kategorinya? (Untuk mengetahui kualitas produk yang dijual dan apa yang perlu dikembangkan)"
      ]
    },
    {
      "cell_type": "code",
      "execution_count": 1327,
      "metadata": {},
      "outputs": [
        {
          "data": {
            "text/html": [
              "<div>\n",
              "<style scoped>\n",
              "    .dataframe tbody tr th:only-of-type {\n",
              "        vertical-align: middle;\n",
              "    }\n",
              "\n",
              "    .dataframe tbody tr th {\n",
              "        vertical-align: top;\n",
              "    }\n",
              "\n",
              "    .dataframe thead th {\n",
              "        text-align: right;\n",
              "    }\n",
              "</style>\n",
              "<table border=\"1\" class=\"dataframe\">\n",
              "  <thead>\n",
              "    <tr style=\"text-align: right;\">\n",
              "      <th></th>\n",
              "      <th>product_category</th>\n",
              "      <th>review_score</th>\n",
              "    </tr>\n",
              "  </thead>\n",
              "  <tbody>\n",
              "    <tr>\n",
              "      <th>0</th>\n",
              "      <td>cds_dvds_musicais</td>\n",
              "      <td>4.642857</td>\n",
              "    </tr>\n",
              "    <tr>\n",
              "      <th>1</th>\n",
              "      <td>fashion_roupa_infanto_juvenil</td>\n",
              "      <td>4.500000</td>\n",
              "    </tr>\n",
              "    <tr>\n",
              "      <th>2</th>\n",
              "      <td>livros_interesse_geral</td>\n",
              "      <td>4.446266</td>\n",
              "    </tr>\n",
              "    <tr>\n",
              "      <th>3</th>\n",
              "      <td>construcao_ferramentas_ferramentas</td>\n",
              "      <td>4.444444</td>\n",
              "    </tr>\n",
              "    <tr>\n",
              "      <th>4</th>\n",
              "      <td>flores</td>\n",
              "      <td>4.419355</td>\n",
              "    </tr>\n",
              "    <tr>\n",
              "      <th>5</th>\n",
              "      <td>livros_importados</td>\n",
              "      <td>4.400000</td>\n",
              "    </tr>\n",
              "    <tr>\n",
              "      <th>6</th>\n",
              "      <td>livros_tecnicos</td>\n",
              "      <td>4.368421</td>\n",
              "    </tr>\n",
              "    <tr>\n",
              "      <th>7</th>\n",
              "      <td>alimentos_bebidas</td>\n",
              "      <td>4.315412</td>\n",
              "    </tr>\n",
              "  </tbody>\n",
              "</table>\n",
              "</div>"
            ],
            "text/plain": [
              "                     product_category  review_score\n",
              "0                   cds_dvds_musicais      4.642857\n",
              "1       fashion_roupa_infanto_juvenil      4.500000\n",
              "2              livros_interesse_geral      4.446266\n",
              "3  construcao_ferramentas_ferramentas      4.444444\n",
              "4                              flores      4.419355\n",
              "5                   livros_importados      4.400000\n",
              "6                     livros_tecnicos      4.368421\n",
              "7                   alimentos_bebidas      4.315412"
            ]
          },
          "execution_count": 1327,
          "metadata": {},
          "output_type": "execute_result"
        }
      ],
      "source": [
        "product_reviews_df = orders_reviews_items_products_df.groupby('product_category_name').agg({'review_score': 'mean'}).sort_values(by='review_score', ascending=False)\n",
        "product_reviews_df.index.rename('product_category', inplace=True)\n",
        "product_reviews_df = product_reviews_df.reset_index()\n",
        "product_reviews_df.head(8)"
      ]
    },
    {
      "cell_type": "code",
      "execution_count": 1328,
      "metadata": {
        "id": "Go0lCsvO8DC2"
      },
      "outputs": [
        {
          "data": {
            "image/png": "[encoded data removed]",
            "text/plain": [
              "<Figure size 2100x800 with 2 Axes>"
            ]
          },
          "metadata": {},
          "output_type": "display_data"
        }
      ],
      "source": [
        "top_5_product_reviews_df = product_reviews_df[:5]\n",
        "bottom_5_product_reviews_df = product_reviews_df[-5:]\n",
        "\n",
        "fig, axs = plt.subplots(1, 2, figsize=(21, 8)) \n",
        "\n",
        "axs[0].barh(top_5_product_reviews_df['product_category'], top_5_product_reviews_df['review_score'], color='skyblue') \n",
        "axs[0].set_title('Best Performance Products Category by Review Score', pad=21) \n",
        "axs[0].set_xlabel('Review Score', labelpad=21)\n",
        "axs[0].set_xticks(np.arange(0, 5.5, 0.5))\n",
        "axs[0].set_ylabel('Product Category', labelpad=21)\n",
        "axs[0].invert_yaxis() \n",
        "\n",
        "axs[1].barh(bottom_5_product_reviews_df['product_category'], bottom_5_product_reviews_df['review_score'], color='royalblue') \n",
        "axs[1].set_title('Worst Performance Products Category by Review Score', pad=21) \n",
        "axs[1].set_xlabel('Review Score', labelpad=21)\n",
        "axs[1].set_ylabel('Product Category', labelpad=21)\n",
        "axs[1].invert_yaxis() \n",
        "\n",
        "plt.tight_layout()\n",
        "plt.show()"
      ]
    },
    {
      "cell_type": "markdown",
      "metadata": {},
      "source": [
        "### Pertanyaan 3: Bagaimana performa waktu pengiriman? (Untuk dapat mengoptimasi waktu pengiriman)"
      ]
    },
    {
      "cell_type": "code",
      "execution_count": 1329,
      "metadata": {},
      "outputs": [
        {
          "data": {
            "text/plain": [
              "count    100753.000000\n",
              "mean         12.106498\n",
              "std           9.555147\n",
              "min           1.000000\n",
              "25%           6.000000\n",
              "50%          10.000000\n",
              "75%          15.000000\n",
              "max         209.000000\n",
              "Name: delivery_time, dtype: float64"
            ]
          },
          "execution_count": 1329,
          "metadata": {},
          "output_type": "execute_result"
        }
      ],
      "source": [
        "orders_payments_customers_df['delivery_time'].describe()"
      ]
    },
    {
      "cell_type": "code",
      "execution_count": 1330,
      "metadata": {},
      "outputs": [
        {
          "data": {
            "image/png": "[encoded data removed]",
            "text/plain": [
              "<Figure size 1300x500 with 1 Axes>"
            ]
          },
          "metadata": {},
          "output_type": "display_data"
        }
      ],
      "source": [
        "plt.figure(figsize=(13, 5))\n",
        "plt.hist(orders_payments_customers_df['delivery_time'], bins=144, color='skyblue', edgecolor='black')\n",
        "plt.title('Histogram of Delivery Times (in Days)', pad=21)\n",
        "plt.xlabel('Delivery Time', labelpad=21)\n",
        "plt.ylabel('Frequency', labelpad=21)\n",
        "plt.show()\n"
      ]
    },
    {
      "cell_type": "markdown",
      "metadata": {},
      "source": [
        "### Pertanyaan 4: Bagaimana demografi pelanggan? (Untuk mengetahui karakteristik pelanngan) (RFM)"
      ]
    },
    {
      "cell_type": "code",
      "execution_count": 1331,
      "metadata": {},
      "outputs": [
        {
          "data": {
            "text/html": [
              "<div>\n",
              "<style scoped>\n",
              "    .dataframe tbody tr th:only-of-type {\n",
              "        vertical-align: middle;\n",
              "    }\n",
              "\n",
              "    .dataframe tbody tr th {\n",
              "        vertical-align: top;\n",
              "    }\n",
              "\n",
              "    .dataframe thead th {\n",
              "        text-align: right;\n",
              "    }\n",
              "</style>\n",
              "<table border=\"1\" class=\"dataframe\">\n",
              "  <thead>\n",
              "    <tr style=\"text-align: right;\">\n",
              "      <th></th>\n",
              "      <th>customer_id</th>\n",
              "      <th>customer_unique_id</th>\n",
              "      <th>customer_zip_code_prefix</th>\n",
              "      <th>customer_city</th>\n",
              "      <th>customer_state</th>\n",
              "    </tr>\n",
              "  </thead>\n",
              "  <tbody>\n",
              "    <tr>\n",
              "      <th>0</th>\n",
              "      <td>06b8999e2fba1a1fbc88172c00ba8bc7</td>\n",
              "      <td>861eff4711a542e4b93843c6dd7febb0</td>\n",
              "      <td>14409</td>\n",
              "      <td>franca</td>\n",
              "      <td>SP</td>\n",
              "    </tr>\n",
              "    <tr>\n",
              "      <th>1</th>\n",
              "      <td>18955e83d337fd6b2def6b18a428ac77</td>\n",
              "      <td>290c77bc529b7ac935b93aa66c333dc3</td>\n",
              "      <td>9790</td>\n",
              "      <td>sao bernardo do campo</td>\n",
              "      <td>SP</td>\n",
              "    </tr>\n",
              "    <tr>\n",
              "      <th>2</th>\n",
              "      <td>4e7b3e00288586ebd08712fdd0374a03</td>\n",
              "      <td>060e732b5b29e8181a18229c7b0b2b5e</td>\n",
              "      <td>1151</td>\n",
              "      <td>sao paulo</td>\n",
              "      <td>SP</td>\n",
              "    </tr>\n",
              "    <tr>\n",
              "      <th>3</th>\n",
              "      <td>b2b6027bc5c5109e529d4dc6358b12c3</td>\n",
              "      <td>259dac757896d24d7702b9acbbff3f3c</td>\n",
              "      <td>8775</td>\n",
              "      <td>mogi das cruzes</td>\n",
              "      <td>SP</td>\n",
              "    </tr>\n",
              "    <tr>\n",
              "      <th>4</th>\n",
              "      <td>4f2d8ab171c80ec8364f7c12e735b23ad</td>\n",
              "      <td>345ecd01c38d18a9036ed96c73b8d066</td>\n",
              "      <td>13056</td>\n",
              "      <td>campinas</td>\n",
              "      <td>SP</td>\n",
              "    </tr>\n",
              "    <tr>\n",
              "      <th>5</th>\n",
              "      <td>879864dab9bc3047522c92c82e1212b8</td>\n",
              "      <td>4c93744516667ad3b8f1fb645a3116a4</td>\n",
              "      <td>89254</td>\n",
              "      <td>jaragua do sul</td>\n",
              "      <td>SC</td>\n",
              "    </tr>\n",
              "    <tr>\n",
              "      <th>6</th>\n",
              "      <td>fd826e7cf63160e536e0908c76c3f441</td>\n",
              "      <td>addec96d2e059c80c30fe6871d30d177</td>\n",
              "      <td>4534</td>\n",
              "      <td>sao paulo</td>\n",
              "      <td>SP</td>\n",
              "    </tr>\n",
              "    <tr>\n",
              "      <th>7</th>\n",
              "      <td>5e274e7a0c3809e14aba7ad5aae0d407</td>\n",
              "      <td>57b2a98a409812fe9618067b6b8ebe4f</td>\n",
              "      <td>35182</td>\n",
              "      <td>timoteo</td>\n",
              "      <td>MG</td>\n",
              "    </tr>\n",
              "  </tbody>\n",
              "</table>\n",
              "</div>"
            ],
            "text/plain": [
              "                         customer_id                customer_unique_id   \n",
              "0   06b8999e2fba1a1fbc88172c00ba8bc7  861eff4711a542e4b93843c6dd7febb0  \\\n",
              "1   18955e83d337fd6b2def6b18a428ac77  290c77bc529b7ac935b93aa66c333dc3   \n",
              "2   4e7b3e00288586ebd08712fdd0374a03  060e732b5b29e8181a18229c7b0b2b5e   \n",
              "3   b2b6027bc5c5109e529d4dc6358b12c3  259dac757896d24d7702b9acbbff3f3c   \n",
              "4  4f2d8ab171c80ec8364f7c12e735b23ad  345ecd01c38d18a9036ed96c73b8d066   \n",
              "5   879864dab9bc3047522c92c82e1212b8  4c93744516667ad3b8f1fb645a3116a4   \n",
              "6   fd826e7cf63160e536e0908c76c3f441  addec96d2e059c80c30fe6871d30d177   \n",
              "7   5e274e7a0c3809e14aba7ad5aae0d407  57b2a98a409812fe9618067b6b8ebe4f   \n",
              "\n",
              "   customer_zip_code_prefix          customer_city customer_state  \n",
              "0                     14409                 franca             SP  \n",
              "1                      9790  sao bernardo do campo             SP  \n",
              "2                      1151              sao paulo             SP  \n",
              "3                      8775        mogi das cruzes             SP  \n",
              "4                     13056               campinas             SP  \n",
              "5                     89254         jaragua do sul             SC  \n",
              "6                      4534              sao paulo             SP  \n",
              "7                     35182                timoteo             MG  "
            ]
          },
          "execution_count": 1331,
          "metadata": {},
          "output_type": "execute_result"
        }
      ],
      "source": [
        "customers_df.head(8)"
      ]
    },
    {
      "cell_type": "markdown",
      "metadata": {},
      "source": [
        "Berdasarkan kota"
      ]
    },
    {
      "cell_type": "code",
      "execution_count": 1332,
      "metadata": {},
      "outputs": [
        {
          "data": {
            "text/html": [
              "<div>\n",
              "<style scoped>\n",
              "    .dataframe tbody tr th:only-of-type {\n",
              "        vertical-align: middle;\n",
              "    }\n",
              "\n",
              "    .dataframe tbody tr th {\n",
              "        vertical-align: top;\n",
              "    }\n",
              "\n",
              "    .dataframe thead th {\n",
              "        text-align: right;\n",
              "    }\n",
              "</style>\n",
              "<table border=\"1\" class=\"dataframe\">\n",
              "  <thead>\n",
              "    <tr style=\"text-align: right;\">\n",
              "      <th></th>\n",
              "      <th>customer_city</th>\n",
              "      <th>customer_count</th>\n",
              "    </tr>\n",
              "  </thead>\n",
              "  <tbody>\n",
              "    <tr>\n",
              "      <th>0</th>\n",
              "      <td>abadia dos dourados</td>\n",
              "      <td>3</td>\n",
              "    </tr>\n",
              "    <tr>\n",
              "      <th>1</th>\n",
              "      <td>abadiania</td>\n",
              "      <td>1</td>\n",
              "    </tr>\n",
              "    <tr>\n",
              "      <th>2</th>\n",
              "      <td>abaete</td>\n",
              "      <td>12</td>\n",
              "    </tr>\n",
              "    <tr>\n",
              "      <th>3</th>\n",
              "      <td>abaetetuba</td>\n",
              "      <td>11</td>\n",
              "    </tr>\n",
              "    <tr>\n",
              "      <th>4</th>\n",
              "      <td>abaiara</td>\n",
              "      <td>2</td>\n",
              "    </tr>\n",
              "    <tr>\n",
              "      <th>...</th>\n",
              "      <td>...</td>\n",
              "      <td>...</td>\n",
              "    </tr>\n",
              "    <tr>\n",
              "      <th>4114</th>\n",
              "      <td>xinguara</td>\n",
              "      <td>9</td>\n",
              "    </tr>\n",
              "    <tr>\n",
              "      <th>4115</th>\n",
              "      <td>xique-xique</td>\n",
              "      <td>3</td>\n",
              "    </tr>\n",
              "    <tr>\n",
              "      <th>4116</th>\n",
              "      <td>zacarias</td>\n",
              "      <td>2</td>\n",
              "    </tr>\n",
              "    <tr>\n",
              "      <th>4117</th>\n",
              "      <td>ze doca</td>\n",
              "      <td>5</td>\n",
              "    </tr>\n",
              "    <tr>\n",
              "      <th>4118</th>\n",
              "      <td>zortea</td>\n",
              "      <td>2</td>\n",
              "    </tr>\n",
              "  </tbody>\n",
              "</table>\n",
              "<p>4119 rows × 2 columns</p>\n",
              "</div>"
            ],
            "text/plain": [
              "            customer_city  customer_count\n",
              "0     abadia dos dourados               3\n",
              "1               abadiania               1\n",
              "2                  abaete              12\n",
              "3              abaetetuba              11\n",
              "4                 abaiara               2\n",
              "...                   ...             ...\n",
              "4114             xinguara               9\n",
              "4115          xique-xique               3\n",
              "4116             zacarias               2\n",
              "4117              ze doca               5\n",
              "4118               zortea               2\n",
              "\n",
              "[4119 rows x 2 columns]"
            ]
          },
          "execution_count": 1332,
          "metadata": {},
          "output_type": "execute_result"
        }
      ],
      "source": [
        "by_city_df = orders_payments_customers_df.groupby(by=\"customer_city\").customer_id.nunique().reset_index()\n",
        "by_city_df.rename(columns={\n",
        "    \"customer_id\": \"customer_count\"\n",
        "}, inplace=True)\n",
        "by_city_df"
      ]
    },
    {
      "cell_type": "code",
      "execution_count": 1333,
      "metadata": {},
      "outputs": [
        {
          "data": {
            "image/png": "[encoded data removed]",
            "text/plain": [
              "<Figure size 1000x500 with 1 Axes>"
            ]
          },
          "metadata": {},
          "output_type": "display_data"
        }
      ],
      "source": [
        "top_5_by_city_df = by_city_df.sort_values(by=\"customer_count\", ascending=False)[:5]\n",
        "\n",
        "colors = ['brown'] + ['grey'] * (len(top_5_by_city_df) - 1)\n",
        "\n",
        "plt.figure(figsize=(10, 5))\n",
        "sns.barplot(\n",
        "    x=\"customer_count\", \n",
        "    y=\"customer_city\",\n",
        "    data=top_5_by_city_df.sort_values(by=\"customer_count\", ascending=False),\n",
        "    palette=colors,\n",
        "    hue=\"customer_city\"\n",
        ")\n",
        "plt.title(\"Number of Customer by Cities\", pad=21)\n",
        "plt.ylabel('City', labelpad=21)\n",
        "plt.xlabel('Number of Customers', labelpad=21)\n",
        "plt.tick_params(axis='y', labelsize=12)\n",
        "plt.show()"
      ]
    },
    {
      "cell_type": "markdown",
      "metadata": {},
      "source": [
        "RFM Analysis"
      ]
    },
    {
      "cell_type": "code",
      "execution_count": 1334,
      "metadata": {},
      "outputs": [
        {
          "data": {
            "text/plain": [
              "30739   2017-11-29 09:23:47\n",
              "36811   2017-06-13 21:11:56\n",
              "72536   2018-04-07 08:33:36\n",
              "24675   2018-03-15 14:39:28\n",
              "20721   2017-05-21 18:53:29\n",
              "669     2018-04-15 22:11:11\n",
              "20164   2017-09-03 16:44:56\n",
              "52200   2018-03-02 21:15:46\n",
              "Name: order_purchase_timestamp, dtype: datetime64[ns]"
            ]
          },
          "execution_count": 1334,
          "metadata": {},
          "output_type": "execute_result"
        }
      ],
      "source": [
        "orders_payments_customers_df['order_purchase_timestamp'].sample(8)"
      ]
    },
    {
      "cell_type": "code",
      "execution_count": 1335,
      "metadata": {},
      "outputs": [],
      "source": [
        "orders_customers_df = pd.merge(orders_df, customers_df, on='customer_id')\n",
        "\n",
        "\n",
        "# Calculate Recency\n",
        "latest_order_date = orders_customers_df.groupby('customer_unique_id')['order_purchase_timestamp'].max()\n",
        "recent_date =  orders_customers_df['order_purchase_timestamp'].max() + pd.Timedelta(days=1)\n",
        "recency_df = (recent_date - latest_order_date).dt.days\n",
        "rfm_df = pd.DataFrame(recency_df).reset_index()\n",
        "rfm_df.columns = ['customer_unique_id', 'recency']\n",
        "\n",
        "# Calculate Frequency\n",
        "frequency_df = orders_customers_df.groupby('customer_unique_id')['order_id'].count()\n",
        "rfm_df['frequency'] = frequency_df.values\n",
        "rfm_df.sample(8)\n",
        "# rfm_df.describe()\n",
        "\n",
        "# Calculate Monetary\n",
        "monetary_df = orders_payments_customers_df.groupby('customer_unique_id')['payment_value'].sum()\n",
        "rfm_df = rfm_df.merge(monetary_df, on='customer_unique_id')\n",
        "rfm_df.rename(columns={\n",
        "    \"payment_value\": \"monetary\"\n",
        "}, inplace=True)\n",
        "# rfm_df.describe()\n",
        "\n",
        "# drop rows if the monetry is 0\n",
        "rfm_df = rfm_df[rfm_df['monetary'] > 0]\n"
      ]
    },
    {
      "cell_type": "code",
      "execution_count": 1336,
      "metadata": {},
      "outputs": [
        {
          "data": {
            "text/html": [
              "<div>\n",
              "<style scoped>\n",
              "    .dataframe tbody tr th:only-of-type {\n",
              "        vertical-align: middle;\n",
              "    }\n",
              "\n",
              "    .dataframe tbody tr th {\n",
              "        vertical-align: top;\n",
              "    }\n",
              "\n",
              "    .dataframe thead th {\n",
              "        text-align: right;\n",
              "    }\n",
              "</style>\n",
              "<table border=\"1\" class=\"dataframe\">\n",
              "  <thead>\n",
              "    <tr style=\"text-align: right;\">\n",
              "      <th></th>\n",
              "      <th>recency</th>\n",
              "      <th>frequency</th>\n",
              "      <th>monetary</th>\n",
              "    </tr>\n",
              "  </thead>\n",
              "  <tbody>\n",
              "    <tr>\n",
              "      <th>count</th>\n",
              "      <td>96091.000000</td>\n",
              "      <td>96091.000000</td>\n",
              "      <td>96091.000000</td>\n",
              "    </tr>\n",
              "    <tr>\n",
              "      <th>mean</th>\n",
              "      <td>288.737926</td>\n",
              "      <td>1.034811</td>\n",
              "      <td>166.595906</td>\n",
              "    </tr>\n",
              "    <tr>\n",
              "      <th>std</th>\n",
              "      <td>153.405643</td>\n",
              "      <td>0.214389</td>\n",
              "      <td>231.432149</td>\n",
              "    </tr>\n",
              "    <tr>\n",
              "      <th>min</th>\n",
              "      <td>1.000000</td>\n",
              "      <td>1.000000</td>\n",
              "      <td>9.590000</td>\n",
              "    </tr>\n",
              "    <tr>\n",
              "      <th>25%</th>\n",
              "      <td>164.000000</td>\n",
              "      <td>1.000000</td>\n",
              "      <td>63.125000</td>\n",
              "    </tr>\n",
              "    <tr>\n",
              "      <th>50%</th>\n",
              "      <td>269.000000</td>\n",
              "      <td>1.000000</td>\n",
              "      <td>108.000000</td>\n",
              "    </tr>\n",
              "    <tr>\n",
              "      <th>75%</th>\n",
              "      <td>398.000000</td>\n",
              "      <td>1.000000</td>\n",
              "      <td>183.530000</td>\n",
              "    </tr>\n",
              "    <tr>\n",
              "      <th>max</th>\n",
              "      <td>773.000000</td>\n",
              "      <td>17.000000</td>\n",
              "      <td>13664.080000</td>\n",
              "    </tr>\n",
              "  </tbody>\n",
              "</table>\n",
              "</div>"
            ],
            "text/plain": [
              "            recency     frequency      monetary\n",
              "count  96091.000000  96091.000000  96091.000000\n",
              "mean     288.737926      1.034811    166.595906\n",
              "std      153.405643      0.214389    231.432149\n",
              "min        1.000000      1.000000      9.590000\n",
              "25%      164.000000      1.000000     63.125000\n",
              "50%      269.000000      1.000000    108.000000\n",
              "75%      398.000000      1.000000    183.530000\n",
              "max      773.000000     17.000000  13664.080000"
            ]
          },
          "execution_count": 1336,
          "metadata": {},
          "output_type": "execute_result"
        }
      ],
      "source": [
        "rfm_df.describe()"
      ]
    },
    {
      "cell_type": "code",
      "execution_count": 1337,
      "metadata": {},
      "outputs": [
        {
          "data": {
            "text/html": [
              "<div>\n",
              "<style scoped>\n",
              "    .dataframe tbody tr th:only-of-type {\n",
              "        vertical-align: middle;\n",
              "    }\n",
              "\n",
              "    .dataframe tbody tr th {\n",
              "        vertical-align: top;\n",
              "    }\n",
              "\n",
              "    .dataframe thead th {\n",
              "        text-align: right;\n",
              "    }\n",
              "</style>\n",
              "<table border=\"1\" class=\"dataframe\">\n",
              "  <thead>\n",
              "    <tr style=\"text-align: right;\">\n",
              "      <th></th>\n",
              "      <th>customer_unique_id</th>\n",
              "      <th>recency</th>\n",
              "      <th>frequency</th>\n",
              "      <th>monetary</th>\n",
              "    </tr>\n",
              "  </thead>\n",
              "  <tbody>\n",
              "    <tr>\n",
              "      <th>94535</th>\n",
              "      <td>fbd6f827799c2af60c9b3de56d52917a</td>\n",
              "      <td>427</td>\n",
              "      <td>1</td>\n",
              "      <td>125.43</td>\n",
              "    </tr>\n",
              "    <tr>\n",
              "      <th>69041</th>\n",
              "      <td>b7b4d3feb264b507cd9a5742120c73e7</td>\n",
              "      <td>254</td>\n",
              "      <td>1</td>\n",
              "      <td>44.09</td>\n",
              "    </tr>\n",
              "    <tr>\n",
              "      <th>59422</th>\n",
              "      <td>9e22c659d0383dfce29dd8008e577b1f</td>\n",
              "      <td>530</td>\n",
              "      <td>1</td>\n",
              "      <td>200.15</td>\n",
              "    </tr>\n",
              "    <tr>\n",
              "      <th>9469</th>\n",
              "      <td>1905930db2756081b13e8a504adc206b</td>\n",
              "      <td>327</td>\n",
              "      <td>1</td>\n",
              "      <td>24.17</td>\n",
              "    </tr>\n",
              "    <tr>\n",
              "      <th>44482</th>\n",
              "      <td>76531fa9e9666a24725759d1cff317de</td>\n",
              "      <td>471</td>\n",
              "      <td>1</td>\n",
              "      <td>85.14</td>\n",
              "    </tr>\n",
              "    <tr>\n",
              "      <th>18207</th>\n",
              "      <td>3050b3ce774db15c4112fefb072ac5c8</td>\n",
              "      <td>161</td>\n",
              "      <td>1</td>\n",
              "      <td>60.95</td>\n",
              "    </tr>\n",
              "    <tr>\n",
              "      <th>32725</th>\n",
              "      <td>56eb8efb53949c3199aa0bebeb50a162</td>\n",
              "      <td>323</td>\n",
              "      <td>1</td>\n",
              "      <td>28.57</td>\n",
              "    </tr>\n",
              "    <tr>\n",
              "      <th>91708</th>\n",
              "      <td>f43b5eb3178b2129b9c4ea51024fcbd9</td>\n",
              "      <td>201</td>\n",
              "      <td>1</td>\n",
              "      <td>61.79</td>\n",
              "    </tr>\n",
              "  </tbody>\n",
              "</table>\n",
              "</div>"
            ],
            "text/plain": [
              "                     customer_unique_id  recency  frequency  monetary\n",
              "94535  fbd6f827799c2af60c9b3de56d52917a      427          1    125.43\n",
              "69041  b7b4d3feb264b507cd9a5742120c73e7      254          1     44.09\n",
              "59422  9e22c659d0383dfce29dd8008e577b1f      530          1    200.15\n",
              "9469   1905930db2756081b13e8a504adc206b      327          1     24.17\n",
              "44482  76531fa9e9666a24725759d1cff317de      471          1     85.14\n",
              "18207  3050b3ce774db15c4112fefb072ac5c8      161          1     60.95\n",
              "32725  56eb8efb53949c3199aa0bebeb50a162      323          1     28.57\n",
              "91708  f43b5eb3178b2129b9c4ea51024fcbd9      201          1     61.79"
            ]
          },
          "execution_count": 1337,
          "metadata": {},
          "output_type": "execute_result"
        }
      ],
      "source": [
        "rfm_df.sample(8)"
      ]
    },
    {
      "cell_type": "code",
      "execution_count": 1338,
      "metadata": {},
      "outputs": [
        {
          "data": {
            "image/png": "[encoded data removed]",
            "text/plain": [
              "<Figure size 3000x600 with 3 Axes>"
            ]
          },
          "metadata": {},
          "output_type": "display_data"
        }
      ],
      "source": [
        "fig, ax = plt.subplots(nrows=1, ncols=3, figsize=(30, 6))\n",
        "\n",
        "rfm_df['truncated_customer_unique_id'] = rfm_df['customer_unique_id'].apply(lambda x: x[:5])\n",
        "\n",
        "colors = ['skyblue', 'skyblue', 'skyblue', 'skyblue', 'skyblue']\n",
        "sns.barplot(y=\"recency\", x=\"truncated_customer_unique_id\", data=rfm_df.sort_values(by=\"recency\", ascending=True).head(5), palette=colors, hue='truncated_customer_unique_id', ax=ax[0])\n",
        "ax[0].set_ylabel(None)\n",
        "ax[0].set_xlabel(None)\n",
        "ax[0].set_title(\"By Recency (days)\", loc=\"center\", pad=21, fontsize=21)\n",
        "ax[0].tick_params(axis ='x', labelsize=15)\n",
        "\n",
        "sns.barplot(y=\"frequency\", x=\"truncated_customer_unique_id\", data=rfm_df.sort_values(by=\"frequency\", ascending=False).head(5), palette=colors, hue='truncated_customer_unique_id', ax=ax[1])\n",
        "ax[1].set_ylabel(None)\n",
        "ax[1].set_xlabel(None)\n",
        "ax[1].set_title(\"By Frequency\", loc=\"center\", pad=21, fontsize=21)\n",
        "ax[1].tick_params(axis='x', labelsize=15)\n",
        "\n",
        "sns.barplot(y=\"monetary\", x=\"truncated_customer_unique_id\", data=rfm_df.sort_values(by=\"monetary\", ascending=False).head(5), palette=colors, hue='truncated_customer_unique_id', ax=ax[2])\n",
        "ax[2].set_ylabel(None)\n",
        "ax[2].set_xlabel(None)\n",
        "ax[2].set_title(\"By Monetary (in BRL)\", loc=\"center\", pad=21, fontsize=21)\n",
        "ax[2].tick_params(axis='x', labelsize=15)\n",
        "\n",
        "plt.suptitle(\"Best Customer Based on RFM Parameters (customer_unique_id)\", fontsize=21, y=1.05)\n",
        "plt.show()"
      ]
    },
    {
      "cell_type": "code",
      "execution_count": 1339,
      "metadata": {},
      "outputs": [
        {
          "data": {
            "text/html": [
              "<div>\n",
              "<style scoped>\n",
              "    .dataframe tbody tr th:only-of-type {\n",
              "        vertical-align: middle;\n",
              "    }\n",
              "\n",
              "    .dataframe tbody tr th {\n",
              "        vertical-align: top;\n",
              "    }\n",
              "\n",
              "    .dataframe thead th {\n",
              "        text-align: right;\n",
              "    }\n",
              "</style>\n",
              "<table border=\"1\" class=\"dataframe\">\n",
              "  <thead>\n",
              "    <tr style=\"text-align: right;\">\n",
              "      <th></th>\n",
              "      <th>customer_unique_id</th>\n",
              "      <th>recency</th>\n",
              "      <th>frequency</th>\n",
              "      <th>monetary</th>\n",
              "      <th>truncated_customer_unique_id</th>\n",
              "      <th>r_rank</th>\n",
              "      <th>f_rank</th>\n",
              "      <th>m_rank</th>\n",
              "    </tr>\n",
              "  </thead>\n",
              "  <tbody>\n",
              "    <tr>\n",
              "      <th>0</th>\n",
              "      <td>0000366f3b9a7992bf8c76cfdf3221e2</td>\n",
              "      <td>161</td>\n",
              "      <td>1</td>\n",
              "      <td>141.90</td>\n",
              "      <td>00003</td>\n",
              "      <td>73189.5</td>\n",
              "      <td>46547.5</td>\n",
              "      <td>60810.5</td>\n",
              "    </tr>\n",
              "    <tr>\n",
              "      <th>1</th>\n",
              "      <td>0000b849f77a49e4a4ce2b2a4ca5be3f</td>\n",
              "      <td>164</td>\n",
              "      <td>1</td>\n",
              "      <td>27.19</td>\n",
              "      <td>0000b</td>\n",
              "      <td>72183.5</td>\n",
              "      <td>46547.5</td>\n",
              "      <td>2085.5</td>\n",
              "    </tr>\n",
              "    <tr>\n",
              "      <th>2</th>\n",
              "      <td>0000f46a3911fa3c0805444483337064</td>\n",
              "      <td>586</td>\n",
              "      <td>1</td>\n",
              "      <td>86.22</td>\n",
              "      <td>0000f</td>\n",
              "      <td>3566.0</td>\n",
              "      <td>46547.5</td>\n",
              "      <td>37780.5</td>\n",
              "    </tr>\n",
              "    <tr>\n",
              "      <th>3</th>\n",
              "      <td>0000f6ccb0745a6a4b88665a16c9f078</td>\n",
              "      <td>370</td>\n",
              "      <td>1</td>\n",
              "      <td>43.62</td>\n",
              "      <td>0000f</td>\n",
              "      <td>27885.5</td>\n",
              "      <td>46547.5</td>\n",
              "      <td>11719.0</td>\n",
              "    </tr>\n",
              "    <tr>\n",
              "      <th>4</th>\n",
              "      <td>0004aac84e0df4da2b147fca70cf8255</td>\n",
              "      <td>337</td>\n",
              "      <td>1</td>\n",
              "      <td>196.89</td>\n",
              "      <td>0004a</td>\n",
              "      <td>32753.0</td>\n",
              "      <td>46547.5</td>\n",
              "      <td>74773.5</td>\n",
              "    </tr>\n",
              "  </tbody>\n",
              "</table>\n",
              "</div>"
            ],
            "text/plain": [
              "                 customer_unique_id  recency  frequency  monetary   \n",
              "0  0000366f3b9a7992bf8c76cfdf3221e2      161          1    141.90  \\\n",
              "1  0000b849f77a49e4a4ce2b2a4ca5be3f      164          1     27.19   \n",
              "2  0000f46a3911fa3c0805444483337064      586          1     86.22   \n",
              "3  0000f6ccb0745a6a4b88665a16c9f078      370          1     43.62   \n",
              "4  0004aac84e0df4da2b147fca70cf8255      337          1    196.89   \n",
              "\n",
              "  truncated_customer_unique_id   r_rank   f_rank   m_rank  \n",
              "0                        00003  73189.5  46547.5  60810.5  \n",
              "1                        0000b  72183.5  46547.5   2085.5  \n",
              "2                        0000f   3566.0  46547.5  37780.5  \n",
              "3                        0000f  27885.5  46547.5  11719.0  \n",
              "4                        0004a  32753.0  46547.5  74773.5  "
            ]
          },
          "execution_count": 1339,
          "metadata": {},
          "output_type": "execute_result"
        }
      ],
      "source": [
        "rfm_df['r_rank'] = rfm_df['recency'].rank(ascending=False)\n",
        "rfm_df['f_rank'] = rfm_df['frequency'].rank(ascending=True)\n",
        "rfm_df['m_rank'] = rfm_df['monetary'].rank(ascending=True)\n",
        "\n",
        "rfm_df.head()"
      ]
    },
    {
      "cell_type": "code",
      "execution_count": 1340,
      "metadata": {},
      "outputs": [
        {
          "data": {
            "text/html": [
              "<div>\n",
              "<style scoped>\n",
              "    .dataframe tbody tr th:only-of-type {\n",
              "        vertical-align: middle;\n",
              "    }\n",
              "\n",
              "    .dataframe tbody tr th {\n",
              "        vertical-align: top;\n",
              "    }\n",
              "\n",
              "    .dataframe thead th {\n",
              "        text-align: right;\n",
              "    }\n",
              "</style>\n",
              "<table border=\"1\" class=\"dataframe\">\n",
              "  <thead>\n",
              "    <tr style=\"text-align: right;\">\n",
              "      <th></th>\n",
              "      <th>recency</th>\n",
              "      <th>r_score</th>\n",
              "      <th>frequency</th>\n",
              "      <th>f_score</th>\n",
              "      <th>monetary</th>\n",
              "      <th>m_score</th>\n",
              "      <th>rfm_score</th>\n",
              "    </tr>\n",
              "  </thead>\n",
              "  <tbody>\n",
              "    <tr>\n",
              "      <th>96030</th>\n",
              "      <td>140</td>\n",
              "      <td>5</td>\n",
              "      <td>1</td>\n",
              "      <td>1</td>\n",
              "      <td>22.78</td>\n",
              "      <td>1</td>\n",
              "      <td>7</td>\n",
              "    </tr>\n",
              "    <tr>\n",
              "      <th>95178</th>\n",
              "      <td>562</td>\n",
              "      <td>1</td>\n",
              "      <td>1</td>\n",
              "      <td>1</td>\n",
              "      <td>764.52</td>\n",
              "      <td>5</td>\n",
              "      <td>7</td>\n",
              "    </tr>\n",
              "    <tr>\n",
              "      <th>11267</th>\n",
              "      <td>392</td>\n",
              "      <td>2</td>\n",
              "      <td>1</td>\n",
              "      <td>1</td>\n",
              "      <td>173.88</td>\n",
              "      <td>4</td>\n",
              "      <td>7</td>\n",
              "    </tr>\n",
              "    <tr>\n",
              "      <th>60252</th>\n",
              "      <td>316</td>\n",
              "      <td>3</td>\n",
              "      <td>1</td>\n",
              "      <td>1</td>\n",
              "      <td>416.54</td>\n",
              "      <td>5</td>\n",
              "      <td>9</td>\n",
              "    </tr>\n",
              "    <tr>\n",
              "      <th>28059</th>\n",
              "      <td>279</td>\n",
              "      <td>3</td>\n",
              "      <td>1</td>\n",
              "      <td>1</td>\n",
              "      <td>62.91</td>\n",
              "      <td>2</td>\n",
              "      <td>6</td>\n",
              "    </tr>\n",
              "    <tr>\n",
              "      <th>59735</th>\n",
              "      <td>185</td>\n",
              "      <td>4</td>\n",
              "      <td>1</td>\n",
              "      <td>1</td>\n",
              "      <td>136.88</td>\n",
              "      <td>4</td>\n",
              "      <td>9</td>\n",
              "    </tr>\n",
              "    <tr>\n",
              "      <th>91199</th>\n",
              "      <td>531</td>\n",
              "      <td>1</td>\n",
              "      <td>1</td>\n",
              "      <td>1</td>\n",
              "      <td>1033.12</td>\n",
              "      <td>5</td>\n",
              "      <td>7</td>\n",
              "    </tr>\n",
              "    <tr>\n",
              "      <th>39023</th>\n",
              "      <td>151</td>\n",
              "      <td>4</td>\n",
              "      <td>1</td>\n",
              "      <td>1</td>\n",
              "      <td>427.23</td>\n",
              "      <td>5</td>\n",
              "      <td>10</td>\n",
              "    </tr>\n",
              "  </tbody>\n",
              "</table>\n",
              "</div>"
            ],
            "text/plain": [
              "       recency  r_score  frequency  f_score  monetary  m_score  rfm_score\n",
              "96030      140        5          1        1     22.78        1          7\n",
              "95178      562        1          1        1    764.52        5          7\n",
              "11267      392        2          1        1    173.88        4          7\n",
              "60252      316        3          1        1    416.54        5          9\n",
              "28059      279        3          1        1     62.91        2          6\n",
              "59735      185        4          1        1    136.88        4          9\n",
              "91199      531        1          1        1   1033.12        5          7\n",
              "39023      151        4          1        1    427.23        5         10"
            ]
          },
          "execution_count": 1340,
          "metadata": {},
          "output_type": "execute_result"
        }
      ],
      "source": [
        "rfm_df['r_score'] = pd.qcut(rfm_df['recency'], q=5, labels=False, duplicates='drop')\n",
        "rfm_df['r_score'] = rfm_df['r_score'].max() - rfm_df['r_score'] + 1\n",
        "rfm_df['f_score'] = pd.qcut(rfm_df['frequency'], q=5, labels=False, duplicates='drop') + 1\n",
        "rfm_df['m_score'] = pd.qcut(rfm_df['monetary'], q=5, labels=False, duplicates='drop') + 1\n",
        "\n",
        "rfm_df['rfm_score'] = rfm_df['r_score'] + rfm_df['f_score'] + rfm_df['m_score']\n",
        "\n",
        "rfm_df[['recency', 'r_score', 'frequency', 'f_score', 'monetary', 'm_score', 'rfm_score']].sample(8)\n"
      ]
    },
    {
      "cell_type": "code",
      "execution_count": 1341,
      "metadata": {},
      "outputs": [
        {
          "name": "stdout",
          "output_type": "stream",
          "text": [
            "       recency  frequency  monetary  rfm_score                segment\n",
            "0          161          1    141.90          9   High Value Customers\n",
            "1          164          1     27.19          6  Medium Value Customer\n",
            "2          586          1     86.22          4    Low Value Customers\n",
            "3          370          1     43.62          4    Low Value Customers\n",
            "4          337          1    196.89          7  Medium Value Customer\n",
            "...        ...        ...       ...        ...                    ...\n",
            "96088      496          1   2067.42          7  Medium Value Customer\n",
            "96089      311          1     84.58          6  Medium Value Customer\n",
            "96090      618          1    112.46          5    Low Value Customers\n",
            "96091      169          1    133.69          9   High Value Customers\n",
            "96092      533          1     71.56          4    Low Value Customers\n",
            "\n",
            "[96091 rows x 5 columns]\n"
          ]
        }
      ],
      "source": [
        "# Define function to assign RFM segments\n",
        "def segment_rfm(row):\n",
        "    if row['rfm_score'] >= 12:\n",
        "        return 'Top Customers'\n",
        "    elif row['rfm_score'] >= 9:\n",
        "        return 'High Value Customers'\n",
        "    elif row['rfm_score'] >= 6:\n",
        "        return 'Medium Value Customer'\n",
        "    elif row['rfm_score'] >= 3:\n",
        "        return 'Low Value Customers'\n",
        "    else:\n",
        "        return 'Lost Customers'\n",
        "\n",
        "# Apply segmentation function to each row\n",
        "rfm_df['segment'] = rfm_df.apply(segment_rfm, axis=1)\n",
        "\n",
        "# Print the result\n",
        "print(rfm_df[['recency', 'frequency', 'monetary', 'rfm_score', 'segment']])"
      ]
    },
    {
      "cell_type": "code",
      "execution_count": 1342,
      "metadata": {},
      "outputs": [
        {
          "data": {
            "text/html": [
              "<div>\n",
              "<style scoped>\n",
              "    .dataframe tbody tr th:only-of-type {\n",
              "        vertical-align: middle;\n",
              "    }\n",
              "\n",
              "    .dataframe tbody tr th {\n",
              "        vertical-align: top;\n",
              "    }\n",
              "\n",
              "    .dataframe thead th {\n",
              "        text-align: right;\n",
              "    }\n",
              "</style>\n",
              "<table border=\"1\" class=\"dataframe\">\n",
              "  <thead>\n",
              "    <tr style=\"text-align: right;\">\n",
              "      <th></th>\n",
              "      <th>segment</th>\n",
              "      <th>customer_unique_id</th>\n",
              "    </tr>\n",
              "  </thead>\n",
              "  <tbody>\n",
              "    <tr>\n",
              "      <th>0</th>\n",
              "      <td>High Value Customers</td>\n",
              "      <td>23434</td>\n",
              "    </tr>\n",
              "    <tr>\n",
              "      <th>1</th>\n",
              "      <td>Low Value Customers</td>\n",
              "      <td>23621</td>\n",
              "    </tr>\n",
              "    <tr>\n",
              "      <th>2</th>\n",
              "      <td>Medium Value Customer</td>\n",
              "      <td>49036</td>\n",
              "    </tr>\n",
              "  </tbody>\n",
              "</table>\n",
              "</div>"
            ],
            "text/plain": [
              "                 segment  customer_unique_id\n",
              "0   High Value Customers               23434\n",
              "1    Low Value Customers               23621\n",
              "2  Medium Value Customer               49036"
            ]
          },
          "execution_count": 1342,
          "metadata": {},
          "output_type": "execute_result"
        }
      ],
      "source": [
        "customer_segment_df = rfm_df.groupby(by=\"segment\", as_index=False).customer_unique_id.nunique()\n",
        "customer_segment_df"
      ]
    },
    {
      "cell_type": "code",
      "execution_count": 1349,
      "metadata": {},
      "outputs": [
        {
          "data": {
            "image/png": "[encoded data removed]",
            "text/plain": [
              "<Figure size 1000x500 with 1 Axes>"
            ]
          },
          "metadata": {},
          "output_type": "display_data"
        }
      ],
      "source": [
        "plt.figure(figsize=(10, 5))\n",
        "colors = ['brown', 'grey', 'grey']\n",
        "\n",
        "sns.barplot(\n",
        "    x=\"customer_unique_id\", \n",
        "    y=\"segment\",\n",
        "    data=customer_segment_df.sort_values(by=\"segment\", ascending=False),\n",
        "    palette=colors,\n",
        "    hue='segment'\n",
        ")\n",
        "plt.title(\"Number of Customer for Each Segment\", loc=\"center\", fontsize=15)\n",
        "plt.ylabel(None)\n",
        "plt.xlabel(None)\n",
        "plt.tick_params(axis='y', labelsize=12)\n",
        "plt.show()"
      ]
    },
    {
      "cell_type": "markdown",
      "metadata": {
        "id": "_WeHlCeX8DC2"
      },
      "source": [
        "## Conclusion"
      ]
    },
    {
      "cell_type": "markdown",
      "metadata": {
        "id": "ZTcyR48Y8DC2"
      },
      "source": [
        "- Conclution pertanyaan 1\n",
        "- Conclution pertanyaan 2"
      ]
    }
  ],
  "metadata": {
    "colab": {
      "provenance": []
    },
    "kernelspec": {
      "display_name": "Python 3",
      "language": "python",
      "name": "python3"
    },
    "language_info": {
      "codemirror_mode": {
        "name": "ipython",
        "version": 3
      },
      "file_extension": ".py",
      "mimetype": "text/x-python",
      "name": "python",
      "nbconvert_exporter": "python",
      "pygments_lexer": "ipython3",
      "version": "3.11.3"
    },
    "orig_nbformat": 4,
    "vscode": {
      "interpreter": {
        "hash": "972b3bf27e332e87b5379f2791f6ef9dfc79c71018c370b0d7423235e20fe4d7"
      }
    }
  },
  "nbformat": 4,
  "nbformat_minor": 0
}
