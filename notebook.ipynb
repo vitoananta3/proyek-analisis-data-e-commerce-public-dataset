{
  "cells": [
    {
      "cell_type": "markdown",
      "metadata": {
        "id": "PMixoPttDVZe"
      },
      "source": [
        "# Kriteria\n",
        "1. (**DONE**) Menggunakan Salah Satu dari Dataset yang Telah Disediakan\n",
        "2. Melakukan Seluruh Proses Analisis Data [**Min 2 pertanyaan bisnis dan 2 visualisasi data**]\n",
        "3. (**DONE**) Proses Analisis Dibuat dalam Notebook yang Rapi\n",
        "4. Membuat Dashboard Sederhana Menggunakan Streamlit"
      ]
    },
    {
      "cell_type": "markdown",
      "metadata": {
        "id": "XbAcFjY2FDMR"
      },
      "source": [
        "# Saran\n",
        "1. Memberikan dokumentasi menggunakan markdown/text cell pada notebook (.ipynb) untuk menjelaskan setiap tahapan analisis data.\n",
        "2. Membuat visualisasi data yang baik dan efektif dengan menerapkan prinsip desain dan integritas.\n",
        "3. Deploy dashboard ke dalam streamlit cloud.\n",
        "4. Menerapkan teknik analisis lanjutan seperti RFM analysis, geoanalysis, clustering, dll. (Tanpa menggunakan algoritma machine learning)."
      ]
    },
    {
      "cell_type": "markdown",
      "metadata": {
        "id": "p9UCK2XMI8jn"
      },
      "source": [
        "# Ketentuan Pengiriman Submission\n",
        "* Berkas submission yang dikirim merupakan folder proyek analisis data dalam format ZIP. Ia mengandung beberapa berkas seperti berikut.\n",
        "  1. Dataset yang digunakan dalam proses analisis data.\n",
        "  2. Berkas Jupyter Notebook atau Colab Notebook (.ipynb). Pastikan berkas notebook tersebut sudah dijalankan.\n",
        "  3. Berkas Python (.py) yang digunakan untuk membuat dashboard dengan streamlit.\n",
        "  4. Berkas requirements.txt yang berisi berbagai library yang digunakan dalam proses analisis data. Berikut contoh berkas requirements yang digunakan pada proyek latihan: requirements.txt. Anda bisa menggunakan library pipreqs atau pipreqsnb (notebook) untuk menghasilkan berkas requirements secara otomatis berdasarkan import yang dilakukan.\n",
        "  5. Berkas Markdown (README.md) yang berisi cara menjalankan dashboard (contoh: dicoding collection dashboard).\n",
        "\n",
        "* Jika Anda menerapkan saran pertama, pastikan Anda memberikan penjelasan singkat mengenai tahapan analisis yang dilakukan dan insight dari output analisis tersebut.\n",
        "* Jika Anda menerapkan saran kedua, pastikan seluruh visualisasi yang dibuat telah menerapkan prinsip desain dan integritas.\n",
        "* Jika Anda menerapkan saran ketiga, tuliskan tautan untuk dashboard tersebut dalam berkas url.txt.\n",
        "* Jika Anda menerapkan saran keempat, pastikan untuk menulis penjelasan terkait metode analisis yang digunakan dalam markdown/text cell pada berkas Jupyter Notebook atau Colab Notebook."
      ]
    },
    {
      "cell_type": "markdown",
      "metadata": {
        "id": "N6oAkhb0Jj_C"
      },
      "source": [
        "# Format Berkas Submission\n",
        "Berkas submission yang dikirimkan merupakan sebuah folder yang disimpan dalam bentuk ZIP. Folder berisi beberapa berkas seperti berikut.\n",
        "\n",
        "* Dataset yang digunakan dalam proses analisis data.\n",
        "* Berkas Jupyter Notebook atau Colab Notebook (.ipynb).\n",
        "* Berkas Python (.py).\n",
        "* Berkas Markdown (README.md).\n",
        "* Berkas requirements.txt.\n",
        "* Berkas url.txt (jika menerapkan saran ketiga).\n",
        "\n",
        "```\n",
        "submission\n",
        "├───dashboard\n",
        "| ├───main_data.csv\n",
        "| └───dashboard.py\n",
        "├───data\n",
        "| ├───data_1.csv\n",
        "| └───data_2.csv\n",
        "├───notebook.ipynb\n",
        "├───README.md\n",
        "└───requirements.txt\n",
        "└───url.txt\n",
        "```"
      ]
    },
    {
      "cell_type": "markdown",
      "metadata": {
        "id": "H9wADwK78DCz"
      },
      "source": [
        "# Proyek Analisis Data: E-Commerce Public Dataset\n",
        "- **Nama:** Vito Febrian Ananta\n",
        "- **Email:** vitobriannt@gmail.com\n",
        "- **ID Dicoding:** vitoananta3"
      ]
    },
    {
      "cell_type": "markdown",
      "metadata": {
        "id": "eE0raob58DC0"
      },
      "source": [
        "## Menentukan Pertanyaan Bisnis"
      ]
    },
    {
      "cell_type": "markdown",
      "metadata": {
        "id": "GmQeQ5YF8DC0"
      },
      "source": [
        "1. Berapa total pendapatan per bulan? (Untuk mengetahui keuntungan dan perkembangan perusahaan)\n",
        "\n",
        "3. Bagaimana demografi pelanggan? (Untuk mengetahui karakteristik pelanggan) (RFM)\n",
        "\n",
        "2. Produk apa yang paling banyak dan yang paling sedikit dijual? (Untuk mengetahui tren produk yang dijual)\n",
        "\n",
        "4. Bagaimana performa produk yang dijual berdasarkan kategorinya? (Untuk mengetahui kualitas produk yang dijual dan apa yang perlu dikembangkan)\n",
        "\n",
        "5. Kota mana yang paling berpengaruh terhadap pendapatan? (Untuk mengjangkau lebih banyak pelanngan dengan strategi periklanan) (Geoanalysis)"
      ]
    },
    {
      "cell_type": "markdown",
      "metadata": {
        "id": "H-z4QGlO8DC1"
      },
      "source": [
        "## Import Semua Packages/Library yang Digunakan"
      ]
    },
    {
      "cell_type": "code",
      "execution_count": 1,
      "metadata": {
        "id": "FVYwaObI8DC1"
      },
      "outputs": [],
      "source": [
        "import pandas as pd\n",
        "import numpy as np\n",
        "import matplotlib.pyplot as plt\n",
        "import seaborn as sns\n"
      ]
    },
    {
      "cell_type": "markdown",
      "metadata": {
        "id": "h_Sh51Xy8DC1"
      },
      "source": [
        "## Data Wrangling"
      ]
    },
    {
      "cell_type": "markdown",
      "metadata": {
        "id": "sXU2GBYu8DC1"
      },
      "source": [
        "### Gathering Data"
      ]
    },
    {
      "cell_type": "code",
      "execution_count": null,
      "metadata": {
        "id": "zjCBk1BI8DC1"
      },
      "outputs": [],
      "source": []
    },
    {
      "cell_type": "markdown",
      "metadata": {
        "id": "FHSiqaZp8DC1"
      },
      "source": [
        "### Assessing Data"
      ]
    },
    {
      "cell_type": "code",
      "execution_count": null,
      "metadata": {
        "id": "ax-3tEjc9Cj1"
      },
      "outputs": [],
      "source": []
    },
    {
      "cell_type": "markdown",
      "metadata": {
        "id": "EhN5R4hr8DC1"
      },
      "source": [
        "### Cleaning Data"
      ]
    },
    {
      "cell_type": "code",
      "execution_count": null,
      "metadata": {
        "id": "jVnYpprE9Evz"
      },
      "outputs": [],
      "source": []
    },
    {
      "cell_type": "markdown",
      "metadata": {
        "id": "gp-Y6wU38DC1"
      },
      "source": [
        "## Exploratory Data Analysis (EDA)"
      ]
    },
    {
      "cell_type": "markdown",
      "metadata": {
        "id": "MW7WF2kr8DC1"
      },
      "source": [
        "### Explore ..."
      ]
    },
    {
      "cell_type": "code",
      "execution_count": null,
      "metadata": {
        "id": "e9CQCZjk8DC2"
      },
      "outputs": [],
      "source": []
    },
    {
      "cell_type": "markdown",
      "metadata": {
        "id": "zsyZjqak8DC2"
      },
      "source": [
        "## Visualization & Explanatory Analysis"
      ]
    },
    {
      "cell_type": "markdown",
      "metadata": {
        "id": "HZxOiQ6n8DC2"
      },
      "source": [
        "### Pertanyaan 1:"
      ]
    },
    {
      "cell_type": "code",
      "execution_count": null,
      "metadata": {
        "id": "1swJUdAD8DC2"
      },
      "outputs": [],
      "source": []
    },
    {
      "cell_type": "markdown",
      "metadata": {
        "id": "DgHI7CiU8DC2"
      },
      "source": [
        "### Pertanyaan 2:"
      ]
    },
    {
      "cell_type": "code",
      "execution_count": null,
      "metadata": {
        "id": "Go0lCsvO8DC2"
      },
      "outputs": [],
      "source": []
    },
    {
      "cell_type": "markdown",
      "metadata": {
        "id": "_WeHlCeX8DC2"
      },
      "source": [
        "## Conclusion"
      ]
    },
    {
      "cell_type": "markdown",
      "metadata": {
        "id": "ZTcyR48Y8DC2"
      },
      "source": [
        "- Conclution pertanyaan 1\n",
        "- Conclution pertanyaan 2"
      ]
    }
  ],
  "metadata": {
    "colab": {
      "provenance": []
    },
    "kernelspec": {
      "display_name": "Python 3",
      "language": "python",
      "name": "python3"
    },
    "language_info": {
      "codemirror_mode": {
        "name": "ipython",
        "version": 3
      },
      "file_extension": ".py",
      "mimetype": "text/x-python",
      "name": "python",
      "nbconvert_exporter": "python",
      "pygments_lexer": "ipython3",
      "version": "3.11.3"
    },
    "orig_nbformat": 4,
    "vscode": {
      "interpreter": {
        "hash": "972b3bf27e332e87b5379f2791f6ef9dfc79c71018c370b0d7423235e20fe4d7"
      }
    }
  },
  "nbformat": 4,
  "nbformat_minor": 0
}
